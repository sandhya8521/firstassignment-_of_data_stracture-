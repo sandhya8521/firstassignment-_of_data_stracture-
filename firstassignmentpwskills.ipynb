{
 "cells": [
  {
   "cell_type": "markdown",
   "id": "89f9b16e-7bd0-45a4-8c24-42c2ebbd00e8",
   "metadata": {},
   "source": [
    "1.write a code to reverse a string"
   ]
  },
  {
   "cell_type": "code",
   "execution_count": 73,
   "id": "34a36e71-d7e7-49c2-b903-e33edeeddc9b",
   "metadata": {},
   "outputs": [
    {
     "name": "stdout",
     "output_type": "stream",
     "text": [
      "Original String: PWSKILLS!\n",
      "Reversed String: !SLLIKSWP\n"
     ]
    }
   ],
   "source": [
    "def reverse_string(string):\n",
    "    return string[::-1]\n",
    "\n",
    "input_string = \"PWSKILLS!\"\n",
    "reversed_string = reverse_string(input_string)\n",
    "print(\"Original String:\", input_string)\n",
    "print(\"Reversed String:\", reversed_string)"
   ]
  },
  {
   "cell_type": "markdown",
   "id": "9d50632c-bda2-4f25-8bc8-6ab86fce2c1f",
   "metadata": {},
   "source": [
    "2.write a code to count the number of vowels in a string "
   ]
  },
  {
   "cell_type": "code",
   "execution_count": 4,
   "id": "f522ee62-fcf2-47ca-aab4-8573cdb25fa7",
   "metadata": {},
   "outputs": [
    {
     "name": "stdout",
     "output_type": "stream",
     "text": [
      "Number of vowels in the string: 1\n"
     ]
    }
   ],
   "source": [
    "def count_vowels(string):\n",
    "    vowels = \"aeiouAEIOU\"\n",
    "    count = 0\n",
    "    for char in string:\n",
    "        if char in vowels:\n",
    "            count += 1\n",
    "    return count\n",
    "\n",
    "input_string = \" PWSKILLS!\"\n",
    "num_vowels = count_vowels(input_string)\n",
    "print(\"Number of vowels in the string:\", num_vowels)"
   ]
  },
  {
   "cell_type": "markdown",
   "id": "6f668fee-b65c-4f5b-b62d-65083d299117",
   "metadata": {},
   "source": [
    "3.write a code to check if a given string is a palindrome or not"
   ]
  },
  {
   "cell_type": "code",
   "execution_count": 6,
   "id": "7b22f5df-4927-439e-af1f-ae861cdd409c",
   "metadata": {},
   "outputs": [
    {
     "name": "stdout",
     "output_type": "stream",
     "text": [
      "The string is a palindrome.\n"
     ]
    }
   ],
   "source": [
    "def is_palindrome(string):\n",
    "    # Reverse the string and compare with the original\n",
    "    return string == string[::-1]\n",
    "\n",
    "input_string = \"racecar\"\n",
    "if is_palindrome(input_string):\n",
    "    print(\"The string is a palindrome.\")\n",
    "else:\n",
    "    print(\"The string is not a palindrome.\")"
   ]
  },
  {
   "cell_type": "markdown",
   "id": "1e7a1128-df5a-4d70-83a0-e9ec85fb4564",
   "metadata": {},
   "source": [
    "4.write a code  to check if two given strings are anagrams of each other"
   ]
  },
  {
   "cell_type": "code",
   "execution_count": 8,
   "id": "034ef276-6964-46af-ad56-53421bc74bc5",
   "metadata": {},
   "outputs": [
    {
     "name": "stdout",
     "output_type": "stream",
     "text": [
      "The strings are not anagrams.\n"
     ]
    }
   ],
   "source": [
    "def are_anagrams(str1, str2):\n",
    "    # Remove spaces and convert to lowercase for case-insensitive comparison\n",
    "    str1 = str1.replace(\" \", \"\").lower()\n",
    "    str2 = str2.replace(\" \", \"\").lower()\n",
    "    \n",
    "    # Sort the characters in both strings and compare\n",
    "    return sorted(str1) == sorted(str2)\n",
    "\n",
    "string1 = \" dad\"\n",
    "string2 = \" bad\"\n",
    "if are_anagrams(string1, string2):\n",
    "    print(\"The strings are anagrams.\")\n",
    "else:\n",
    "    print(\"The strings are not anagrams.\")"
   ]
  },
  {
   "cell_type": "markdown",
   "id": "c8ee9e31-53da-4283-b3e4-22555929a7ad",
   "metadata": {},
   "source": [
    "5.write  a code to find all occurances of a given string subtracting within another string"
   ]
  },
  {
   "cell_type": "code",
   "execution_count": 10,
   "id": "3f1eec2b-46c4-4290-834d-04b2aea1ff95",
   "metadata": {},
   "outputs": [
    {
     "name": "stdout",
     "output_type": "stream",
     "text": [
      "Occurrences of 'iss' within 'mississippi':\n",
      "[1, 4]\n"
     ]
    }
   ],
   "source": [
    "def find_occurrences(main_string, sub_string):\n",
    "    return [i for i in range(len(main_string) - len(sub_string) + 1) if main_string[i:i+len(sub_string)] == sub_string]\n",
    "\n",
    "main_string = \"mississippi\"\n",
    "sub_string = \"iss\"\n",
    "result = find_occurrences(main_string, sub_string)\n",
    "print(\"Occurrences of '{}' within '{}':\".format(sub_string, main_string))\n",
    "print(result)"
   ]
  },
  {
   "cell_type": "markdown",
   "id": "27383b21-b865-4246-8c35-8bdefdf5b541",
   "metadata": {},
   "source": [
    "6.write a code to perfor basic string compression using the count of repeated characters"
   ]
  },
  {
   "cell_type": "code",
   "execution_count": 12,
   "id": "9a2e073a-dc0a-418e-a7e3-6e2bb444955d",
   "metadata": {},
   "outputs": [
    {
     "name": "stdout",
     "output_type": "stream",
     "text": [
      "Compressed string: a2b1c5a3\n"
     ]
    }
   ],
   "source": [
    "from itertools import groupby\n",
    "\n",
    "def compress_string(string):\n",
    "    compressed = \"\"\n",
    "    for char, group in groupby(string):\n",
    "        compressed += char + str(len(list(group)))\n",
    "    return compressed if len(compressed) < len(string) else string\n",
    "\n",
    "input_string = \"aabcccccaaa\"\n",
    "compressed_string = compress_string(input_string)\n",
    "print(\"Compressed string:\", compressed_string)"
   ]
  },
  {
   "cell_type": "markdown",
   "id": "f128a571-5399-4b89-a825-1616b5a9c7f6",
   "metadata": {},
   "source": [
    "7.write a code to determine if a string has all unique characters"
   ]
  },
  {
   "cell_type": "code",
   "execution_count": 14,
   "id": "073a870d-8b4a-483f-8c3b-bf1fcab5556c",
   "metadata": {},
   "outputs": [
    {
     "name": "stdout",
     "output_type": "stream",
     "text": [
      "The string has all unique characters.\n"
     ]
    }
   ],
   "source": [
    "def has_unique_characters(string):\n",
    "    char_count = {}\n",
    "    for char in string:\n",
    "        if char in char_count:\n",
    "            return False\n",
    "        char_count[char] = 1\n",
    "    return True\n",
    "\n",
    " \n",
    "input_string = \"abcdefg\"\n",
    "if has_unique_characters(input_string):\n",
    "    print(\"The string has all unique characters.\")\n",
    "else:\n",
    "    print(\"The string does not have all unique characters.\")"
   ]
  },
  {
   "cell_type": "markdown",
   "id": "dbb3935d-0c6c-4ab8-86cc-98b85b49e5e6",
   "metadata": {},
   "source": [
    "8.write a code to convert a given string to uppercase or lowercase"
   ]
  },
  {
   "cell_type": "code",
   "execution_count": 16,
   "id": "83cf32b0-0d2c-43a7-8e01-e6ae9f6fc199",
   "metadata": {},
   "outputs": [
    {
     "name": "stdout",
     "output_type": "stream",
     "text": [
      "Uppercase string: PWSKILLS!\n",
      "Lowercase string:  pwskills!\n"
     ]
    }
   ],
   "source": [
    "input_string = \"PWSKILLS!\"\n",
    "uppercase_string = input_string.upper()\n",
    "print(\"Uppercase string:\", uppercase_string)\n",
    "input_string = \" PWSKILLS!\"\n",
    "lowercase_string = input_string.lower()\n",
    "print(\"Lowercase string:\", lowercase_string)"
   ]
  },
  {
   "cell_type": "markdown",
   "id": "e1049a45-2205-4c08-81b1-e39afcbcfded",
   "metadata": {},
   "source": [
    "9.write a code to count the number of words in a string"
   ]
  },
  {
   "cell_type": "code",
   "execution_count": 18,
   "id": "38242144-f5a6-4d63-b65e-24e9c83851ac",
   "metadata": {},
   "outputs": [
    {
     "name": "stdout",
     "output_type": "stream",
     "text": [
      "Number of words in the string: 5\n"
     ]
    }
   ],
   "source": [
    "input_string = \"My name is sandhya kumari\"\n",
    "word_count = len(input_string.split())\n",
    "print(\"Number of words in the string:\", word_count)"
   ]
  },
  {
   "cell_type": "markdown",
   "id": "3eb268cb-3f4c-422d-ae9c-f9968819f5b0",
   "metadata": {},
   "source": [
    "10.write a code to  concantenate two strings without using the + operator"
   ]
  },
  {
   "cell_type": "code",
   "execution_count": 20,
   "id": "4d4695db-8ff0-4149-a830-76205228cfe1",
   "metadata": {},
   "outputs": [
    {
     "name": "stdout",
     "output_type": "stream",
     "text": [
      "List after removing element 4: [1, 2, 3, 3, 5, 3]\n"
     ]
    }
   ],
   "source": [
    "input_list = [1, 2, 3, 4, 3, 5, 3]\n",
    "element_to_remove = 4\n",
    "\n",
    "while element_to_remove in input_list:\n",
    "    input_list.remove(element_to_remove)\n",
    "\n",
    "print(\"List after removing element {}: {}\".format(element_to_remove, input_list))\n"
   ]
  },
  {
   "cell_type": "markdown",
   "id": "66f65406-a669-4e4f-8c5a-af200c738854",
   "metadata": {},
   "source": [
    "11.implement a code  to find the second largest number in a given list of integers"
   ]
  },
  {
   "cell_type": "code",
   "execution_count": 23,
   "id": "a5c86c86-c831-4887-a74f-829c2d1c503d",
   "metadata": {},
   "outputs": [
    {
     "name": "stdout",
     "output_type": "stream",
     "text": [
      "Second largest number: 99\n"
     ]
    }
   ],
   "source": [
    "def second_largest(lst):\n",
    "    if len(lst) < 2:\n",
    "        return \"There is no second largest element.\"\n",
    "    else:\n",
    "        sorted_list = sorted(lst)\n",
    "        return sorted_list[-2]\n",
    "\n",
    " \n",
    "input_list = [10, 20, 4, 45, 99, 99, 45, 5]\n",
    "result = second_largest(input_list)\n",
    "print(\"Second largest number:\", result)"
   ]
  },
  {
   "cell_type": "markdown",
   "id": "2c21aa98-44ee-4696-afe1-3baed6a9cf3c",
   "metadata": {},
   "source": [
    "12.create a code to count the occurrences of each elements in a list  and return a dictionary with elements as keys and their counts as values\n"
   ]
  },
  {
   "cell_type": "code",
   "execution_count": 25,
   "id": "80061296-d24e-492c-8002-944d33058349",
   "metadata": {},
   "outputs": [
    {
     "name": "stdout",
     "output_type": "stream",
     "text": [
      "8 has occurred 5 times\n"
     ]
    }
   ],
   "source": [
    "def countX(lst, x):\n",
    "    return lst.count(x)\n",
    " \n",
    "\n",
    "lst = [8, 6, 8, 10, 8, 20, 10, 8, 8]\n",
    "x = 8\n",
    "print('{} has occurred {} times'.format(x, \n",
    "                                        countX(lst, x)))"
   ]
  },
  {
   "cell_type": "markdown",
   "id": "69e1290c-1656-4310-b475-aa73713175c4",
   "metadata": {},
   "source": [
    "13.write a code to  reverse a list in place without using any built-in reverse functions"
   ]
  },
  {
   "cell_type": "code",
   "execution_count": 27,
   "id": "463c8ceb-fc22-4b0e-9786-b3bfda60ecc9",
   "metadata": {},
   "outputs": [
    {
     "name": "stdout",
     "output_type": "stream",
     "text": [
      "Reversed list: [5, 4, 3, 2, 1]\n"
     ]
    }
   ],
   "source": [
    "def reverse_list_in_place(lst):\n",
    "    length = len(lst)\n",
    "    for i in range(length // 2):\n",
    "        lst[i], lst[length - i - 1] = lst[length - i - 1], lst[i]\n",
    "\n",
    "input_list = [1, 2, 3, 4, 5]\n",
    "reverse_list_in_place(input_list)\n",
    "print(\"Reversed list:\", input_list)"
   ]
  },
  {
   "cell_type": "markdown",
   "id": "4953c31c-2800-4127-b05e-3608707ecdae",
   "metadata": {},
   "source": [
    "14.implment a code to find and remove duplicates from a list while preserving the original order of elements"
   ]
  },
  {
   "cell_type": "code",
   "execution_count": 29,
   "id": "04664dda-753b-45b1-93d3-59a7d123e032",
   "metadata": {},
   "outputs": [
    {
     "name": "stdout",
     "output_type": "stream",
     "text": [
      "List with duplicates removed: [1, 2, 3, 4, 5, 6, 7, 9, 10]\n"
     ]
    }
   ],
   "source": [
    "def remove_duplicates(lst):\n",
    "    result = []\n",
    "    for item in lst:\n",
    "        if item not in result:\n",
    "            result.append(item)\n",
    "    return result\n",
    "\n",
    "input_list = [1, 2, 3, 2, 4, 3, 5, 6, 5,7,9,10]\n",
    "unique_list = remove_duplicates(input_list)\n",
    "print(\"List with duplicates removed:\", unique_list)\n"
   ]
  },
  {
   "cell_type": "markdown",
   "id": "5e472d37-ab9d-45f4-9928-95da77f247b6",
   "metadata": {},
   "source": [
    "15.create a code to check if a given list is sorted(either in ascending or descending order ) or not"
   ]
  },
  {
   "cell_type": "code",
   "execution_count": 31,
   "id": "5eb368d2-1521-4f77-bf6f-e9bc36c7642c",
   "metadata": {},
   "outputs": [
    {
     "name": "stdout",
     "output_type": "stream",
     "text": [
      "Ascending List: Ascending\n",
      "Descending List: Not sorted\n",
      "Unsorted List: Not sorted\n"
     ]
    }
   ],
   "source": [
    "def is_sorted(lst):\n",
    "    if lst == sorted(lst):\n",
    "        return \"Ascending\"\n",
    "    elif lst == sorted(lst, reverse=True):\n",
    "        return \"Descending\"\n",
    "    else:\n",
    "        return \"Not sorted\"\n",
    "\n",
    "input_list_asc = [1, 2, 3, 4, 5,7,9,10]\n",
    "input_list_desc = [5, 4, 3, 2, 1,6,5,15]\n",
    "input_list_unsorted = [3, 1, 4, 2, 5]\n",
    "\n",
    "print(\"Ascending List:\", is_sorted(input_list_asc))\n",
    "print(\"Descending List:\", is_sorted(input_list_desc))\n",
    "print(\"Unsorted List:\", is_sorted(input_list_unsorted))"
   ]
  },
  {
   "cell_type": "markdown",
   "id": "ef58ba7c-c602-4005-887a-60352a08ba32",
   "metadata": {},
   "source": [
    "16.write a code to merge two sorted lists into a single sorted list\n"
   ]
  },
  {
   "cell_type": "code",
   "execution_count": 33,
   "id": "2b97b070-2022-4276-b273-5ca9a0c373d7",
   "metadata": {},
   "outputs": [
    {
     "name": "stdout",
     "output_type": "stream",
     "text": [
      "The original list 1 is : [4, 5, 6, 9, 11]\n",
      "The original list 2 is : [9, 3, 6, 8, 10]\n",
      "The combined sorted list is : [3, 4, 5, 6, 6, 8, 9, 9, 10, 11]\n"
     ]
    }
   ],
   "source": [
    "test_list1 = [4, 5, 6, 9, 11]\n",
    "test_list2 = [9, 3, 6, 8, 10]\n",
    " \n",
    "# printing original lists \n",
    "print (\"The original list 1 is : \" + str(test_list1))\n",
    "print (\"The original list 2 is : \" + str(test_list2))\n",
    " \n",
    "# using sorted()\n",
    "# to combine two sorted lists\n",
    "res = sorted(test_list1 + test_list2)\n",
    " \n",
    "# printing result\n",
    "print (\"The combined sorted list is : \" + str(res))"
   ]
  },
  {
   "cell_type": "markdown",
   "id": "21e1d954-29f5-4e94-8856-daf61f355158",
   "metadata": {},
   "source": [
    "17.implement a code to find the intersection  of two given lists"
   ]
  },
  {
   "cell_type": "code",
   "execution_count": 35,
   "id": "3ad26bce-57d0-41a4-9a75-8257ef60d724",
   "metadata": {},
   "outputs": [
    {
     "name": "stdout",
     "output_type": "stream",
     "text": [
      "[9, 11, 26, 28, 70]\n"
     ]
    }
   ],
   "source": [
    "def intersection(lst1, lst2):\n",
    "    lst3 = [value for value in lst1 if value in lst2]\n",
    "    return lst3\n",
    " \n",
    "lst1 = [4, 9, 1, 17, 11, 26, 28, 54, 69, 70]\n",
    "lst2 = [9, 9, 74, 21, 45, 11, 70, 63, 28, 26]\n",
    "print(intersection(lst1, lst2))\n"
   ]
  },
  {
   "cell_type": "markdown",
   "id": "89c4c3b3-305d-44ce-84eb-14e30a6fb958",
   "metadata": {},
   "source": [
    "18.write a code to find the union of two lists withouts duplicates\n"
   ]
  },
  {
   "cell_type": "code",
   "execution_count": 37,
   "id": "9e47f09e-30b0-47ec-a2d9-c37594bf9ea4",
   "metadata": {},
   "outputs": [
    {
     "name": "stdout",
     "output_type": "stream",
     "text": [
      "The resultant merged list is \n",
      "[65, 1, 67, 8, 45, 23, 89, 90, 31]\n"
     ]
    }
   ],
   "source": [
    "list1 = [23, 45, 65, 31, 1, 89]\n",
    "list2 = [67, 89, 23, 45, 8, 90]\n",
    " \n",
    "ans = list(set(list1 + list2))\n",
    " \n",
    "print(\"The resultant merged list is \")\n",
    "print(ans)\n"
   ]
  },
  {
   "cell_type": "markdown",
   "id": "df2c4336-8af6-4a9a-8cc4-0bb9fc1b9dd3",
   "metadata": {},
   "source": [
    "19.write a code to shuffle a given list randoly without using any built-in shuffle  functions\n"
   ]
  },
  {
   "cell_type": "code",
   "execution_count": 39,
   "id": "d3a3a7f3-bee8-4c55-b371-0385d7aca988",
   "metadata": {},
   "outputs": [
    {
     "name": "stdout",
     "output_type": "stream",
     "text": [
      "The original list is : [2, 8, 4, 7, 9]\n",
      "The shuffled list is : [7, 8, 9, 4, 2]\n"
     ]
    }
   ],
   "source": [
    "import random\n",
    " \n",
    "test_list = [2, 8, 4, 7, 9]\n",
    " \n",
    "print(\"The original list is : \" + str(test_list))\n",
    " \n",
    "random.shuffle(test_list)\n",
    " \n",
    "print(\"The shuffled list is : \" + str(test_list))\n",
    "\n",
    "\n"
   ]
  },
  {
   "cell_type": "markdown",
   "id": "d6e43487-d4e1-41c7-948c-c70f02579baa",
   "metadata": {},
   "source": [
    "20.writes a code that takes two tuples as input and returns a new tuple containing elements that are comon to both input tuples"
   ]
  },
  {
   "cell_type": "code",
   "execution_count": 41,
   "id": "adc1f72b-ef53-4a5a-9130-b1da28900ddb",
   "metadata": {},
   "outputs": [
    {
     "name": "stdout",
     "output_type": "stream",
     "text": [
      "Common elements in the two tuples: (9, 3, 4, 6)\n"
     ]
    }
   ],
   "source": [
    "def common_elements(tuple1, tuple2):\n",
    "    set1 = set(tuple1)\n",
    "    set2 = set(tuple2)\n",
    "    common_set = set1.intersection(set2)\n",
    "    return tuple(common_set)\n",
    "tuple1 = (6, 3, 4, 9, 8)\n",
    "tuple2 = (3, 9, 5, 6, 4)\n",
    "common_tuple = common_elements(tuple1, tuple2)\n",
    "print(\"Common elements in the two tuples:\", common_tuple)"
   ]
  },
  {
   "cell_type": "markdown",
   "id": "916c6281-618f-4855-8fdd-f138b806cff9",
   "metadata": {},
   "source": [
    "21.create  a code that  prompts the user to enter two sets of integers separated by commas. then, print the intersections of these two sets"
   ]
  },
  {
   "cell_type": "code",
   "execution_count": 43,
   "id": "cf951973-dc19-423e-9dca-5155ac24f0b2",
   "metadata": {},
   "outputs": [
    {
     "name": "stdout",
     "output_type": "stream",
     "text": [
      "{45, 93, 62, 22}\n"
     ]
    }
   ],
   "source": [
    "s1 = {15, 62, 93, 75, 45, 22}\n",
    "s2 = {62, 93,45, 22}\n",
    "print(s1.intersection(s2))"
   ]
  },
  {
   "cell_type": "markdown",
   "id": "960b4a1b-1458-4ec8-8a46-6c3c13231585",
   "metadata": {},
   "source": [
    "22.write a code to concantenate two  tuples . the function should take two tuples as input and return a new tuple containing elements from both input tuples"
   ]
  },
  {
   "cell_type": "code",
   "execution_count": 45,
   "id": "93999ff2-f755-4e49-a650-d4de53b6665d",
   "metadata": {},
   "outputs": [
    {
     "name": "stdout",
     "output_type": "stream",
     "text": [
      "Concatenated tuple: (18, 92, 53, 44, 53, 69)\n"
     ]
    }
   ],
   "source": [
    "def concatenate_tuples(tuple1, tuple2):\n",
    "    return tuple1 + tuple2\n",
    "tuple1 = (18, 92, 53)\n",
    "tuple2 = (44, 53, 69)\n",
    "concatenated_tuple = concatenate_tuples(tuple1, tuple2)\n",
    "print(\"Concatenated tuple:\", concatenated_tuple)"
   ]
  },
  {
   "cell_type": "markdown",
   "id": "cec62410-e950-4e5e-b4d7-4d04f388d2ed",
   "metadata": {},
   "source": [
    "23.develop a code prommpts the user to input two sets of strings . then, print  the eleents that  are present in the firs set but not in the second set"
   ]
  },
  {
   "cell_type": "code",
   "execution_count": 48,
   "id": "7462c592-3313-49cc-b7ec-aa1a5a7d951f",
   "metadata": {},
   "outputs": [
    {
     "name": "stdout",
     "output_type": "stream",
     "text": [
      "{9, 5}\n",
      "{9, 6}\n"
     ]
    }
   ],
   "source": [
    "def common_member(a, b):\n",
    "    a_set = set(a)\n",
    "    b_set = set(b)\n",
    " \n",
    "    if (a_set & b_set):\n",
    "        print(a_set & b_set)\n",
    "    else:\n",
    "        print(\"No common elements\") \n",
    "          \n",
    "  \n",
    "a = [1, 2, 3, 4, 5, 9]\n",
    "b = [5, 6, 7, 8, 9, 7]\n",
    "common_member(a, b)\n",
    "  \n",
    "a = [1, 2, 3, 4, 5, 9,6]\n",
    "b = [6, 7, 8, 9]\n",
    "common_member(a, b)"
   ]
  },
  {
   "cell_type": "markdown",
   "id": "6c913bc7-c450-4d67-970c-42a62621968e",
   "metadata": {},
   "source": [
    "24.create a code that takes a tuples and two  integers as input. the function should return a  new tuples containing elements from the original tuple within the speceificed range of indices"
   ]
  },
  {
   "cell_type": "code",
   "execution_count": 53,
   "id": "96d12a9b-a6e2-48cf-a210-af278d903007",
   "metadata": {},
   "outputs": [
    {
     "name": "stdout",
     "output_type": "stream",
     "text": [
      "Sliced tuple: (6, 4, 5, 3, 7, 5)\n"
     ]
    }
   ],
   "source": [
    "def slice_tuple(tuple_data, start_index, end_index):\n",
    "    return tuple_data[start_index:end_index + 1]\n",
    "\n",
    "original_tuple = (1, 2, 6, 4, 5, 3, 7, 5, 9)\n",
    "start_index = 2\n",
    "end_index = 7\n",
    "result_tuple = slice_tuple(original_tuple, start_index, end_index)\n",
    "print(\"Sliced tuple:\", result_tuple)"
   ]
  },
  {
   "cell_type": "markdown",
   "id": "aeab1379-d166-4465-b613-9376aeb1cd3b",
   "metadata": {},
   "source": [
    "25.write a code that prompts that user t input two sets of cgharacters. then print the union of these two sets "
   ]
  },
  {
   "cell_type": "code",
   "execution_count": 55,
   "id": "942e0a21-d2f1-4239-820d-05a224b1b139",
   "metadata": {},
   "outputs": [
    {
     "name": "stdout",
     "output_type": "stream",
     "text": [
      "A U B: {41, 76, 87, 55, 90}\n"
     ]
    }
   ],
   "source": [
    "A = {90, 41, 55, 76} \n",
    "B = {41, 76, 87, 90}\n",
    " \n",
    "print(\"A U B:\", A.union(B))"
   ]
  },
  {
   "cell_type": "markdown",
   "id": "6a702994-e903-4a01-906e-730b31573482",
   "metadata": {},
   "source": [
    "26.develop a code that takes a tuple of integers  as input. the function should return the aximum andminimum values from the tuples using tuple unpacking"
   ]
  },
  {
   "cell_type": "code",
   "execution_count": 56,
   "id": "74618e55-e208-42f9-b0c5-e2818b8e9740",
   "metadata": {},
   "outputs": [
    {
     "name": "stdout",
     "output_type": "stream",
     "text": [
      "Maximum value: 95\n",
      "Minimum value: 28\n"
     ]
    }
   ],
   "source": [
    "def find_max_min(tuple_data):\n",
    "    # Use tuple unpacking to get maximum and minimum values\n",
    "    max_value = max(tuple_data)\n",
    "    min_value = min(tuple_data)\n",
    "    return max_value, min_value\n",
    "\n",
    "input_tuple = (33, 51, 67, 45, 28, 91, 95)\n",
    "max_value, min_value = find_max_min(input_tuple)\n",
    "print(\"Maximum value:\", max_value)\n",
    "print(\"Minimum value:\", min_value)"
   ]
  },
  {
   "cell_type": "markdown",
   "id": "f6af4b48-12cc-45e1-9731-aa5e2c457f0b",
   "metadata": {},
   "source": [
    "27.ceate a code that  defines  two sets of integers. then print the union , intersection, and difference of these two sets"
   ]
  },
  {
   "cell_type": "code",
   "execution_count": 58,
   "id": "29c1b79d-d433-4038-aa9b-0c98cb586b09",
   "metadata": {},
   "outputs": [
    {
     "name": "stdout",
     "output_type": "stream",
     "text": [
      "Union : {0, 1, 2, 3, 4, 5, 6, 8}\n",
      "Intersection : {2, 4}\n",
      "Difference : {0, 8, 6}\n"
     ]
    }
   ],
   "source": [
    "A = {0, 2, 4, 6, 8}; \n",
    "B = {1, 2, 3, 4, 5}; \n",
    "  \n",
    "# union \n",
    "print(\"Union :\", A | B) \n",
    "  \n",
    "# intersection \n",
    "print(\"Intersection :\", A & B) \n",
    "  \n",
    "# difference \n",
    "print(\"Difference :\", A - B) "
   ]
  },
  {
   "cell_type": "markdown",
   "id": "c72c4e0b-a3e8-48e8-b664-ae7807f9bc16",
   "metadata": {},
   "source": [
    "28.write a code that takes a tuple and an elements as input . the function  should return the count of occurrences of the given elements in the tuples"
   ]
  },
  {
   "cell_type": "code",
   "execution_count": 60,
   "id": "63cf3b12-fa91-4f03-ac43-9ee9948fc748",
   "metadata": {},
   "outputs": [
    {
     "name": "stdout",
     "output_type": "stream",
     "text": [
      "Occurrences of 2 in the tuple: 0\n"
     ]
    }
   ],
   "source": [
    "def count_occurrences(tuple_data, element):\n",
    "    return tuple_data.count(element)\n",
    "\n",
    "input_tuple = (21, 42, 63, 92, 64, 25, 95)\n",
    "element = 2\n",
    "occurrences = count_occurrences(input_tuple, element)\n",
    "print(\"Occurrences of\", element, \"in the tuple:\", occurrences)"
   ]
  },
  {
   "cell_type": "markdown",
   "id": "6993e4d4-40f7-4eae-ab99-840b56142c22",
   "metadata": {},
   "source": [
    "29.develop a code that prompts the user to input  two sets of strings. then print the stmmetric diffenees of these two sets"
   ]
  },
  {
   "cell_type": "code",
   "execution_count": 62,
   "id": "a1ff67a9-6496-463a-830d-50f28e93f36b",
   "metadata": {},
   "outputs": [
    {
     "name": "stdout",
     "output_type": "stream",
     "text": [
      "{66, 81, 87, 95, 33, 99, 62, 63}\n"
     ]
    }
   ],
   "source": [
    "set_A = {81, 62, 33, 64, 95}\n",
    "set_B = {66, 87, 63, 99, 64}\n",
    "print(set_A.symmetric_difference(set_B))"
   ]
  },
  {
   "cell_type": "markdown",
   "id": "3eaff15e-ed63-4fd4-9ee1-7b948bededbd",
   "metadata": {},
   "source": [
    "30.write a code that takes a list of words as input and returns  a dictionary  where the keys are unique words and the values are the frequencies of those words in the input  list"
   ]
  },
  {
   "cell_type": "code",
   "execution_count": 64,
   "id": "e45047a7-d244-42b7-b892-803d2a5455e3",
   "metadata": {},
   "outputs": [
    {
     "name": "stdout",
     "output_type": "stream",
     "text": [
      "Word frequency dictionary: {'apple': 2, 'orange': 2, 'banana': 2}\n"
     ]
    }
   ],
   "source": [
    "from collections import Counter\n",
    "\n",
    "def word_frequency(input_list):\n",
    "    return dict(Counter(input_list))\n",
    "\n",
    "input_list = [\"apple\", \"orange\", \"banana\", \"orange\", \"banana\", \"apple\"]\n",
    "frequency_dict = word_frequency(input_list)\n",
    "print(\"Word frequency dictionary:\", frequency_dict)"
   ]
  },
  {
   "cell_type": "markdown",
   "id": "d8557e65-94bf-4f43-b05f-56859892350e",
   "metadata": {},
   "source": [
    "31.write a code that takes two dictionarkes as input and merges them into a single dictionary. if there are common keys , the values should be added  together"
   ]
  },
  {
   "cell_type": "code",
   "execution_count": 66,
   "id": "8960ed54-9707-4ae0-8ea5-191b768058ff",
   "metadata": {},
   "outputs": [
    {
     "name": "stdout",
     "output_type": "stream",
     "text": [
      "Merged Dictionary: {'a': 15, 'b': 80, 'c': 125, 'd': 60}\n"
     ]
    }
   ],
   "source": [
    "def merge_dictionaries(dict1, dict2):\n",
    "    merged_dict = dict1.copy()  # Make a copy of the first dictionary\n",
    "\n",
    "    for key, value in dict2.items():\n",
    "        if key in merged_dict:\n",
    "            merged_dict[key] += value  # If the key is already present, add the values\n",
    "        else:\n",
    "            merged_dict[key] = value   # If the key is not present, simply add it to the merged dictionary\n",
    "\n",
    "    return merged_dict\n",
    "dict1 = {'a': 15, 'b': 40, 'c': 75}\n",
    "dict2 = {'b': 40, 'c': 50, 'd': 60}\n",
    "merged_dictionary = merge_dictionaries(dict1, dict2)\n",
    "print(\"Merged Dictionary:\", merged_dictionary)"
   ]
  },
  {
   "cell_type": "markdown",
   "id": "699a8041-e456-4839-96f9-d19a6ed9d2db",
   "metadata": {},
   "source": [
    "32.write a code that takes a dictionary as input and returns a sorted  verson of it  absed on the values. you can  choose whethet to sort in ascending or descending order "
   ]
  },
  {
   "cell_type": "code",
   "execution_count": 70,
   "id": "4c2d9c46-de3b-4171-b6cd-70f9a74f257f",
   "metadata": {},
   "outputs": [
    {
     "name": "stdout",
     "output_type": "stream",
     "text": [
      "Ascending Sorted Dictionary: {'grape': 3, 'orange': 4, 'apple': 6, 'banana': 9}\n",
      "Descending Sorted Dictionary: {'banana': 9, 'apple': 6, 'orange': 4, 'grape': 3}\n"
     ]
    }
   ],
   "source": [
    "def sort_dictionary_by_values(dictionary, reverse=False):\n",
    "    sorted_dict = dict(sorted(dictionary.items(), key=lambda item: item[1], reverse=reverse))\n",
    "    return sorted_dict\n",
    "\n",
    "input_dict = {'apple': 6, 'banana': 9, 'orange': 4, 'grape': 3}\n",
    "ascending_sorted_dict = sort_dictionary_by_values(input_dict)\n",
    "descending_sorted_dict = sort_dictionary_by_values(input_dict, reverse=True)\n",
    "\n",
    "print(\"Ascending Sorted Dictionary:\", ascending_sorted_dict)\n",
    "print(\"Descending Sorted Dictionary:\", descending_sorted_dict)\n"
   ]
  },
  {
   "cell_type": "markdown",
   "id": "3611e344-db5b-4074-b2db-894798a17ed5",
   "metadata": {},
   "source": [
    "33.write  a code that inverts a dictionary , swapping keys and values. ensure that the inverted dictionary correctly handles cases where  multiple keys have the same value by sorting the keys  as a  list in the inverted dictionary"
   ]
  },
  {
   "cell_type": "code",
   "execution_count": 72,
   "id": "9e02ce45-9acd-48d2-80f5-fb46ab8e03d3",
   "metadata": {},
   "outputs": [
    {
     "name": "stdout",
     "output_type": "stream",
     "text": [
      "Inverted Dictionary: {5: ['a', 'c'], 4: ['b'], 3: ['d']}\n"
     ]
    }
   ],
   "source": [
    "def invert_dictionary(dictionary):\n",
    "    inverted_dict = {}\n",
    "    for key, value in dictionary.items():\n",
    "        inverted_dict[value] = inverted_dict.get(value, []) + [key]\n",
    "    return {key: sorted(values) for key, values in inverted_dict.items()}\n",
    "\n",
    "original_dict = {'a': 5, 'b': 4, 'c': 5, 'd': 3}\n",
    "inverted_dict = invert_dictionary(original_dict)\n",
    "print(\"Inverted Dictionary:\", inverted_dict)"
   ]
  }
 ],
 "metadata": {
  "kernelspec": {
   "display_name": "Python 3 (ipykernel)",
   "language": "python",
   "name": "python3"
  },
  "language_info": {
   "codemirror_mode": {
    "name": "ipython",
    "version": 3
   },
   "file_extension": ".py",
   "mimetype": "text/x-python",
   "name": "python",
   "nbconvert_exporter": "python",
   "pygments_lexer": "ipython3",
   "version": "3.10.8"
  }
 },
 "nbformat": 4,
 "nbformat_minor": 5
}
