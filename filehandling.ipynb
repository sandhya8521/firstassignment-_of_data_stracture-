{
 "cells": [
  {
   "cell_type": "markdown",
   "id": "32e79c39-f68a-4bc0-812e-0b3ae6d0c903",
   "metadata": {},
   "source": [
    "1.Write a code to read the contents of a file in Python."
   ]
  },
  {
   "cell_type": "code",
   "execution_count": 2,
   "id": "3ffb908d-2b6d-422d-bcac-870d88720253",
   "metadata": {},
   "outputs": [
    {
     "name": "stdout",
     "output_type": "stream",
     "text": [
      "\n"
     ]
    }
   ],
   "source": [
    "# Open the file\n",
    "file = open('example.txt', 'r')\n",
    "\n",
    "# Read the file\n",
    "content = file.read()\n",
    "\n",
    "# Print the content\n",
    "print(content)\n",
    "\n",
    "# Close the file\n",
    "file.close()"
   ]
  },
  {
   "cell_type": "markdown",
   "id": "db71675b-db88-498a-b490-7f900690f8f2",
   "metadata": {},
   "source": [
    "2.Write a code to write to a file in Python."
   ]
  },
  {
   "cell_type": "code",
   "execution_count": null,
   "id": "1945bd1f-7035-42af-a6bc-cc5a6b1e44e6",
   "metadata": {},
   "outputs": [],
   "source": [
    "file_object = open(r\"file_name\", \"access_mode\")"
   ]
  },
  {
   "cell_type": "markdown",
   "id": "b4ec73c1-7d82-4a26-9f78-7f76e00def82",
   "metadata": {},
   "source": [
    "3.write a code to appened to a file in python."
   ]
  },
  {
   "cell_type": "code",
   "execution_count": null,
   "id": "b90bae99-085a-4927-aa29-2337f85519ca",
   "metadata": {},
   "outputs": [],
   "source": [
    "f = open(\"file.txt\",\"a\")\n",
    "f.write(\"tyuxet\")\n",
    "f.close()\n",
    "     \n",
    "    "
   ]
  },
  {
   "cell_type": "markdown",
   "id": "a5c0adfc-727c-4069-9bfe-f937ade48628",
   "metadata": {},
   "source": [
    "4.write a code to read a binary file in python."
   ]
  },
  {
   "cell_type": "code",
   "execution_count": null,
   "id": "1991dc10-6ff1-4905-834c-5f463456ad47",
   "metadata": {},
   "outputs": [],
   "source": [
    "# Open the same file 'data.bin' in binary read mode ('rb')\n",
    "with open('/content/data.bin', 'rb') as file:\n",
    "    # Read the binary data from the file\n",
    "    binary_data = file.read()\n",
    "    # Print the binary data to the console\n",
    "    print(binary_data)"
   ]
  },
  {
   "cell_type": "markdown",
   "id": "750bab28-5b3d-4a8b-9524-ca4ff896252b",
   "metadata": {},
   "source": [
    "5.What happens if we don't use with keyword with open in python."
   ]
  },
  {
   "cell_type": "markdown",
   "id": "2f946755-056e-423f-9051-9331996fa74b",
   "metadata": {},
   "source": [
    ".Without with: You must manually close the file using file.close().\n",
    ".With 'with': The file is automatically closed when the block inside with is exited, making the code cleaner and safer. This is the recommended approach.\n"
   ]
  },
  {
   "cell_type": "markdown",
   "id": "150a6baa-8dbc-4c83-8f1c-ea9d3956c626",
   "metadata": {},
   "source": [
    "6.Explain the concept of buffering in file handling and how it helps in improving read and write operations."
   ]
  },
  {
   "cell_type": "markdown",
   "id": "9e8eca5b-57aa-4c21-a3c4-1b99f0c7714f",
   "metadata": {},
   "source": [
    "Buffering in file handling is like using a temporary holding area for data, which helps make reading from and writing to a file more efficient. Here’s an easy way to understand it:-\n",
    "\n",
    "*Without buffering: The program reads or writes one small piece of data at a time, interacting directly with the file each time. This is slow because each operation involves waiting for the file system to respond.\n",
    "*With buffering: The program reads or writes larger chunks of data into a temporary area (buffer) in memory, reducing the number of times it needs to access the file.\n"
   ]
  },
  {
   "cell_type": "markdown",
   "id": "faa79397-8c2f-4c66-9804-917dcc8071b6",
   "metadata": {},
   "source": [
    "7.Describe the steps involved in implementing buffered file handling in a programming language of your choice."
   ]
  },
  {
   "cell_type": "markdown",
   "id": "f683f07f-b812-4a63-a19f-401a00701d46",
   "metadata": {},
   "source": [
    "Steps to Implement Buffered File Handling in Python:-\n",
    "\n",
    "1.Open the File: Use the open() function with the appropriate mode and buffering settings.\n",
    "2 Read/Write Data: Perform read or write operations. Data will be buffered automatically based on the mode you have chosen.\n",
    "3.Close the File: Ensure the file is closed after operations are complete. This can be done automatically using a with statement.\n"
   ]
  },
  {
   "cell_type": "code",
   "execution_count": 2,
   "id": "3b3592ff-8e88-49fc-aa96-459f06953cbb",
   "metadata": {},
   "outputs": [],
   "source": [
    "# Open a file in write mode with default buffering (fully buffered)\n",
    "file = open('example.txt', 'w')\n",
    "\n",
    "\n",
    "# Write data to the file (it goes into the buffer first)\n",
    "file.write('This is an example of buffered writing.\\n')\n",
    "file.write('Buffering helps to improve performance.\\n')\n",
    "\n",
    "\n",
    "# Close the file to flush the buffer and save the data to disk\n",
    "file.close()\n",
    "\n",
    "\n",
    "# Using the with statement to open, write, and automatically close the file\n",
    "with open('example.txt', 'w') as file:\n",
    "    file.write('This is an example of buffered writing.\\n')\n",
    "    file.write('Buffering helps to improve performance.\\n')\n"
   ]
  },
  {
   "cell_type": "markdown",
   "id": "8d6a982b-b078-4f5c-a836-a4f6d3f76205",
   "metadata": {},
   "source": [
    "8.Write a Python function to read a text file using buffered reading and return its contents."
   ]
  },
  {
   "cell_type": "markdown",
   "id": "2f934565-c2e2-4356-83b1-940a4842affd",
   "metadata": {},
   "source": [
    "Function to Read a Text File :-\n",
    "\n",
    "1.Open the File: Use the with open() statement to open the file in read mode.\n",
    "2.Read the File: Use the read() method to read the entire content of the file.\n",
    "3.Return the Content: Return the read content.\n"
   ]
  },
  {
   "cell_type": "code",
   "execution_count": null,
   "id": "c5e073fe-ddad-4c2d-b4cc-ff23408ba786",
   "metadata": {},
   "outputs": [],
   "source": [
    "with open(file_path, 'r') as file: #open the file\n",
    "content = file.read() # read the file\n",
    "return content # return the content\n"
   ]
  },
  {
   "cell_type": "markdown",
   "id": "0fdf3acb-c6ff-423a-9b11-82013e53a13f",
   "metadata": {},
   "source": [
    "9.What are the advantages of using buffered reading over direct file reading in Python."
   ]
  },
  {
   "cell_type": "markdown",
   "id": "1f27ce7c-8140-42a1-add1-5464b929798f",
   "metadata": {},
   "source": [
    "Advantages of Buffered Reading:-\n",
    "\n",
    "1.Faster Reading: Reading large chunks of data at once is quicker than reading one byte or one line at a time. This is like   \n",
    "                  taking a whole book page by page instead of letter by letter.\n",
    "2.Fewer Disk Accesses:Fewer trips to the hard drive are needed because more data is read into memory at once. This reduces the \n",
    "                      time spent waiting for the hard drive.\n",
    "3.Less Processing Overhead: Fewer read operations mean less work for the CPU, making your program run more efficiently.\n",
    "             "
   ]
  },
  {
   "cell_type": "markdown",
   "id": "b60f4e4a-bda1-4636-9d5d-fdbb38583b75",
   "metadata": {},
   "source": [
    "10.Write a Python code snippet to append content to a file using buffered writing."
   ]
  },
  {
   "cell_type": "code",
   "execution_count": 4,
   "id": "43c38602-3408-49bf-8a81-dfb47d80ff58",
   "metadata": {},
   "outputs": [
    {
     "name": "stdout",
     "output_type": "stream",
     "text": [
      "This is an example of buffered writing.\n",
      "Buffering helps to improve performance.\n",
      "This is the new content to be appended.\n",
      "\n"
     ]
    }
   ],
   "source": [
    "def append_to_file(file_path, content):\n",
    "    with open(file_path, 'a') as file:  # Open the file in append mode\n",
    "        file.write(content)  # Write the content to the end of the file\n",
    "\n",
    "\n",
    "file_path = 'example.txt'\n",
    "content_to_append = 'This is the new content to be appended.\\n'\n",
    "append_to_file(file_path, content_to_append)\n",
    "\n",
    "# Optional: Verify by reading the file\n",
    "with open(file_path, 'r') as file:\n",
    "    print(file.read())\n"
   ]
  },
  {
   "cell_type": "markdown",
   "id": "4f31240a-560c-4cdf-8646-580754411ea7",
   "metadata": {},
   "source": [
    "11.Write a Python function that demonstrates the use of close() method on a file."
   ]
  },
  {
   "cell_type": "code",
   "execution_count": null,
   "id": "ceed84b7-ed7a-4960-8f3d-9e8f485ab5e0",
   "metadata": {},
   "outputs": [],
   "source": [
    "f = open(\"file.txt\",\"w\")\n",
    "f.close()\n",
    "f = open(\"file.txt\",\"r\")"
   ]
  },
  {
   "cell_type": "markdown",
   "id": "d0870795-1792-4f83-b807-e35cce2ee4fe",
   "metadata": {},
   "source": [
    "12.Create a Python function to showcase the detach() method on a file object."
   ]
  },
  {
   "cell_type": "markdown",
   "id": "64391f1d-8fc5-49da-8435-3e918d4b7fee",
   "metadata": {},
   "source": [
    "13.Write a Python function to demonstrate the use of the seek() method to change the file position."
   ]
  },
  {
   "cell_type": "markdown",
   "id": "347c7e90-6a53-405a-8f45-18d71200a496",
   "metadata": {},
   "source": [
    "seek():- method in Python is used to change the current file position. It allows you to move to a specific location in the \n",
    "         file, which can be useful for reading or writing at specific positions."
   ]
  },
  {
   "cell_type": "code",
   "execution_count": 6,
   "id": "8656e778-df88-4977-aa3c-97e1aa3204b6",
   "metadata": {},
   "outputs": [],
   "source": [
    "with open(file_path, 'w') as file:\n",
    "    file.write(\"Hello, this is a sample text file\")\n",
    "\n"
   ]
  },
  {
   "cell_type": "code",
   "execution_count": null,
   "id": "20bf0f3f-21ee-41f0-a138-a4b1cf304709",
   "metadata": {},
   "outputs": [],
   "source": [
    "with open(file_path, 'r') as file: ##Open the File in Read Mode to Demonstrate Seeking\n"
   ]
  },
  {
   "cell_type": "code",
   "execution_count": null,
   "id": "897f79c0-bc25-4c96-845b-b8e44d5a76c7",
   "metadata": {},
   "outputs": [],
   "source": [
    "file.seek(0)  #Move to the Beginning of the File:\n",
    "print(\"Starting at the beginning of the file:\")\n",
    "print(file.readline())  # Should print the first line\n"
   ]
  },
  {
   "cell_type": "code",
   "execution_count": null,
   "id": "2cf54014-a3fd-4e47-9e9a-9a0595ea5f53",
   "metadata": {},
   "outputs": [],
   "source": [
    "file.seek(7)\n",
    "print(\"\\nAfter seeking to the 7th byte:\")\n",
    "print(file.readline())  # Should start reading from the 7th byte\n"
   ]
  },
  {
   "cell_type": "code",
   "execution_count": null,
   "id": "4296918a-ac02-43f1-8dee-c8bde78bf855",
   "metadata": {},
   "outputs": [],
   "source": [
    "file.seek(-10, 2)\n",
    "print(\"\\nAfter seeking to 10 bytes from the end of the file:\")\n",
    "print(file.readline())  # Should print the last 10 bytes\n"
   ]
  },
  {
   "cell_type": "markdown",
   "id": "185c8083-bb21-4409-8142-66f85f08d694",
   "metadata": {},
   "source": [
    "14.Create a Python function to return the file descriptor (integer number) of a file using the fileno() method."
   ]
  },
  {
   "cell_type": "code",
   "execution_count": null,
   "id": "4dd41590-bd6a-4537-a5fa-79053c4d533b",
   "metadata": {},
   "outputs": [],
   "source": [
    "def get_file_descriptor(filename):\n",
    "    f = open(filename, 'r')\n",
    "    return f.fileno(), f\n",
    "\n",
    "file_descriptor, file_object = get_file_descriptor('file.txt')\n",
    "print(f\"File descriptor: {file_descriptor}\")\n",
    "\n",
    "# Remember to close the file manually after you are done with it\n",
    "file_object.close()\n"
   ]
  },
  {
   "cell_type": "markdown",
   "id": "02b7de3b-c5ee-493c-bfcb-0a7cdee62e67",
   "metadata": {},
   "source": [
    " 15.Write a Python function to return the current position of the file's object using the tell() method."
   ]
  },
  {
   "cell_type": "code",
   "execution_count": null,
   "id": "92bff572-185e-4e56-91d7-9a0657e80d78",
   "metadata": {},
   "outputs": [],
   "source": [
    "return file.tell()\n"
   ]
  },
  {
   "cell_type": "markdown",
   "id": "be4be0d4-6c70-4992-87a4-555b1d3bd129",
   "metadata": {},
   "source": [
    "16.Create a Python program that logs a message to a file using the logging module."
   ]
  },
  {
   "cell_type": "code",
   "execution_count": 11,
   "id": "95f68045-7a06-4332-b0e1-587abf5d3717",
   "metadata": {},
   "outputs": [],
   "source": [
    "import logging\n",
    "logging.basicConfig(filename = \"test.log\",level = logging.DEBUG)\n",
    "logging.info(\"This is info\")\n",
    "logging.debug(\"This is debug\")\n",
    "logging.shutdown()"
   ]
  },
  {
   "cell_type": "markdown",
   "id": "1229d189-f6d2-459d-84f9-a97103b17b25",
   "metadata": {},
   "source": [
    "17.Explain the importance of logging levels in Python's logging module."
   ]
  },
  {
   "cell_type": "markdown",
   "id": "e9324dbf-d70d-4e1f-aa51-e2f157231e4a",
   "metadata": {},
   "source": [
    "Logging levels are important in Python's logging module because they allow you to control the amount of information that is logged. This can be useful for debugging, as you can set the logging level to DEBUG to see all of the messages that are being logged, or you can set it to a higher level, such as INFO, to only see the most important messages."
   ]
  },
  {
   "cell_type": "markdown",
   "id": "9e26ede8-1c9a-4bf9-8a83-919f5d04d393",
   "metadata": {},
   "source": [
    "18..Create a Python program that uses the debugger to find the value of a variable inside a loop."
   ]
  },
  {
   "cell_type": "code",
   "execution_count": null,
   "id": "87fb0b14-a890-4a61-b27f-164ba67114bb",
   "metadata": {},
   "outputs": [],
   "source": [
    "import pdb\n",
    "\n",
    "numbers = [1, 2, 3, 4, 5]\n",
    "\n",
    "for number in numbers: pdb.set_trace() print(number)"
   ]
  },
  {
   "cell_type": "markdown",
   "id": "31725f11-92e9-4710-aa16-425a38e99ae7",
   "metadata": {},
   "source": [
    "19.Create a Python program that demonstrates setting breakpoints and inspecting variables using the debugger."
   ]
  },
  {
   "cell_type": "code",
   "execution_count": null,
   "id": "3c830cdc-44f1-4fdb-a0b9-84ddf49dbee9",
   "metadata": {},
   "outputs": [],
   "source": [
    "import pdb\n",
    "\n",
    "def my_function(a, b): c = a + b pdb.set_trace() d = c * 2 return d\n",
    "\n",
    "my_function(2, 3)"
   ]
  },
  {
   "cell_type": "markdown",
   "id": "251d5a62-a469-47fc-b5a2-4a20e8f6dd7c",
   "metadata": {},
   "source": [
    "20.Create a Python program that uses the debugger to trace a recursive function,"
   ]
  },
  {
   "cell_type": "code",
   "execution_count": null,
   "id": "00e47728-c508-4fd8-a568-2c5a8b637295",
   "metadata": {},
   "outputs": [],
   "source": [
    "def recursive_function(n): if n == 0: return 1 else: pdb.set_trace() return n * recursive_function(n-1)\n",
    "recursive_function(5)"
   ]
  },
  {
   "cell_type": "markdown",
   "id": "c7a2a039-498c-45ec-b45c-85d0b3786150",
   "metadata": {},
   "source": [
    "21.Write a try-except block to handle a ZeroDivisionError."
   ]
  },
  {
   "cell_type": "code",
   "execution_count": null,
   "id": "e2a6e438-904f-4937-b92e-75a35de687fc",
   "metadata": {},
   "outputs": [],
   "source": [
    "try:\n",
    "    a = 10\n",
    "    b = a / 0  # Division by zero error\n",
    "    print(b)\n",
    "except Exception as e:\n",
    "    print(e)\n"
   ]
  },
  {
   "cell_type": "markdown",
   "id": "dafe5129-5f9d-41e7-acdf-e9c72e86feb3",
   "metadata": {},
   "source": [
    "22.How does the else block work with try-except."
   ]
  },
  {
   "cell_type": "code",
   "execution_count": null,
   "id": "622a7ddd-5d7f-48a5-a209-05920974323a",
   "metadata": {},
   "outputs": [],
   "source": [
    "try:\n",
    "  a=10\n",
    "  b=a/2\n",
    "  print(b)\n",
    "except Exception as e:\n",
    "  print(e)\n",
    "\n",
    "else:\n",
    "  print(\"This will be executed when there is no error\")"
   ]
  },
  {
   "cell_type": "markdown",
   "id": "bf17cd41-72b2-4533-8b4f-e8a0aa771acc",
   "metadata": {},
   "source": [
    "23.Implement a try-except-else block to open and read a file."
   ]
  },
  {
   "cell_type": "code",
   "execution_count": null,
   "id": "9e2424a4-caaa-4352-a188-dde395a9cac0",
   "metadata": {},
   "outputs": [],
   "source": [
    "try:\n",
    "  with open(\"file1.txt\",\"r\") as f:\n",
    "    f.read()\n",
    "except Exception as e:\n",
    "  print(e)\n",
    "\n",
    "else:\n",
    "  print(\"This will be executed when there is no error\")\n",
    "     "
   ]
  },
  {
   "cell_type": "markdown",
   "id": "2e4582c8-83a3-4918-b825-070002a97173",
   "metadata": {},
   "source": [
    "[Errno 2] No such file or directory: 'file1.txt'"
   ]
  },
  {
   "cell_type": "markdown",
   "id": "e23262ec-8024-4a1c-97b8-70b375e33197",
   "metadata": {},
   "source": [
    "24.What is the purpose of the finally block in exception handling"
   ]
  },
  {
   "cell_type": "markdown",
   "id": "5a5209fc-0a66-404a-b813-bbaba4c5bf11",
   "metadata": {},
   "source": [
    "The finally block is executed even if the try and except runs sucessfull or not , even exception occurs or not But finally block runs."
   ]
  },
  {
   "cell_type": "markdown",
   "id": "a6151895-0b9b-4278-8a42-5c8e1e408c08",
   "metadata": {},
   "source": [
    "25.Write a try-except-finally block to handle a ValueError."
   ]
  },
  {
   "cell_type": "code",
   "execution_count": null,
   "id": "027e7c2e-2c21-4876-90cb-3f7eb4d3cd5b",
   "metadata": {},
   "outputs": [],
   "source": [
    "try:\n",
    "  int(\"isd\")\n",
    "\n",
    "except Exception as e:\n",
    "  print(e)\n",
    "\n",
    "finally:\n",
    "  print(\"\\nFinally Statement\")"
   ]
  },
  {
   "cell_type": "markdown",
   "id": "5b130459-3576-4f98-bd06-bd6a8ce0820e",
   "metadata": {},
   "source": [
    "invalid literal for int() with base 10: 'isd'"
   ]
  },
  {
   "cell_type": "markdown",
   "id": "e2368d85-5aab-4af7-b9e2-9484c3f564f8",
   "metadata": {},
   "source": [
    "26.How multiple except blocks work in Python."
   ]
  },
  {
   "cell_type": "code",
   "execution_count": 3,
   "id": "9b7b6d7f-3837-4e6f-93e0-d5d27e774be1",
   "metadata": {},
   "outputs": [
    {
     "name": "stdin",
     "output_type": "stream",
     "text": [
      " zerodivisionerror\n"
     ]
    },
    {
     "name": "stdout",
     "output_type": "stream",
     "text": [
      "Value check karo\n",
      "This is finally\n"
     ]
    }
   ],
   "source": [
    "try:\n",
    "  num = int(input())\n",
    "  nam = int(input())\n",
    "  res = num/nam\n",
    "\n",
    "except ZeroDivisionError:\n",
    "  print(\"Zero div error\")\n",
    "except ValueError:\n",
    "  print(\"Value check karo\")\n",
    "except:\n",
    "  print(\"Some error\")\n",
    "\n",
    "else:\n",
    "  print(res)\n",
    "\n",
    "finally:\n",
    "  print(\"This is finally\")"
   ]
  },
  {
   "cell_type": "markdown",
   "id": "d88f2c69-6f70-48f4-b4e8-ef6ee83654a2",
   "metadata": {},
   "source": [
    "27.What is a custom exception in Python."
   ]
  },
  {
   "cell_type": "markdown",
   "id": "777467ce-e6ba-44e2-b87b-875f81c16b46",
   "metadata": {},
   "source": [
    "Programs may name their own exceptions by creating a new exception class."
   ]
  },
  {
   "cell_type": "markdown",
   "id": "c3dcd284-b58a-4ab8-b45a-3cd20f3b025f",
   "metadata": {},
   "source": [
    "28.Create a custom exception class with a message."
   ]
  },
  {
   "cell_type": "code",
   "execution_count": 4,
   "id": "f4931df1-0399-4308-b1fb-9a34fac8c157",
   "metadata": {},
   "outputs": [
    {
     "name": "stdin",
     "output_type": "stream",
     "text": [
      " 879\n"
     ]
    },
    {
     "name": "stdout",
     "output_type": "stream",
     "text": [
      "Done\n"
     ]
    }
   ],
   "source": [
    "class vs(Exception):\n",
    "  def __init__(self,msg):\n",
    "    self.msg = msg\n",
    "\n",
    "def vS(salary):\n",
    "  if salary <0:\n",
    "    raise vs(\"salary can't be negative\")\n",
    "  else:\n",
    "    print(\"Done\")\n",
    "\n",
    "\n",
    "try :\n",
    "  s = int(input())\n",
    "  vS(s)\n",
    "except vs as e:\n",
    "  print(e)\n",
    "     "
   ]
  },
  {
   "cell_type": "markdown",
   "id": "680202e1-c8f7-4f98-bbc7-c28467ba6ab9",
   "metadata": {},
   "source": [
    "29.Write a code to raise a custom exception in Python."
   ]
  },
  {
   "cell_type": "code",
   "execution_count": 5,
   "id": "85c9446d-4f3f-4ccc-811d-0b658d74a43a",
   "metadata": {},
   "outputs": [
    {
     "name": "stdout",
     "output_type": "stream",
     "text": [
      "Caught an exception: Value cannot be negative!\n"
     ]
    }
   ],
   "source": [
    "\n",
    "class MyCustomException(Exception): # Step 1: Define the custom exception class\n",
    "    def __init__(self, message):\n",
    "        super().__init__(message)\n",
    "        self.message = message\n",
    "\n",
    "\n",
    "def check_value(value): # Step 2: Function that raises the custom exception\n",
    "    if value < 0:\n",
    "        raise MyCustomException(\"Value cannot be negative!\")\n",
    "    return f\"Value is: {value}\"\n",
    "\n",
    "\n",
    "try:    # Step 3: Test the custom exception\n",
    "    result = check_value(-10)\n",
    "    print(result)\n",
    "except MyCustomException as e:\n",
    "    print(f\"Caught an exception: {e.message}\")\n"
   ]
  },
  {
   "cell_type": "markdown",
   "id": "c6a89296-03cf-44ea-a414-a6c5b7ed8b53",
   "metadata": {},
   "source": [
    "30.Write a function that raises a custom exception when a value is negative."
   ]
  },
  {
   "cell_type": "code",
   "execution_count": 6,
   "id": "7309a43c-494f-4bff-bfe1-7f7da8e75aad",
   "metadata": {},
   "outputs": [
    {
     "name": "stdin",
     "output_type": "stream",
     "text": [
      " 56565\n"
     ]
    },
    {
     "name": "stdout",
     "output_type": "stream",
     "text": [
      "Done\n"
     ]
    }
   ],
   "source": [
    "class vs(Exception):\n",
    "  def __init__(self,msg):\n",
    "    self.msg = msg\n",
    "\n",
    "def vS(salary):\n",
    "  if salary <0:\n",
    "    raise vs(\"salary can't be negative\")\n",
    "  else:\n",
    "    print(\"Done\")\n",
    "\n",
    "\n",
    "try :\n",
    "  s = int(input())\n",
    "  vS(s)\n",
    "except vs as e:\n",
    "  print(e)"
   ]
  },
  {
   "cell_type": "markdown",
   "id": "32019209-1ac2-4380-b34d-3b14e87a7511",
   "metadata": {},
   "source": [
    "31.What is the role of try, except, else, and finally in handling exceptions."
   ]
  },
  {
   "cell_type": "markdown",
   "id": "44e4588d-fae1-4ca3-b255-35a20e470608",
   "metadata": {},
   "source": [
    "'try' Block:-\n",
    "             The try block contains the code that might raise an exception.\n",
    "             If an exception is raised, the code in the try block is skipped.\n",
    "             The code that might raise an exception is placed inside the try block.\n",
    "Except:\n",
    "             The except block is used to catch and handle the exception that was raised in the try block.\n",
    "             You can specify different exception types to handle specific exceptions.\n",
    "             Multiple except blocks can be used to handle different types of exceptions separately.\n",
    "Else:\n",
    "             The else block contains the code that will be executed if no exception is raised.\n",
    "             The else block is optional.\n",
    "Finally:\n",
    "             The finally block contains the code that will be executed regardless of whether an exception is raised.\n",
    "             The finally block is always executed, even if the code in the try or except blocks raises an exception.\n"
   ]
  },
  {
   "cell_type": "markdown",
   "id": "feb31117-a582-4a09-a0d1-4ed7adaaf7ae",
   "metadata": {},
   "source": [
    "32.How can custom exceptions improve code readability and maintainability."
   ]
  },
  {
   "cell_type": "markdown",
   "id": "74c85e36-f7df-40b9-b0a8-36ae172c9d93",
   "metadata": {},
   "source": [
    "Custom exceptions can improve code readability and maintainability by:\n",
    "\n",
    "Providing more specific error messages:-  When a custom exception is raised, it can include a message that describes the specific error that occurred. This can help developers to quickly understand the problem and fix it.\n",
    "Grouping related errors together:- Custom exceptions can be used to group related errors together. This can make it easier for developers to handle multiple errors in a consistent way.\n",
    "Making code more modular:- Custom exceptions can be used to create modular code. This can make it easier for developers to reuse code and maintain it."
   ]
  },
  {
   "cell_type": "markdown",
   "id": "576f9229-e296-4e73-a5ed-f3e1a0ccd408",
   "metadata": {},
   "source": [
    "33.What is multithreading."
   ]
  },
  {
   "cell_type": "markdown",
   "id": "401b8005-a660-4d52-b7ba-96786fed9fbe",
   "metadata": {},
   "source": [
    "Multithreading is a process of executing multiple threads simultaneously within a single program. It is a technique that allows a program to perform multiple tasks concurrently, thereby increasing its efficiency and performance. In multithreading, multiple threads of execution are created within a single process, and each thread runs independently, sharing the same memory space. This allows different parts of the program to be executed concurrently, without blocking each other."
   ]
  },
  {
   "cell_type": "markdown",
   "id": "f5046d04-fe80-4f22-8003-48540b6e9352",
   "metadata": {},
   "source": [
    "34.Create a thread in Python"
   ]
  },
  {
   "cell_type": "code",
   "execution_count": 8,
   "id": "20273f42-09ca-46d6-b12e-7d1e8aed0702",
   "metadata": {},
   "outputs": [
    {
     "name": "stdout",
     "output_type": "stream",
     "text": [
      "Before\n",
      "sleeping for 15 sec\n",
      "Before\n",
      "sleeping for 15 sec\n",
      "Done sleeping\n",
      "Done sleeping\n",
      "5.007010016590357\n"
     ]
    }
   ],
   "source": [
    "import time\n",
    "import threading\n",
    "s = time.perf_counter()\n",
    "\n",
    "def fun():\n",
    "  print(\"Before\")\n",
    "  print(\"sleeping for 15 sec\")\n",
    "  time.sleep(5)\n",
    "  print(\"Done sleeping\")\n",
    "\n",
    "\n",
    "t1 = threading.Thread(target = fun)\n",
    "t2 = threading.Thread(target = fun)\n",
    "\n",
    "t1.start()\n",
    "t2.start()\n",
    "\n",
    "t1.join()\n",
    "t2.join()\n",
    "\n",
    "\n",
    "e = time.perf_counter()\n",
    "\n",
    "print(e-s)"
   ]
  },
  {
   "cell_type": "markdown",
   "id": "e1631fff-8d63-425b-a063-96417cca5413",
   "metadata": {},
   "source": [
    "35.What is the Global Interpreter Lock (GIL) in Python?"
   ]
  },
  {
   "cell_type": "markdown",
   "id": "c8fe4bfd-61bd-4560-99a4-c6abe5b556a9",
   "metadata": {},
   "source": [
    "The Global Interpreter Lock (GIL) in Python is a mechanism that prevents multiple threads from executing Python bytecode at the same time. This is necessary because Python's memory management is not thread-safe.\n",
    "\n",
    "The GIL is acquired by a thread when it starts executing Python bytecode. The thread holds the GIL until it either releases it voluntarily or is interrupted.\n",
    "\n",
    "The GIL can have a significant impact on the performance of multithreaded Python programs. This is because only one thread can execute Python bytecode at a time, which can lead to contention between threads.\n",
    "\n",
    "here are a number of ways to mitigate the impact of the GIL. One common approach is to use a library that provides a GIL-friendly implementation of the desired functionality. Another approach is to use a different programming language that does not have a GIL."
   ]
  },
  {
   "cell_type": "markdown",
   "id": "7576fde6-5028-442c-862b-8bcc06153fc4",
   "metadata": {},
   "source": [
    "36.Implement a simple multithreading example in Python."
   ]
  },
  {
   "cell_type": "code",
   "execution_count": 9,
   "id": "9d373052-9b01-4ae4-b629-004485ecc84b",
   "metadata": {},
   "outputs": [
    {
     "name": "stdout",
     "output_type": "stream",
     "text": [
      "Before\n",
      "sleeping for 15 sec\n",
      "Before\n",
      "sleeping for 15 sec\n",
      "Done sleeping\n",
      "Done sleeping\n",
      "5.006800606846809\n"
     ]
    }
   ],
   "source": [
    "import time\n",
    "import threading\n",
    "s = time.perf_counter()\n",
    "\n",
    "def fun():\n",
    "  print(\"Before\")\n",
    "  print(\"sleeping for 15 sec\")\n",
    "  time.sleep(5)\n",
    "  print(\"Done sleeping\")\n",
    "\n",
    "\n",
    "t1 = threading.Thread(target = fun)\n",
    "t2 = threading.Thread(target = fun)\n",
    "\n",
    "t1.start()\n",
    "t2.start()\n",
    "\n",
    "t1.join()\n",
    "t2.join()\n",
    "\n",
    "\n",
    "e = time.perf_counter()\n",
    "\n",
    "print(e-s)"
   ]
  },
  {
   "cell_type": "markdown",
   "id": "5af4fa2b-916b-43ad-acb1-7ea59b6c1b86",
   "metadata": {},
   "source": [
    "37.What is the purpose of the join() method in threading?"
   ]
  },
  {
   "cell_type": "markdown",
   "id": "ef3dc81a-68d5-44e3-9094-d3b101528a86",
   "metadata": {},
   "source": [
    "The join() method in threading is used to wait for a thread to complete its execution before continuing. This is useful for ensuring that the main thread does not exit before all of the other threads have finished their work."
   ]
  },
  {
   "cell_type": "markdown",
   "id": "d11b1899-7e43-45e2-9b23-57e59f1bc1d1",
   "metadata": {},
   "source": [
    "38.Describe a scenario where multithreading would be beneficial in Python."
   ]
  },
  {
   "cell_type": "markdown",
   "id": "313cb81f-7130-4e9a-90ad-68a4ef917d1d",
   "metadata": {},
   "source": [
    "Multithreading can be beneficial in Python in a number of scenarios, such as:\n",
    "\n",
    "When performing I/O-bound tasks, such as reading from a file or making a network request.\n",
    "When performing CPU-bound tasks that can be easily parallelized, such as calculating the sum of a large list of numbers.\n",
    "When creating a responsive user interface that needs to update frequently."
   ]
  },
  {
   "cell_type": "markdown",
   "id": "83669df1-8a4e-49eb-ad48-f74b53c345d9",
   "metadata": {},
   "source": [
    "39.What is multiprocessing in Python?"
   ]
  },
  {
   "cell_type": "markdown",
   "id": "c5d63923-c6ae-4025-9e02-ed13e52003af",
   "metadata": {},
   "source": [
    "Multiprocessing in Python is a package that supports the creation and management of multiple processes. It allows you to create multiple processes that can run concurrently, sharing the same memory space. This can be useful for improving the performance of your programs, particularly when you have multiple tasks that can be executed independently."
   ]
  },
  {
   "cell_type": "markdown",
   "id": "83e48e19-d22c-4a21-aef3-1bb97b74dd0d",
   "metadata": {},
   "source": [
    "40.How is multiprocessing different from multithreading in Python?"
   ]
  },
  {
   "cell_type": "markdown",
   "id": "8590d8d2-59a4-40bd-b2ed-17978533695a",
   "metadata": {},
   "source": [
    "Multithreading:\n",
    "\n",
    "Multiple threads of execution within a single process.\n",
    "Share the same memory space.\n",
    "GIL prevents multiple threads from executing Python bytecode at the same time.\n",
    "\n",
    "Multiprocessing:\n",
    "\n",
    "Multiple processes running concurrently.\n",
    "Each process has its own memory space.\n",
    "No GIL, so multiple processes can execute Python bytecode at the same time."
   ]
  },
  {
   "cell_type": "markdown",
   "id": "52864329-9618-4630-824c-4daefb15289a",
   "metadata": {},
   "source": [
    "41.Create a process using the multiprocessing module in Python."
   ]
  },
  {
   "cell_type": "code",
   "execution_count": 13,
   "id": "04aa53cd-c366-4818-b437-55c71b715e7b",
   "metadata": {},
   "outputs": [
    {
     "name": "stdout",
     "output_type": "stream",
     "text": [
      "Before\n",
      "sleeping for 20 sec\n",
      "Before\n",
      "sleeping for 20 sec\n",
      "Done sleeping\n",
      "Done sleeping\n",
      "15.042538736015558\n"
     ]
    }
   ],
   "source": [
    "import time\n",
    "import multiprocessing\n",
    "s = time.perf_counter()\n",
    "\n",
    "def fun():\n",
    "  print(\"Before\")\n",
    "  print(\"sleeping for 20 sec\")\n",
    "  time.sleep(15)\n",
    "  print(\"Done sleeping\")\n",
    "\n",
    "\n",
    "t1 = multiprocessing.Process(target = fun)\n",
    "t2 = multiprocessing.Process(target = fun)\n",
    "\n",
    "t1.start()\n",
    "t2.start()\n",
    "\n",
    "t1.join()\n",
    "t2.join()\n",
    "\n",
    "\n",
    "e = time.perf_counter()\n",
    "\n",
    "print(e-s)"
   ]
  },
  {
   "cell_type": "markdown",
   "id": "9cd0a448-d3e4-437f-b9b2-e572dffbab96",
   "metadata": {},
   "source": [
    "42.Explain the concept of Pool in the multiprocessing module."
   ]
  },
  {
   "cell_type": "markdown",
   "id": "9f52eab1-7ac6-4a61-8632-0bb6ae2a3221",
   "metadata": {},
   "source": [
    "A Pool object in the multiprocessing module is a collection of worker processes that can be used to execute tasks concurrently. This can be useful for improving the performance of your programs, particularly when you have multiple tasks that can be executed independently."
   ]
  },
  {
   "cell_type": "markdown",
   "id": "f70d1a12-1612-48e6-8f6e-9280fd47b490",
   "metadata": {},
   "source": [
    "43.Explain inter-process communication in multiprocessing."
   ]
  },
  {
   "cell_type": "markdown",
   "id": "a2397f78-b8f0-4a0d-a676-73a3a60caf98",
   "metadata": {},
   "source": [
    "Inter-process communication (IPC) in multiprocessing refers to the techniques used for processes to communicate with each other. In Python's multiprocessing module, there are several mechanisms for IPC, including:\n",
    "\n",
    "Pipes: Pipes are used to establish a one-way communication channel between two processes. Data can be sent from one process to another using the send() method, and received using the recv() method.\n",
    "\n",
    "Queues: Queues are used to establish a many-to-many communication channel between multiple processes. Processes can add items to the queue using the put() method, and remove items from the queue using the get() method.\n",
    "\n",
    "Shared memory: Shared memory allows multiple processes to access the same memory space. This can be useful for sharing large amounts of data between processes, without having to copy the data between memory spaces.\n",
    "\n",
    "Locks: Locks are used to synchronize access to shared resources between multiple processes. This can be useful for preventing race conditions, where two or more processes attempt to access the same resource at the same time.\n"
   ]
  }
 ],
 "metadata": {
  "kernelspec": {
   "display_name": "Python 3 (ipykernel)",
   "language": "python",
   "name": "python3"
  },
  "language_info": {
   "codemirror_mode": {
    "name": "ipython",
    "version": 3
   },
   "file_extension": ".py",
   "mimetype": "text/x-python",
   "name": "python",
   "nbconvert_exporter": "python",
   "pygments_lexer": "ipython3",
   "version": "3.10.8"
  }
 },
 "nbformat": 4,
 "nbformat_minor": 5
}
