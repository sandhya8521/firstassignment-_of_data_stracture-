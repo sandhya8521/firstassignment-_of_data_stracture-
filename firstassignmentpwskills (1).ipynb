{
 "cells": [
  {
   "cell_type": "code",
   "execution_count": 1,
   "id": "037d833d-2506-4bac-a6ac-e6da76a2da17",
   "metadata": {},
   "outputs": [],
   "source": [
    "# write a code to reverse a string"
   ]
  },
  {
   "cell_type": "code",
   "execution_count": 73,
   "id": "34a36e71-d7e7-49c2-b903-e33edeeddc9b",
   "metadata": {},
   "outputs": [
    {
     "name": "stdout",
     "output_type": "stream",
     "text": [
      "Original String: PWSKILLS!\n",
      "Reversed String: !SLLIKSWP\n"
     ]
    }
   ],
   "source": [
    "def reverse_string(string):\n",
    "    return string[::-1]\n",
    "\n",
    "input_string = \"PWSKILLS!\"\n",
    "reversed_string = reverse_string(input_string)\n",
    "print(\"Original String:\", input_string)\n",
    "print(\"Reversed String:\", reversed_string)"
   ]
  },
  {
   "cell_type": "code",
   "execution_count": 3,
   "id": "19acbbdb-a95c-4350-9438-93f1cb35c70b",
   "metadata": {},
   "outputs": [],
   "source": [
    "# write a code to count the number of vowels in a string "
   ]
  },
  {
   "cell_type": "code",
   "execution_count": 4,
   "id": "f522ee62-fcf2-47ca-aab4-8573cdb25fa7",
   "metadata": {},
   "outputs": [
    {
     "name": "stdout",
     "output_type": "stream",
     "text": [
      "Number of vowels in the string: 1\n"
     ]
    }
   ],
   "source": [
    "def count_vowels(string):\n",
    "    vowels = \"aeiouAEIOU\"\n",
    "    count = 0\n",
    "    for char in string:\n",
    "        if char in vowels:\n",
    "            count += 1\n",
    "    return count\n",
    "\n",
    "input_string = \" PWSKILLS!\"\n",
    "num_vowels = count_vowels(input_string)\n",
    "print(\"Number of vowels in the string:\", num_vowels)"
   ]
  },
  {
   "cell_type": "code",
   "execution_count": 5,
   "id": "93eed18a-12cf-4b77-811f-80cc09c03bc2",
   "metadata": {},
   "outputs": [],
   "source": [
    "# write a code to check if a given string is a palindrome or not"
   ]
  },
  {
   "cell_type": "code",
   "execution_count": 6,
   "id": "7b22f5df-4927-439e-af1f-ae861cdd409c",
   "metadata": {},
   "outputs": [
    {
     "name": "stdout",
     "output_type": "stream",
     "text": [
      "The string is a palindrome.\n"
     ]
    }
   ],
   "source": [
    "def is_palindrome(string):\n",
    "    # Reverse the string and compare with the original\n",
    "    return string == string[::-1]\n",
    "\n",
    "input_string = \"racecar\"\n",
    "if is_palindrome(input_string):\n",
    "    print(\"The string is a palindrome.\")\n",
    "else:\n",
    "    print(\"The string is not a palindrome.\")"
   ]
  },
  {
   "cell_type": "code",
   "execution_count": 7,
   "id": "7fc90f20-7d07-4f71-b6d0-0ac919ae3be1",
   "metadata": {},
   "outputs": [],
   "source": [
    "# write a code  to check if two given strings are anagrams of each other"
   ]
  },
  {
   "cell_type": "code",
   "execution_count": 8,
   "id": "034ef276-6964-46af-ad56-53421bc74bc5",
   "metadata": {},
   "outputs": [
    {
     "name": "stdout",
     "output_type": "stream",
     "text": [
      "The strings are not anagrams.\n"
     ]
    }
   ],
   "source": [
    "def are_anagrams(str1, str2):\n",
    "    # Remove spaces and convert to lowercase for case-insensitive comparison\n",
    "    str1 = str1.replace(\" \", \"\").lower()\n",
    "    str2 = str2.replace(\" \", \"\").lower()\n",
    "    \n",
    "    # Sort the characters in both strings and compare\n",
    "    return sorted(str1) == sorted(str2)\n",
    "\n",
    "string1 = \" dad\"\n",
    "string2 = \" bad\"\n",
    "if are_anagrams(string1, string2):\n",
    "    print(\"The strings are anagrams.\")\n",
    "else:\n",
    "    print(\"The strings are not anagrams.\")"
   ]
  },
  {
   "cell_type": "code",
   "execution_count": 9,
   "id": "51b5d6fc-b6a1-4d28-a44e-1877058b2c8e",
   "metadata": {},
   "outputs": [],
   "source": [
    "# write  a code to find all occurances of a given string subtracting within another string"
   ]
  },
  {
   "cell_type": "code",
   "execution_count": 10,
   "id": "3f1eec2b-46c4-4290-834d-04b2aea1ff95",
   "metadata": {},
   "outputs": [
    {
     "name": "stdout",
     "output_type": "stream",
     "text": [
      "Occurrences of 'iss' within 'mississippi':\n",
      "[1, 4]\n"
     ]
    }
   ],
   "source": [
    "def find_occurrences(main_string, sub_string):\n",
    "    return [i for i in range(len(main_string) - len(sub_string) + 1) if main_string[i:i+len(sub_string)] == sub_string]\n",
    "\n",
    "main_string = \"mississippi\"\n",
    "sub_string = \"iss\"\n",
    "result = find_occurrences(main_string, sub_string)\n",
    "print(\"Occurrences of '{}' within '{}':\".format(sub_string, main_string))\n",
    "print(result)"
   ]
  },
  {
   "cell_type": "code",
   "execution_count": 11,
   "id": "11cedd40-da17-4b0b-9837-a8913d161176",
   "metadata": {},
   "outputs": [],
   "source": [
    "# write a code to perfor basic string compression using the count of repeated characters"
   ]
  },
  {
   "cell_type": "code",
   "execution_count": 12,
   "id": "9a2e073a-dc0a-418e-a7e3-6e2bb444955d",
   "metadata": {},
   "outputs": [
    {
     "name": "stdout",
     "output_type": "stream",
     "text": [
      "Compressed string: a2b1c5a3\n"
     ]
    }
   ],
   "source": [
    "from itertools import groupby\n",
    "\n",
    "def compress_string(string):\n",
    "    compressed = \"\"\n",
    "    for char, group in groupby(string):\n",
    "        compressed += char + str(len(list(group)))\n",
    "    return compressed if len(compressed) < len(string) else string\n",
    "\n",
    "input_string = \"aabcccccaaa\"\n",
    "compressed_string = compress_string(input_string)\n",
    "print(\"Compressed string:\", compressed_string)"
   ]
  },
  {
   "cell_type": "code",
   "execution_count": 13,
   "id": "d83f9fcc-15c6-4267-8fd9-448789db2648",
   "metadata": {},
   "outputs": [],
   "source": [
    "# write a code to determine if a string has all unique characters"
   ]
  },
  {
   "cell_type": "code",
   "execution_count": 14,
   "id": "073a870d-8b4a-483f-8c3b-bf1fcab5556c",
   "metadata": {},
   "outputs": [
    {
     "name": "stdout",
     "output_type": "stream",
     "text": [
      "The string has all unique characters.\n"
     ]
    }
   ],
   "source": [
    "def has_unique_characters(string):\n",
    "    char_count = {}\n",
    "    for char in string:\n",
    "        if char in char_count:\n",
    "            return False\n",
    "        char_count[char] = 1\n",
    "    return True\n",
    "\n",
    " \n",
    "input_string = \"abcdefg\"\n",
    "if has_unique_characters(input_string):\n",
    "    print(\"The string has all unique characters.\")\n",
    "else:\n",
    "    print(\"The string does not have all unique characters.\")"
   ]
  },
  {
   "cell_type": "code",
   "execution_count": 15,
   "id": "333c8b8b-8038-4d53-8ebf-e6c780b334f4",
   "metadata": {},
   "outputs": [],
   "source": [
    "# write a code to convert a given string to uppercase or lowercase"
   ]
  },
  {
   "cell_type": "code",
   "execution_count": 16,
   "id": "83cf32b0-0d2c-43a7-8e01-e6ae9f6fc199",
   "metadata": {},
   "outputs": [
    {
     "name": "stdout",
     "output_type": "stream",
     "text": [
      "Uppercase string: PWSKILLS!\n",
      "Lowercase string:  pwskills!\n"
     ]
    }
   ],
   "source": [
    "input_string = \"PWSKILLS!\"\n",
    "uppercase_string = input_string.upper()\n",
    "print(\"Uppercase string:\", uppercase_string)\n",
    "input_string = \" PWSKILLS!\"\n",
    "lowercase_string = input_string.lower()\n",
    "print(\"Lowercase string:\", lowercase_string)"
   ]
  },
  {
   "cell_type": "code",
   "execution_count": 17,
   "id": "8ea2a422-045f-4e59-88c1-5d8e0e7ae34b",
   "metadata": {},
   "outputs": [],
   "source": [
    "# write a code to count the number of words in a string"
   ]
  },
  {
   "cell_type": "code",
   "execution_count": 18,
   "id": "38242144-f5a6-4d63-b65e-24e9c83851ac",
   "metadata": {},
   "outputs": [
    {
     "name": "stdout",
     "output_type": "stream",
     "text": [
      "Number of words in the string: 5\n"
     ]
    }
   ],
   "source": [
    "input_string = \"My name is sandhya kumari\"\n",
    "word_count = len(input_string.split())\n",
    "print(\"Number of words in the string:\", word_count)"
   ]
  },
  {
   "cell_type": "code",
   "execution_count": 19,
   "id": "787a2a90-29a1-409a-9fd0-2d82fe33f004",
   "metadata": {},
   "outputs": [],
   "source": [
    "# write a code to  concantenate two strings without using the + operator"
   ]
  },
  {
   "cell_type": "code",
   "execution_count": 20,
   "id": "4d4695db-8ff0-4149-a830-76205228cfe1",
   "metadata": {},
   "outputs": [
    {
     "name": "stdout",
     "output_type": "stream",
     "text": [
      "List after removing element 4: [1, 2, 3, 3, 5, 3]\n"
     ]
    }
   ],
   "source": [
    "input_list = [1, 2, 3, 4, 3, 5, 3]\n",
    "element_to_remove = 4\n",
    "\n",
    "while element_to_remove in input_list:\n",
    "    input_list.remove(element_to_remove)\n",
    "\n",
    "print(\"List after removing element {}: {}\".format(element_to_remove, input_list))\n"
   ]
  },
  {
   "cell_type": "code",
   "execution_count": 21,
   "id": "7b1037a8-bbb0-4566-9808-c7eaf81a8e5b",
   "metadata": {},
   "outputs": [],
   "source": [
    "# implement a code  to find the second largest number in a given list of integers"
   ]
  },
  {
   "cell_type": "code",
   "execution_count": 23,
   "id": "a5c86c86-c831-4887-a74f-829c2d1c503d",
   "metadata": {},
   "outputs": [
    {
     "name": "stdout",
     "output_type": "stream",
     "text": [
      "Second largest number: 99\n"
     ]
    }
   ],
   "source": [
    "def second_largest(lst):\n",
    "    if len(lst) < 2:\n",
    "        return \"There is no second largest element.\"\n",
    "    else:\n",
    "        sorted_list = sorted(lst)\n",
    "        return sorted_list[-2]\n",
    "\n",
    " \n",
    "input_list = [10, 20, 4, 45, 99, 99, 45, 5]\n",
    "result = second_largest(input_list)\n",
    "print(\"Second largest number:\", result)"
   ]
  },
  {
   "cell_type": "code",
   "execution_count": 24,
   "id": "8cc32c1f-f402-40f6-9bc6-cadbdd42baa6",
   "metadata": {},
   "outputs": [],
   "source": [
    "# create a code to count the occurrences of each elements in a list  and return a dictionary with elements as keys and their counts as values\n"
   ]
  },
  {
   "cell_type": "code",
   "execution_count": 25,
   "id": "80061296-d24e-492c-8002-944d33058349",
   "metadata": {},
   "outputs": [
    {
     "name": "stdout",
     "output_type": "stream",
     "text": [
      "8 has occurred 5 times\n"
     ]
    }
   ],
   "source": [
    "def countX(lst, x):\n",
    "    return lst.count(x)\n",
    " \n",
    "\n",
    "lst = [8, 6, 8, 10, 8, 20, 10, 8, 8]\n",
    "x = 8\n",
    "print('{} has occurred {} times'.format(x, \n",
    "                                        countX(lst, x)))"
   ]
  },
  {
   "cell_type": "code",
   "execution_count": 26,
   "id": "30d70e7f-f812-4a56-827b-fb44539f23c1",
   "metadata": {},
   "outputs": [],
   "source": [
    "# write a code to  reverse a list in place without using any built-in reverse functions"
   ]
  },
  {
   "cell_type": "code",
   "execution_count": 27,
   "id": "463c8ceb-fc22-4b0e-9786-b3bfda60ecc9",
   "metadata": {},
   "outputs": [
    {
     "name": "stdout",
     "output_type": "stream",
     "text": [
      "Reversed list: [5, 4, 3, 2, 1]\n"
     ]
    }
   ],
   "source": [
    "def reverse_list_in_place(lst):\n",
    "    length = len(lst)\n",
    "    for i in range(length // 2):\n",
    "        lst[i], lst[length - i - 1] = lst[length - i - 1], lst[i]\n",
    "\n",
    "input_list = [1, 2, 3, 4, 5]\n",
    "reverse_list_in_place(input_list)\n",
    "print(\"Reversed list:\", input_list)"
   ]
  },
  {
   "cell_type": "code",
   "execution_count": 28,
   "id": "76d29a81-05f0-4000-89d3-49b665f5829e",
   "metadata": {},
   "outputs": [],
   "source": [
    "#  implment a code to find and remove duplicates from a list while preserving the original order of elements"
   ]
  },
  {
   "cell_type": "code",
   "execution_count": 29,
   "id": "04664dda-753b-45b1-93d3-59a7d123e032",
   "metadata": {},
   "outputs": [
    {
     "name": "stdout",
     "output_type": "stream",
     "text": [
      "List with duplicates removed: [1, 2, 3, 4, 5, 6, 7, 9, 10]\n"
     ]
    }
   ],
   "source": [
    "def remove_duplicates(lst):\n",
    "    result = []\n",
    "    for item in lst:\n",
    "        if item not in result:\n",
    "            result.append(item)\n",
    "    return result\n",
    "\n",
    "input_list = [1, 2, 3, 2, 4, 3, 5, 6, 5,7,9,10]\n",
    "unique_list = remove_duplicates(input_list)\n",
    "print(\"List with duplicates removed:\", unique_list)\n"
   ]
  },
  {
   "cell_type": "code",
   "execution_count": 30,
   "id": "7b8316d8-ba0f-4eaa-814a-140fd01e9502",
   "metadata": {},
   "outputs": [],
   "source": [
    "#  create a code to check if a given list is sorted(either in ascending or descending order ) or not"
   ]
  },
  {
   "cell_type": "code",
   "execution_count": 31,
   "id": "5eb368d2-1521-4f77-bf6f-e9bc36c7642c",
   "metadata": {},
   "outputs": [
    {
     "name": "stdout",
     "output_type": "stream",
     "text": [
      "Ascending List: Ascending\n",
      "Descending List: Not sorted\n",
      "Unsorted List: Not sorted\n"
     ]
    }
   ],
   "source": [
    "def is_sorted(lst):\n",
    "    if lst == sorted(lst):\n",
    "        return \"Ascending\"\n",
    "    elif lst == sorted(lst, reverse=True):\n",
    "        return \"Descending\"\n",
    "    else:\n",
    "        return \"Not sorted\"\n",
    "\n",
    "input_list_asc = [1, 2, 3, 4, 5,7,9,10]\n",
    "input_list_desc = [5, 4, 3, 2, 1,6,5,15]\n",
    "input_list_unsorted = [3, 1, 4, 2, 5]\n",
    "\n",
    "print(\"Ascending List:\", is_sorted(input_list_asc))\n",
    "print(\"Descending List:\", is_sorted(input_list_desc))\n",
    "print(\"Unsorted List:\", is_sorted(input_list_unsorted))"
   ]
  },
  {
   "cell_type": "code",
   "execution_count": 32,
   "id": "1e86674c-4b01-41cb-89b0-9ec1c9d738be",
   "metadata": {},
   "outputs": [],
   "source": [
    "# write a code to merge two sorted lists into a single sorted list\n"
   ]
  },
  {
   "cell_type": "code",
   "execution_count": 33,
   "id": "2b97b070-2022-4276-b273-5ca9a0c373d7",
   "metadata": {},
   "outputs": [
    {
     "name": "stdout",
     "output_type": "stream",
     "text": [
      "The original list 1 is : [4, 5, 6, 9, 11]\n",
      "The original list 2 is : [9, 3, 6, 8, 10]\n",
      "The combined sorted list is : [3, 4, 5, 6, 6, 8, 9, 9, 10, 11]\n"
     ]
    }
   ],
   "source": [
    "test_list1 = [4, 5, 6, 9, 11]\n",
    "test_list2 = [9, 3, 6, 8, 10]\n",
    " \n",
    "# printing original lists \n",
    "print (\"The original list 1 is : \" + str(test_list1))\n",
    "print (\"The original list 2 is : \" + str(test_list2))\n",
    " \n",
    "# using sorted()\n",
    "# to combine two sorted lists\n",
    "res = sorted(test_list1 + test_list2)\n",
    " \n",
    "# printing result\n",
    "print (\"The combined sorted list is : \" + str(res))"
   ]
  },
  {
   "cell_type": "code",
   "execution_count": 34,
   "id": "c165c8fe-0c9d-4d6c-964d-36afa4125803",
   "metadata": {},
   "outputs": [],
   "source": [
    "# implement a code to find the intersection  of two given lists"
   ]
  },
  {
   "cell_type": "code",
   "execution_count": 35,
   "id": "3ad26bce-57d0-41a4-9a75-8257ef60d724",
   "metadata": {},
   "outputs": [
    {
     "name": "stdout",
     "output_type": "stream",
     "text": [
      "[9, 11, 26, 28, 70]\n"
     ]
    }
   ],
   "source": [
    "def intersection(lst1, lst2):\n",
    "    lst3 = [value for value in lst1 if value in lst2]\n",
    "    return lst3\n",
    " \n",
    "lst1 = [4, 9, 1, 17, 11, 26, 28, 54, 69, 70]\n",
    "lst2 = [9, 9, 74, 21, 45, 11, 70, 63, 28, 26]\n",
    "print(intersection(lst1, lst2))\n"
   ]
  },
  {
   "cell_type": "code",
   "execution_count": 36,
   "id": "cf0131df-c9ea-4c0d-b213-bf7c73f67fdf",
   "metadata": {},
   "outputs": [],
   "source": [
    "# write a code to find the union of two lists withouts duplicates\n"
   ]
  },
  {
   "cell_type": "code",
   "execution_count": 37,
   "id": "9e47f09e-30b0-47ec-a2d9-c37594bf9ea4",
   "metadata": {},
   "outputs": [
    {
     "name": "stdout",
     "output_type": "stream",
     "text": [
      "The resultant merged list is \n",
      "[65, 1, 67, 8, 45, 23, 89, 90, 31]\n"
     ]
    }
   ],
   "source": [
    "list1 = [23, 45, 65, 31, 1, 89]\n",
    "list2 = [67, 89, 23, 45, 8, 90]\n",
    " \n",
    "ans = list(set(list1 + list2))\n",
    " \n",
    "print(\"The resultant merged list is \")\n",
    "print(ans)\n"
   ]
  },
  {
   "cell_type": "code",
   "execution_count": 38,
   "id": "eb6d2b8f-7508-4eff-9b8c-c378b91325b6",
   "metadata": {},
   "outputs": [],
   "source": [
    "#  write a code to shuffle a given list randoly without using any built-in shuffle  functions\n"
   ]
  },
  {
   "cell_type": "code",
   "execution_count": 39,
   "id": "d3a3a7f3-bee8-4c55-b371-0385d7aca988",
   "metadata": {},
   "outputs": [
    {
     "name": "stdout",
     "output_type": "stream",
     "text": [
      "The original list is : [2, 8, 4, 7, 9]\n",
      "The shuffled list is : [7, 8, 9, 4, 2]\n"
     ]
    }
   ],
   "source": [
    "import random\n",
    " \n",
    "test_list = [2, 8, 4, 7, 9]\n",
    " \n",
    "print(\"The original list is : \" + str(test_list))\n",
    " \n",
    "random.shuffle(test_list)\n",
    " \n",
    "print(\"The shuffled list is : \" + str(test_list))\n",
    "\n",
    "\n"
   ]
  },
  {
   "cell_type": "code",
   "execution_count": 40,
   "id": "c7facc5b-2194-4353-b666-eccc87a2dd46",
   "metadata": {},
   "outputs": [],
   "source": [
    "# writes a code that takes two tuples as input and returns a new tuple containing elements that are comon to both input tuples"
   ]
  },
  {
   "cell_type": "code",
   "execution_count": 41,
   "id": "adc1f72b-ef53-4a5a-9130-b1da28900ddb",
   "metadata": {},
   "outputs": [
    {
     "name": "stdout",
     "output_type": "stream",
     "text": [
      "Common elements in the two tuples: (9, 3, 4, 6)\n"
     ]
    }
   ],
   "source": [
    "def common_elements(tuple1, tuple2):\n",
    "    set1 = set(tuple1)\n",
    "    set2 = set(tuple2)\n",
    "    common_set = set1.intersection(set2)\n",
    "    return tuple(common_set)\n",
    "tuple1 = (6, 3, 4, 9, 8)\n",
    "tuple2 = (3, 9, 5, 6, 4)\n",
    "common_tuple = common_elements(tuple1, tuple2)\n",
    "print(\"Common elements in the two tuples:\", common_tuple)"
   ]
  },
  {
   "cell_type": "code",
   "execution_count": 42,
   "id": "a5ee2004-e938-4cb6-b63f-9c8d4a952e3b",
   "metadata": {},
   "outputs": [],
   "source": [
    "#create  a code that  prompts the user to enter two sets of integers separated by commas. then, print the intersections of these two sets"
   ]
  },
  {
   "cell_type": "code",
   "execution_count": 43,
   "id": "cf951973-dc19-423e-9dca-5155ac24f0b2",
   "metadata": {},
   "outputs": [
    {
     "name": "stdout",
     "output_type": "stream",
     "text": [
      "{45, 93, 62, 22}\n"
     ]
    }
   ],
   "source": [
    "s1 = {15, 62, 93, 75, 45, 22}\n",
    "s2 = {62, 93,45, 22}\n",
    "print(s1.intersection(s2))"
   ]
  },
  {
   "cell_type": "code",
   "execution_count": 44,
   "id": "5bde4814-3ba6-42b2-bae2-6e69c41e995a",
   "metadata": {},
   "outputs": [],
   "source": [
    "# write a code to concantenate two  tuples . the function should take two tuples as input and return a new tuple containing elements from both input tuples"
   ]
  },
  {
   "cell_type": "code",
   "execution_count": 45,
   "id": "93999ff2-f755-4e49-a650-d4de53b6665d",
   "metadata": {},
   "outputs": [
    {
     "name": "stdout",
     "output_type": "stream",
     "text": [
      "Concatenated tuple: (18, 92, 53, 44, 53, 69)\n"
     ]
    }
   ],
   "source": [
    "def concatenate_tuples(tuple1, tuple2):\n",
    "    return tuple1 + tuple2\n",
    "tuple1 = (18, 92, 53)\n",
    "tuple2 = (44, 53, 69)\n",
    "concatenated_tuple = concatenate_tuples(tuple1, tuple2)\n",
    "print(\"Concatenated tuple:\", concatenated_tuple)"
   ]
  },
  {
   "cell_type": "code",
   "execution_count": 46,
   "id": "1f9fa02a-b8db-41f5-ab4e-00b023f83a98",
   "metadata": {},
   "outputs": [],
   "source": [
    " # develop a code prommpts the user to input two sets of strings . then, print  the eleents that  are present in the firs set but not in the second set"
   ]
  },
  {
   "cell_type": "code",
   "execution_count": 48,
   "id": "7462c592-3313-49cc-b7ec-aa1a5a7d951f",
   "metadata": {},
   "outputs": [
    {
     "name": "stdout",
     "output_type": "stream",
     "text": [
      "{9, 5}\n",
      "{9, 6}\n"
     ]
    }
   ],
   "source": [
    "def common_member(a, b):\n",
    "    a_set = set(a)\n",
    "    b_set = set(b)\n",
    " \n",
    "    if (a_set & b_set):\n",
    "        print(a_set & b_set)\n",
    "    else:\n",
    "        print(\"No common elements\") \n",
    "          \n",
    "  \n",
    "a = [1, 2, 3, 4, 5, 9]\n",
    "b = [5, 6, 7, 8, 9, 7]\n",
    "common_member(a, b)\n",
    "  \n",
    "a = [1, 2, 3, 4, 5, 9,6]\n",
    "b = [6, 7, 8, 9]\n",
    "common_member(a, b)"
   ]
  },
  {
   "cell_type": "code",
   "execution_count": 49,
   "id": "13e4e834-6f76-4679-895f-5b4d258b069c",
   "metadata": {},
   "outputs": [],
   "source": [
    "#  create a code that takes a tuples and two  integers as input. the function should return a  new tuples containing elements from the original tuple within the speceificed range of indices"
   ]
  },
  {
   "cell_type": "code",
   "execution_count": 53,
   "id": "96d12a9b-a6e2-48cf-a210-af278d903007",
   "metadata": {},
   "outputs": [
    {
     "name": "stdout",
     "output_type": "stream",
     "text": [
      "Sliced tuple: (6, 4, 5, 3, 7, 5)\n"
     ]
    }
   ],
   "source": [
    "def slice_tuple(tuple_data, start_index, end_index):\n",
    "    return tuple_data[start_index:end_index + 1]\n",
    "\n",
    "original_tuple = (1, 2, 6, 4, 5, 3, 7, 5, 9)\n",
    "start_index = 2\n",
    "end_index = 7\n",
    "result_tuple = slice_tuple(original_tuple, start_index, end_index)\n",
    "print(\"Sliced tuple:\", result_tuple)"
   ]
  },
  {
   "cell_type": "code",
   "execution_count": 54,
   "id": "1bc0f096-3ca5-477f-919b-a1e45f355709",
   "metadata": {},
   "outputs": [],
   "source": [
    "# write a code that prompts that user t input two sets of cgharacters. then print the union of these two sets "
   ]
  },
  {
   "cell_type": "code",
   "execution_count": 55,
   "id": "942e0a21-d2f1-4239-820d-05a224b1b139",
   "metadata": {},
   "outputs": [
    {
     "name": "stdout",
     "output_type": "stream",
     "text": [
      "A U B: {41, 76, 87, 55, 90}\n"
     ]
    }
   ],
   "source": [
    "A = {90, 41, 55, 76} \n",
    "B = {41, 76, 87, 90}\n",
    " \n",
    "print(\"A U B:\", A.union(B))"
   ]
  },
  {
   "cell_type": "code",
   "execution_count": null,
   "id": "e424edcd-836d-47a0-97c3-5c0b3ee5b90a",
   "metadata": {},
   "outputs": [],
   "source": [
    "#  develop a code that takes a tuple of integers  as input. the function should return the aximum andminimum values from the tuples using tuple unpacking"
   ]
  },
  {
   "cell_type": "code",
   "execution_count": 56,
   "id": "74618e55-e208-42f9-b0c5-e2818b8e9740",
   "metadata": {},
   "outputs": [
    {
     "name": "stdout",
     "output_type": "stream",
     "text": [
      "Maximum value: 95\n",
      "Minimum value: 28\n"
     ]
    }
   ],
   "source": [
    "def find_max_min(tuple_data):\n",
    "    # Use tuple unpacking to get maximum and minimum values\n",
    "    max_value = max(tuple_data)\n",
    "    min_value = min(tuple_data)\n",
    "    return max_value, min_value\n",
    "\n",
    "input_tuple = (33, 51, 67, 45, 28, 91, 95)\n",
    "max_value, min_value = find_max_min(input_tuple)\n",
    "print(\"Maximum value:\", max_value)\n",
    "print(\"Minimum value:\", min_value)"
   ]
  },
  {
   "cell_type": "code",
   "execution_count": 57,
   "id": "eb87f417-568f-47e6-9bcd-54e01c5ff7d5",
   "metadata": {},
   "outputs": [],
   "source": [
    "# ceate a code that  defines  two sets of integers. then print the union , intersection, and difference of these two sets"
   ]
  },
  {
   "cell_type": "code",
   "execution_count": 58,
   "id": "29c1b79d-d433-4038-aa9b-0c98cb586b09",
   "metadata": {},
   "outputs": [
    {
     "name": "stdout",
     "output_type": "stream",
     "text": [
      "Union : {0, 1, 2, 3, 4, 5, 6, 8}\n",
      "Intersection : {2, 4}\n",
      "Difference : {0, 8, 6}\n"
     ]
    }
   ],
   "source": [
    "A = {0, 2, 4, 6, 8}; \n",
    "B = {1, 2, 3, 4, 5}; \n",
    "  \n",
    "# union \n",
    "print(\"Union :\", A | B) \n",
    "  \n",
    "# intersection \n",
    "print(\"Intersection :\", A & B) \n",
    "  \n",
    "# difference \n",
    "print(\"Difference :\", A - B) "
   ]
  },
  {
   "cell_type": "code",
   "execution_count": 59,
   "id": "2d13dcfd-ce6c-4a38-a8ec-a5779b5f8d3e",
   "metadata": {},
   "outputs": [],
   "source": [
    "#  write a code that takes a tuple and an elements as input . the function  should return the count of occurrences of the given elements in the tuples"
   ]
  },
  {
   "cell_type": "code",
   "execution_count": 60,
   "id": "63cf3b12-fa91-4f03-ac43-9ee9948fc748",
   "metadata": {},
   "outputs": [
    {
     "name": "stdout",
     "output_type": "stream",
     "text": [
      "Occurrences of 2 in the tuple: 0\n"
     ]
    }
   ],
   "source": [
    "def count_occurrences(tuple_data, element):\n",
    "    return tuple_data.count(element)\n",
    "\n",
    "input_tuple = (21, 42, 63, 92, 64, 25, 95)\n",
    "element = 2\n",
    "occurrences = count_occurrences(input_tuple, element)\n",
    "print(\"Occurrences of\", element, \"in the tuple:\", occurrences)"
   ]
  },
  {
   "cell_type": "code",
   "execution_count": 61,
   "id": "28bfe2a4-1a3e-4e4e-ab2a-93e665934757",
   "metadata": {},
   "outputs": [],
   "source": [
    "# develop a code that prompts the user to input  two sets of strings. then print the stmmetric diffenees of these two sets"
   ]
  },
  {
   "cell_type": "code",
   "execution_count": 62,
   "id": "a1ff67a9-6496-463a-830d-50f28e93f36b",
   "metadata": {},
   "outputs": [
    {
     "name": "stdout",
     "output_type": "stream",
     "text": [
      "{66, 81, 87, 95, 33, 99, 62, 63}\n"
     ]
    }
   ],
   "source": [
    "set_A = {81, 62, 33, 64, 95}\n",
    "set_B = {66, 87, 63, 99, 64}\n",
    "print(set_A.symmetric_difference(set_B))"
   ]
  },
  {
   "cell_type": "code",
   "execution_count": 63,
   "id": "4d5b44bf-45d4-4aa1-91a7-45e8e6c22f1e",
   "metadata": {},
   "outputs": [],
   "source": [
    "#  write a code that takes a list of words as input and returns  a dictionary  where the keys are unique words and the values are the frequencies of those words in the input  list"
   ]
  },
  {
   "cell_type": "code",
   "execution_count": 64,
   "id": "e45047a7-d244-42b7-b892-803d2a5455e3",
   "metadata": {},
   "outputs": [
    {
     "name": "stdout",
     "output_type": "stream",
     "text": [
      "Word frequency dictionary: {'apple': 2, 'orange': 2, 'banana': 2}\n"
     ]
    }
   ],
   "source": [
    "from collections import Counter\n",
    "\n",
    "def word_frequency(input_list):\n",
    "    return dict(Counter(input_list))\n",
    "\n",
    "input_list = [\"apple\", \"orange\", \"banana\", \"orange\", \"banana\", \"apple\"]\n",
    "frequency_dict = word_frequency(input_list)\n",
    "print(\"Word frequency dictionary:\", frequency_dict)"
   ]
  },
  {
   "cell_type": "code",
   "execution_count": 65,
   "id": "ee42892d-16b9-4126-a680-39d0ee04853f",
   "metadata": {},
   "outputs": [],
   "source": [
    "#  write a code that takes two dictionarkes as input and merges them into a single dictionary. if there are common keys , the values should be added  together"
   ]
  },
  {
   "cell_type": "code",
   "execution_count": 66,
   "id": "8960ed54-9707-4ae0-8ea5-191b768058ff",
   "metadata": {},
   "outputs": [
    {
     "name": "stdout",
     "output_type": "stream",
     "text": [
      "Merged Dictionary: {'a': 15, 'b': 80, 'c': 125, 'd': 60}\n"
     ]
    }
   ],
   "source": [
    "def merge_dictionaries(dict1, dict2):\n",
    "    merged_dict = dict1.copy()  # Make a copy of the first dictionary\n",
    "\n",
    "    for key, value in dict2.items():\n",
    "        if key in merged_dict:\n",
    "            merged_dict[key] += value  # If the key is already present, add the values\n",
    "        else:\n",
    "            merged_dict[key] = value   # If the key is not present, simply add it to the merged dictionary\n",
    "\n",
    "    return merged_dict\n",
    "dict1 = {'a': 15, 'b': 40, 'c': 75}\n",
    "dict2 = {'b': 40, 'c': 50, 'd': 60}\n",
    "merged_dictionary = merge_dictionaries(dict1, dict2)\n",
    "print(\"Merged Dictionary:\", merged_dictionary)"
   ]
  },
  {
   "cell_type": "code",
   "execution_count": 67,
   "id": "937a0061-3282-4ffe-a7ca-1737c51acc8d",
   "metadata": {},
   "outputs": [],
   "source": [
    "# write a code that takes a dictionary as input and returns a sorted  verson of it  absed on the values. you can  choose whethet to sort in ascending or descending order "
   ]
  },
  {
   "cell_type": "code",
   "execution_count": 70,
   "id": "4c2d9c46-de3b-4171-b6cd-70f9a74f257f",
   "metadata": {},
   "outputs": [
    {
     "name": "stdout",
     "output_type": "stream",
     "text": [
      "Ascending Sorted Dictionary: {'grape': 3, 'orange': 4, 'apple': 6, 'banana': 9}\n",
      "Descending Sorted Dictionary: {'banana': 9, 'apple': 6, 'orange': 4, 'grape': 3}\n"
     ]
    }
   ],
   "source": [
    "def sort_dictionary_by_values(dictionary, reverse=False):\n",
    "    sorted_dict = dict(sorted(dictionary.items(), key=lambda item: item[1], reverse=reverse))\n",
    "    return sorted_dict\n",
    "\n",
    "input_dict = {'apple': 6, 'banana': 9, 'orange': 4, 'grape': 3}\n",
    "ascending_sorted_dict = sort_dictionary_by_values(input_dict)\n",
    "descending_sorted_dict = sort_dictionary_by_values(input_dict, reverse=True)\n",
    "\n",
    "print(\"Ascending Sorted Dictionary:\", ascending_sorted_dict)\n",
    "print(\"Descending Sorted Dictionary:\", descending_sorted_dict)\n"
   ]
  },
  {
   "cell_type": "code",
   "execution_count": 71,
   "id": "8dd87995-3e54-48e7-88d1-f23792c0ffda",
   "metadata": {},
   "outputs": [],
   "source": [
    "# write  a code that inverts a dictionary , swapping keys and values. ensure that the inverted dictionary correctly handles cases where  multiple keys have the same value by sorting the keys  as a  list in the inverted dictionary"
   ]
  },
  {
   "cell_type": "code",
   "execution_count": 72,
   "id": "9e02ce45-9acd-48d2-80f5-fb46ab8e03d3",
   "metadata": {},
   "outputs": [
    {
     "name": "stdout",
     "output_type": "stream",
     "text": [
      "Inverted Dictionary: {5: ['a', 'c'], 4: ['b'], 3: ['d']}\n"
     ]
    }
   ],
   "source": [
    "def invert_dictionary(dictionary):\n",
    "    inverted_dict = {}\n",
    "    for key, value in dictionary.items():\n",
    "        inverted_dict[value] = inverted_dict.get(value, []) + [key]\n",
    "    return {key: sorted(values) for key, values in inverted_dict.items()}\n",
    "\n",
    "original_dict = {'a': 5, 'b': 4, 'c': 5, 'd': 3}\n",
    "inverted_dict = invert_dictionary(original_dict)\n",
    "print(\"Inverted Dictionary:\", inverted_dict)"
   ]
  }
 ],
 "metadata": {
  "kernelspec": {
   "display_name": "Python 3 (ipykernel)",
   "language": "python",
   "name": "python3"
  },
  "language_info": {
   "codemirror_mode": {
    "name": "ipython",
    "version": 3
   },
   "file_extension": ".py",
   "mimetype": "text/x-python",
   "name": "python",
   "nbconvert_exporter": "python",
   "pygments_lexer": "ipython3",
   "version": "3.10.8"
  }
 },
 "nbformat": 4,
 "nbformat_minor": 5
}
