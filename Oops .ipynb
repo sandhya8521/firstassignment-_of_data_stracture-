{
 "cells": [
  {
   "cell_type": "markdown",
   "id": "2f4f2c12-e090-4d1e-9529-27a671fd8ccf",
   "metadata": {},
   "source": [
    "(1) explain  the importance of function ?\n",
    "\n",
    "ans: In Object-Oriented Programming (OOP), functions are known as methods when they are associated with objects or classes.\n",
    "\n",
    "   (1) Modularity of code: \n",
    "   . MMethods in Python classes promote code reusability.\n",
    "   .Functions in Programming help break down a program into smaller, manageable modules. Each function can be developed,\n",
    "    tested, and debugged independently, making the overall program more organized and easier to understand.\n",
    "    \n",
    "   (2) Encapsulation: \n",
    "   .  Functions (methods) within Python classes encapsulate behavior, bundling data and operations together within object\n",
    "   .This helps in organizing code logically and managing complexity by hiding the internal state of objects and exposing only \n",
    "     necessary functionality through method calls.\n",
    "    (3) Method Definition: \n",
    "    . In Python, methods are essentially functions defined within a class. These methods define the behavior of objects \n",
    "      instantiated from the class.\n",
    "    (4)Inheritance: \n",
    "     Python supports inheritance, allowing classes to inherit attributes and methods from parent classes. Methods defined in a \n",
    "     parent class can be inherited by child classes, promoting code reuse and enabling the creation of specialized classes \n",
    "     with modified or extended behavior.\n",
    "     (5) Polymorphism: \n",
    "      .Python's dynamic typing and duck typing allow for polymorphic behavior. Methods in Python classes can be overridden in \n",
    "      subclasses to provide specialized implementations. This enables objects of different classes to be treated \n",
    "      interchangeably based on their common interface, facilitating flexibility and extensibility in code.\n",
    "    (6) Message Passing: \n",
    "      .In Python OOP, objects communicate with each other by invoking methods. Method calls serve as messages between objects, \n",
    "      allowing them to interact and collaborate within a system. This promotes modularity and separation of concerns, \n",
    "      enhancing the maintainability and readability of code.\n",
    "    \n",
    "\n",
    "    "
   ]
  },
  {
   "cell_type": "markdown",
   "id": "2f6dea55-e16d-40dc-ac62-8b46bbda340f",
   "metadata": {},
   "source": [
    "2.write a basic function to greet students\n"
   ]
  },
  {
   "cell_type": "markdown",
   "id": "d48743e4-cd7d-4bff-ba3f-d5204c2ae526",
   "metadata": {},
   "source": [
    "3.what is the difference between print and return in statements?\n",
    " \n",
    " * Return Statement:\n",
    " (1) It is used to exit a function and return a value.\n",
    " (2)It returns a value that can be assigned to a variable or used in any expression.\n",
    " (3)It can be used multiple times in a function but only one value can be returned at a time.\n",
    " (4)Exiting the function with return ends the function and control returns to calling code.\n",
    " (5) Example: \n",
    "     return sum in a function that calculates the sum of two numbers\n",
    " (6)Syntax of Return Statement:-\n",
    "      \n",
    "      def function_name(parameters):\n",
    "    return value\n",
    "   \n",
    "  * Print Statement:-\n",
    "  (1)It is used to display output to the console.\n",
    "  (2)It displays output to the console but does not return the value.\n",
    "  (3)It can be used multiple times in a function but does not affect the function’s return value.\n",
    "  (4)The print does not affect program flow and execution continues normally.\n",
    "  (5) Example: \n",
    "     print(“Hello, world!”) to display a message on the console\n",
    "     \n",
    "  (6)  Syntax of Print Statement:-\n",
    "         \n",
    "       print(*objects, sep=' separator', end='\\n', file=sys.stdout, flush=False)\n"
   ]
  },
  {
   "cell_type": "markdown",
   "id": "bcd9e1d9-ff7c-4896-9a75-f2eab0dc852d",
   "metadata": {},
   "source": [
    "4.what are *args and **kwargs in python Oops?\n",
    " \n",
    " * ARGS:-\n",
    " . The special syntax *args in function definitions in Python is used to pass a variable number of arguments to a function.\n",
    " .it is used to pass a non-keyworded, variable-length argument list. \n",
    " .The syntax is to use the symbol * to take in a variable number of arguments; by convention, it is often used with the word \n",
    "  args.\n",
    " .What *args allows you to do is take in more arguments than the number of formal arguments that you previously defined.\n",
    "  With *args, any number of extra arguments can be tacked on to your current formal parameters (including zero extra a  \n",
    "  rguments).\n",
    "  .Using the *, the variable that we associate with the * becomes iterable meaning you can do things like iterate over it, run \n",
    "  some higher-order functions such as map and filter, etc.\n",
    "  . EXAMPLE:-We use the name kw.explain the iterator function.args with the double star. The reason is that the double star allows us to pass through keyword arguments (and any number of them).\n",
    "     we want to make a multiply function that takes any number of arguments and is able to multiply them all together. It can \n",
    "     be done using *args.\n",
    "     \n",
    "     def myFun(*argv):\n",
    "    for arg in argv:\n",
    "        print(arg)\n",
    "\n",
    "\n",
    "    myFun('Hello', 'Welcome', 'to', 'PWSKILLS')\n",
    "    \n",
    "  * *kwargs:-\n",
    "  .The special syntax **kwargs in function definitions in Python is used to pass a keyworded, variable-length argument list.\n",
    "  .We use the name kwargs with the double star. The reason is that the double star allows us to pass through keyword arguments \n",
    "   (and any number of them).\n",
    "  . A keyword argument is where you provide a name to the variable as you pass it into the function.\n",
    "  .One can think of the kwargs as being a dictionary that maps each keyword to the value that we pass alongside it. \n",
    "  . EXAMPLE:- \n",
    "  \n",
    "        def myFun(**kwargs):\n",
    "        for key, value in kwargs.items():\n",
    "        print(\"%s == %s\" % (key, value))\n",
    "\n",
    "     myFun(first='PW', mid='for', last='SKILSS')\n",
    "\n"
   ]
  },
  {
   "cell_type": "markdown",
   "id": "d2946711-ce9b-4c50-85e7-ebd6ddacb82f",
   "metadata": {},
   "source": [
    "5.explain the iterator function.\n",
    "\n",
    "    Iterator:-\n",
    "  .An iterator in Python is an object that is used to iterate over iterable objects like lists, tuples, dicts, and sets.\n",
    "  .The Python iterators object is initialized using the iter() method. It uses the next() method for iteration.\n",
    " \n",
    "    (1)__iter__(): The iter() method is called for the initialization of an iterator. This returns an iterator object\n",
    "    (2)__next__(): The next method returns the next value for the iterable. When we use a for loop to traverse any iterable \n",
    "                   object, internally it uses the iter() method to get an iterator object, which further uses the next() \n",
    "                   method to iterate over.\n",
    " \n",
    "                   \n"
   ]
  },
  {
   "cell_type": "markdown",
   "id": "2a35440b-5652-4b43-9fa3-b3684fc2946d",
   "metadata": {},
   "source": [
    "6.write a code that generates the squares of numbers from 1 to n using a generation in python Oops"
   ]
  },
  {
   "cell_type": "code",
   "execution_count": 1,
   "id": "27c60fd3-c244-4793-b53a-add5cb9a18ee",
   "metadata": {},
   "outputs": [
    {
     "name": "stdout",
     "output_type": "stream",
     "text": [
      "25\n"
     ]
    }
   ],
   "source": [
    "def number(a):\n",
    "    return a*a\n",
    "print(number(5))"
   ]
  },
  {
   "cell_type": "markdown",
   "id": "278cc006-20e3-4567-b8e6-dda860ff626e",
   "metadata": {},
   "source": [
    "7.write a code that generates palindromic numbers up to to n using a generator."
   ]
  },
  {
   "cell_type": "code",
   "execution_count": 4,
   "id": "b731c648-5452-4f2b-bd2c-409dbd5fa58b",
   "metadata": {},
   "outputs": [
    {
     "name": "stdout",
     "output_type": "stream",
     "text": [
      "0\n",
      "1\n",
      "2\n",
      "3\n",
      "4\n",
      "5\n",
      "6\n",
      "7\n",
      "8\n",
      "9\n",
      "11\n"
     ]
    }
   ],
   "source": [
    "def palindrome_generator(n):\n",
    "    for num in range(n + 1):\n",
    "        if str(num) == str(num)[::-1]:\n",
    "            yield num\n",
    "n = 11\n",
    "for palindrome in palindrome_generator(n):\n",
    "    print(palindrome)"
   ]
  },
  {
   "cell_type": "markdown",
   "id": "138cac63-0194-4bc7-bb43-c1cad575d459",
   "metadata": {},
   "source": [
    "8.write a code that generates even numbers fro 2 to n using a generator."
   ]
  },
  {
   "cell_type": "code",
   "execution_count": 5,
   "id": "3e7b11c0-da34-4466-8fcc-c020e32fa1b7",
   "metadata": {},
   "outputs": [
    {
     "name": "stdout",
     "output_type": "stream",
     "text": [
      "2\n",
      "4\n",
      "6\n",
      "8\n",
      "10\n",
      "12\n",
      "14\n",
      "16\n",
      "18\n",
      "20\n"
     ]
    }
   ],
   "source": [
    "def even_number_generator(n):\n",
    "    for num in range(2, n + 1, 2):\n",
    "        yield num\n",
    "\n",
    "# Example usage:\n",
    "n = 20\n",
    "for even in even_number_generator(n):\n",
    "    print(even)"
   ]
  },
  {
   "cell_type": "markdown",
   "id": "b2d4aee3-4476-42bd-98a3-0d150f86e09f",
   "metadata": {},
   "source": [
    "9.write a code that generates powers of two up to n using a generator."
   ]
  },
  {
   "cell_type": "code",
   "execution_count": 6,
   "id": "850fa0f3-e002-42ac-86f5-b594d6d8512f",
   "metadata": {},
   "outputs": [
    {
     "name": "stdout",
     "output_type": "stream",
     "text": [
      "1\n",
      "2\n",
      "4\n",
      "8\n"
     ]
    }
   ],
   "source": [
    "def power_of_two_generator(n):\n",
    "    power = 1\n",
    "    while power <= n:\n",
    "        yield power\n",
    "        power *= 2\n",
    "n = 15\n",
    "for power in power_of_two_generator(n):\n",
    "    print(power)"
   ]
  },
  {
   "cell_type": "markdown",
   "id": "ef1f65e3-d5f5-4ddc-9b0c-d6229b776927",
   "metadata": {},
   "source": [
    "10.write a code that generates prime numbers up to n using a generators."
   ]
  },
  {
   "cell_type": "code",
   "execution_count": 7,
   "id": "82a439be-1f10-4fb8-a5eb-20126789d9ac",
   "metadata": {},
   "outputs": [
    {
     "name": "stdout",
     "output_type": "stream",
     "text": [
      "2\n",
      "3\n",
      "5\n",
      "7\n",
      "11\n",
      "13\n",
      "17\n",
      "19\n"
     ]
    }
   ],
   "source": [
    "def prime_number_generator(n):\n",
    "    for num in range(2, n + 1):\n",
    "        if all(num % i != 0 for i in range(2, int(num ** 0.5) + 1)):\n",
    "            yield num\n",
    "n = 20\n",
    "for prime in prime_number_generator(n):\n",
    "    print(prime)"
   ]
  },
  {
   "cell_type": "markdown",
   "id": "b07d97f8-a6ba-4c46-830b-7dc1f211b228",
   "metadata": {},
   "source": [
    "11.write a code that uses a lamdba function to calculate the sum of two numbers."
   ]
  },
  {
   "cell_type": "code",
   "execution_count": 9,
   "id": "8e13b73c-576a-48ca-8608-f8d419f122d1",
   "metadata": {},
   "outputs": [
    {
     "name": "stdout",
     "output_type": "stream",
     "text": [
      "Sum: 68\n"
     ]
    }
   ],
   "source": [
    "class Calculator:\n",
    "    def __init__(self):\n",
    "        pass\n",
    "\n",
    "    def calculate_sum(self, a, b):\n",
    "        # Define a lambda function to calculate the sum of two numbers\n",
    "        sum_function = lambda x, y: x + y\n",
    "        \n",
    "        # Call the lambda function and return the result\n",
    "        return sum_function(a, b)\n",
    "\n",
    "# Example usage:\n",
    "calculator = Calculator()\n",
    "result = calculator.calculate_sum(11, 57)\n",
    "print(\"Sum:\", result)"
   ]
  },
  {
   "cell_type": "markdown",
   "id": "604b5c91-7476-4140-ba97-aca8228ced02",
   "metadata": {},
   "source": [
    "12.write a code that uses a lambda function to calculate the square of a given number."
   ]
  },
  {
   "cell_type": "code",
   "execution_count": 11,
   "id": "65bd3ebb-acdd-4c24-99fc-3dcd59296bd1",
   "metadata": {},
   "outputs": [
    {
     "name": "stdout",
     "output_type": "stream",
     "text": [
      "Square of 4 is: 3025\n"
     ]
    }
   ],
   "source": [
    "class SquareCalculator:\n",
    "    def square(self, num):\n",
    "        square_func = lambda x: x ** 2\n",
    "        return square_func(num)\n",
    "\n",
    "calculator = SquareCalculator()\n",
    "result = calculator.square(55)\n",
    "print(\"Square of 4 is:\", result)"
   ]
  },
  {
   "cell_type": "markdown",
   "id": "c35ce794-9cdf-4ace-9d83-f97c77546c8f",
   "metadata": {},
   "source": [
    "13.write a code that uses a lambda function to check whether a given number is even or not."
   ]
  },
  {
   "cell_type": "code",
   "execution_count": 14,
   "id": "8ded6d50-7284-49fe-844d-de91098e3bdc",
   "metadata": {},
   "outputs": [
    {
     "name": "stdout",
     "output_type": "stream",
     "text": [
      "201 is not even.\n"
     ]
    }
   ],
   "source": [
    "class NumberChecker:\n",
    "    def __init__(self):\n",
    "        pass\n",
    "\n",
    "    def is_even(self, num):\n",
    "        # Define a lambda function to check if a number is even\n",
    "        is_even_function = lambda x: x % 2 == 0\n",
    "        \n",
    "        # Call the lambda function and return the result\n",
    "        return is_even_function(num)\n",
    "\n",
    "# Example usage:\n",
    "checker = NumberChecker()\n",
    "number = 201\n",
    "result = checker.is_even(number)\n",
    "\n",
    "if result:\n",
    "    print(f\"{number} is even.\")\n",
    "else:\n",
    "    print(f\"{number} is not even.\")"
   ]
  },
  {
   "cell_type": "markdown",
   "id": "71f5b985-5abb-469e-9ff4-d677459e5f0f",
   "metadata": {},
   "source": [
    "15.write a code that uses a lambda function to concantenate two strings."
   ]
  },
  {
   "cell_type": "code",
   "execution_count": 15,
   "id": "f8ef0533-a89f-4eab-8250-ca30cdb9694d",
   "metadata": {},
   "outputs": [
    {
     "name": "stdout",
     "output_type": "stream",
     "text": [
      "Concatenated string: sandhya, patel!\n"
     ]
    }
   ],
   "source": [
    "class StringConcatenator:\n",
    "    def concatenate(self, str1, str2):\n",
    "        concatenate_func = lambda x, y: x + y\n",
    "        return concatenate_func(str1, str2)\n",
    "\n",
    "concatenator = StringConcatenator()\n",
    "result = concatenator.concatenate(\"sandhya, \", \"patel!\")\n",
    "print(\"Concatenated string:\", result)"
   ]
  },
  {
   "cell_type": "markdown",
   "id": "53fe0634-d994-40e7-859c-d3d72e00a750",
   "metadata": {},
   "source": [
    "16.write a code that uses a lambda function tp find the maximum of three given number."
   ]
  },
  {
   "cell_type": "code",
   "execution_count": 16,
   "id": "edd082a2-246c-40fe-9d34-42b033757e69",
   "metadata": {},
   "outputs": [
    {
     "name": "stdout",
     "output_type": "stream",
     "text": [
      "Maximum number: 98\n"
     ]
    }
   ],
   "source": [
    "class MaximumFinder:\n",
    "    def __init__(self):\n",
    "        pass\n",
    "\n",
    "    def find_maximum(self, num1, num2, num3):\n",
    "        # Define a lambda function to find the maximum of three numbers\n",
    "        maximum_function = lambda x, y, z: max(x, y, z)\n",
    "        \n",
    "        # Call the lambda function and return the result\n",
    "        return maximum_function(num1, num2, num3)\n",
    "\n",
    "finder = MaximumFinder()\n",
    "result = finder.find_maximum(60, 55, 98)\n",
    "print(\"Maximum number:\", result)\n"
   ]
  },
  {
   "cell_type": "markdown",
   "id": "a7406aca-b664-4604-ba41-582688134f99",
   "metadata": {},
   "source": [
    "17.write a code that generates the squares of even numbers from a given list."
   ]
  },
  {
   "cell_type": "code",
   "execution_count": 20,
   "id": "39caf023-565e-49ca-9c24-a9a66638ef95",
   "metadata": {},
   "outputs": [
    {
     "name": "stdout",
     "output_type": "stream",
     "text": [
      "484\n",
      "1936\n",
      "4356\n",
      "7744\n",
      "10000\n"
     ]
    }
   ],
   "source": [
    "class SquareEvenNumbers:\n",
    "    def __init__(self, numbers):\n",
    "        self.numbers = numbers\n",
    "\n",
    "    def generate_squares_of_even(self):\n",
    "        for num in self.numbers:\n",
    "            if num % 2 == 0:\n",
    "                yield num ** 2\n",
    "\\\n",
    "numbers_list = [11, 22, 33, 44, 55, 66, 77, 88, 99, 100]\n",
    "squares_generator = SquareEvenNumbers(numbers_list).generate_squares_of_even()\n",
    "\n",
    "for square in squares_generator:\n",
    "    print(square)\n"
   ]
  },
  {
   "cell_type": "markdown",
   "id": "6d7906ef-a903-43e4-bab5-8d2f5c1e0783",
   "metadata": {},
   "source": [
    "18.write a code that calculates the product of positive numbers from a given list."
   ]
  },
  {
   "cell_type": "code",
   "execution_count": 21,
   "id": "fe0fd958-3bd5-4e7f-a0b2-12db22f80073",
   "metadata": {},
   "outputs": [
    {
     "name": "stdout",
     "output_type": "stream",
     "text": [
      "Product of positive numbers: 45360\n"
     ]
    }
   ],
   "source": [
    "class PositiveProductCalculator:\n",
    "    def __init__(self, numbers):\n",
    "        self.numbers = numbers\n",
    "\n",
    "    def calculate_positive_product(self):\n",
    "        # Initialize product to 1\n",
    "        product = 1\n",
    "        \n",
    "        # Iterate through the numbers\n",
    "        for num in self.numbers:\n",
    "            # Check if the number is positive\n",
    "            if num > 0:\n",
    "                # Multiply the product by the positive number\n",
    "                product *= num\n",
    "        \n",
    "        # Return the product\n",
    "        return product\n",
    "\n",
    "# Example usage:\n",
    "numbers_list = [1, -2, 3, 4, -5, 6, 7, -8, 9, 10]\n",
    "calculator = PositiveProductCalculator(numbers_list)\n",
    "result = calculator.calculate_positive_product()\n",
    "print(\"Product of positive numbers:\", result)\n"
   ]
  },
  {
   "cell_type": "markdown",
   "id": "b9e35e9d-e272-477c-b588-fd509f4c4586",
   "metadata": {},
   "source": [
    "19.write a code that doubles the values of odd numbers from a given list."
   ]
  },
  {
   "cell_type": "code",
   "execution_count": 30,
   "id": "c68ac567-204d-4dc6-9088-9bb685d3ec20",
   "metadata": {},
   "outputs": [
    {
     "name": "stdout",
     "output_type": "stream",
     "text": [
      "Doubled values of odd numbers: [22, 72, 126, 84, 170, 36, 194, 38, 178]\n"
     ]
    }
   ],
   "source": [
    "class DoubleOddNumbers:\n",
    "    def __init__(self, numbers):\n",
    "        self.numbers = numbers\n",
    "\n",
    "    def double_odd_numbers(self):\n",
    "        return [num * 2 if num % 2 != 0 else num for num in self.numbers]\n",
    "\n",
    "numbers_list = [11, 72, 63, 84, 85, 36, 97, 38, 89]\n",
    "doubler = DoubleOddNumbers(numbers_list)\n",
    "result = doubler.double_odd_numbers()\n",
    "print(\"Doubled values of odd numbers:\", result)\n",
    "\n"
   ]
  },
  {
   "cell_type": "markdown",
   "id": "8d85cc45-ea48-4337-98b0-a34f0a893228",
   "metadata": {},
   "source": [
    "20.write a code that calculates the sum of cubes of numbers from a given list."
   ]
  },
  {
   "cell_type": "code",
   "execution_count": 2,
   "id": "d4e7ec74-7355-4bef-a6aa-f267ce0c3b43",
   "metadata": {},
   "outputs": [
    {
     "name": "stdout",
     "output_type": "stream",
     "text": [
      "Sum of cubes: 953\n"
     ]
    }
   ],
   "source": [
    "class SumOfCubesCalculator:\n",
    "    def __init__(self, numbers):\n",
    "        self.numbers = numbers\n",
    "\n",
    "    def calculate_sum_of_cubes(self):\n",
    "        return sum(num ** 3 for num in self.numbers)\n",
    "\n",
    "numbers_list = [1, 2, 3, 4, 5,6,8]\n",
    "calculator = SumOfCubesCalculator(numbers_list)\n",
    "result = calculator.calculate_sum_of_cubes()\n",
    "print(\"Sum of cubes:\", result)"
   ]
  },
  {
   "cell_type": "markdown",
   "id": "1fdb460d-d4aa-4ae4-a6ed-4b644bc012ea",
   "metadata": {},
   "source": [
    "21.write a code that filters out prime numbers from a given list."
   ]
  },
  {
   "cell_type": "code",
   "execution_count": 3,
   "id": "963e331c-2223-4b84-9b6b-4308ac61f3f1",
   "metadata": {},
   "outputs": [
    {
     "name": "stdout",
     "output_type": "stream",
     "text": [
      "List of integers:\n",
      "[1, 2, 3, 4, 5, 6, 7, 8, 9, 10, 11, 12, 13, 14, 15, 16, 17]\n",
      "\n",
      "Extract prime numbers of the said list:\n",
      "[2, 3, 5, 7, 11, 13, 17]\n"
     ]
    }
   ],
   "source": [
    "def is_prime(n):\n",
    "    if n <= 1:\n",
    "        return False\n",
    "    if n <= 3:\n",
    "        return True\n",
    "    if n % 2 == 0 or n % 3 == 0:\n",
    "        return False\n",
    "    i = 5\n",
    "    while i * i <= n:\n",
    "        if n % i == 0 or n % (i + 2) == 0:\n",
    "            return False\n",
    "        i += 6\n",
    "    return True\n",
    "\n",
    "# Define a list of integers\n",
    "numbers = [1, 2, 3, 4, 5, 6, 7, 8, 9, 10, 11, 12, 13, 14, 15, 16, 17]\n",
    "print(\"List of integers:\")\n",
    "print(numbers)\n",
    "\n",
    "# Use the filter function to extract prime numbers\n",
    "prime_numbers = list(filter(is_prime, numbers))\n",
    "print(\"\\nExtract prime numbers of the said list:\")\n",
    "# Print the extracted prime numbers\n",
    "print(prime_numbers)"
   ]
  },
  {
   "cell_type": "markdown",
   "id": "ca82e036-4200-4ec2-bd50-1c1c6e6b431a",
   "metadata": {},
   "source": [
    "22.write a code that uses a lambda function to calculate the sumof two numbers."
   ]
  },
  {
   "cell_type": "code",
   "execution_count": 2,
   "id": "d33721e7-2d95-45ee-907d-89d29bdf95e9",
   "metadata": {},
   "outputs": [
    {
     "name": "stdout",
     "output_type": "stream",
     "text": [
      "Sum of two numbers: 142\n"
     ]
    }
   ],
   "source": [
    "class SumCalculator:\n",
    "    def __init__(self):\n",
    "        pass\n",
    "\n",
    "    def calculate_sum(self, a, b):\n",
    "        return (lambda x, y: x + y)(a, b)\n",
    "    \n",
    "calculator = SumCalculator()\n",
    "result = calculator.calculate_sum(55, 87)\n",
    "print(\"Sum of two numbers:\", result)"
   ]
  },
  {
   "cell_type": "markdown",
   "id": "b81d65aa-6d5b-40c2-832c-400b9561fe5a",
   "metadata": {},
   "source": [
    "23.write a code that uses a lambda function to calculate the square of a given numbers."
   ]
  },
  {
   "cell_type": "code",
   "execution_count": 4,
   "id": "d98ccf7a-0cfa-4684-8387-a4df08926ad4",
   "metadata": {},
   "outputs": [
    {
     "name": "stdout",
     "output_type": "stream",
     "text": [
      "Square of the number: 7225\n"
     ]
    }
   ],
   "source": [
    "class SquareCalculator:\n",
    "    def __init__(self):\n",
    "        pass\n",
    "\n",
    "    def calculate_square(self, number):\n",
    "        return (lambda x: x ** 2)(number)\n",
    "calculator = SquareCalculator()\n",
    "result = calculator.calculate_square(85)\n",
    "print(\"Square of the number:\", result)\n"
   ]
  },
  {
   "cell_type": "markdown",
   "id": "fb5cab91-dd58-4e92-9960-f66120f635c0",
   "metadata": {},
   "source": [
    "24.write a code that uses lambda function to check whether a given number is even or odd."
   ]
  },
  {
   "cell_type": "code",
   "execution_count": 20,
   "id": "0f6b1feb-8185-4e11-b4d3-275b4278e7de",
   "metadata": {},
   "outputs": [
    {
     "name": "stdout",
     "output_type": "stream",
     "text": [
      "The number 6 is Even.\n"
     ]
    }
   ],
   "source": [
    "\n",
    "    def is_even(self, number):\n",
    "        return (lambda x: x % 2 == 0)(number)\n",
    "\n",
    "checker = EvenOddChecker()\n",
    "number = 6\n",
    "result = \"Even\" if checker.is_even(number) else \"Odd\"\n",
    "print(f\"The number {number} is {result}.\")\n"
   ]
  },
  {
   "cell_type": "markdown",
   "id": "aec05a98-dfa8-4541-a460-fbda27138361",
   "metadata": {},
   "source": [
    "25.write a code that uses a lambda function to concantenate two string."
   ]
  },
  {
   "cell_type": "code",
   "execution_count": 29,
   "id": "a8d3b400-053e-47c9-8687-57f8fa823723",
   "metadata": {},
   "outputs": [
    {
     "name": "stdout",
     "output_type": "stream",
     "text": [
      "Concatenated string: sandhyakumari\n"
     ]
    }
   ],
   "source": [
    "class StringConcatenator:\n",
    "    def __init__(self):\n",
    "        pass\n",
    "\n",
    "    def concatenate(self, str1, str2):\n",
    "        concatenate_strings = lambda s1, s2: s1 + s2\n",
    "        return concatenate_strings(str1, str2)\n",
    "\n",
    "# Example usage:\n",
    "concatenator = StringConcatenator()\n",
    "string1 = 'sandhya'\n",
    "string2 = 'kumari'\n",
    "result = concatenator.concatenate(string1, string2)\n",
    "print(\"Concatenated string:\", result)\n"
   ]
  },
  {
   "cell_type": "markdown",
   "id": "bbe94001-992b-4eb8-92d5-483f98668e1b",
   "metadata": {},
   "source": [
    "26.write a code that uses a lambda function to find the maximum of three given numbers."
   ]
  },
  {
   "cell_type": "code",
   "execution_count": 33,
   "id": "2218594b-6ced-4a5c-b70f-3978a1ae2b48",
   "metadata": {},
   "outputs": [
    {
     "name": "stdout",
     "output_type": "stream",
     "text": [
      "The maximum of 77, 30, and 31 is: 77\n"
     ]
    }
   ],
   "source": [
    "# Define the lambda function to find the maximum of three numbers\n",
    "max_of_three = lambda x, y, z: max(x, y, z)\n",
    "\n",
    "# Test the lambda function with three numbers\n",
    "num1 = 77\n",
    "num2 = 30\n",
    "num3 = 31\n",
    "\n",
    "# Find the maximum\n",
    "result = max_of_three(num1, num2, num3)\n",
    "\n",
    "# Print the result\n",
    "print(f\"The maximum of {num1}, {num2}, and {num3} is: {result}\")\n"
   ]
  },
  {
   "cell_type": "markdown",
   "id": "f5014502-fee0-4128-aaa7-9f66d0bd4cda",
   "metadata": {},
   "source": [
    "27.what is encapsulation in Oops?\n",
    "\n",
    "    ENCAPSULATION:-\n",
    ".Encapsulation is one of the fundamental concepts in object-oriented programming (OOP). \n",
    ". It describes the idea of wrapping data and the methods that work on data within one unit.\n",
    ".To prevent accidental change, an object’s variable can only be changed by an object’s method.\n",
    ".hose types of variables are known as private variables.\n",
    ".A class is an example of encapsulation as it encapsulates all the data that is member functions, variables, etc.\n",
    ".The goal of information hiding is to ensure that an object’s state is always valid by controlling access to attributes that \n",
    " are hidden from the outside world.\n"
   ]
  },
  {
   "cell_type": "markdown",
   "id": "4a55b2c2-1b3b-44c5-9601-063dc1465977",
   "metadata": {},
   "source": [
    "28.explain the use of access modifiers in python classes.\n",
    "\n",
    "ans:- \n",
    ".Access modifiers in Python, also known as access specifiers, are the keywords in object-oriented programming.\n",
    ".Python used the ‘_’ symbol to define the accessibility and control of data members of the class.\n",
    ".Access specifiers in Python have an important role to play in securing data from unauthorized access and in preventing it \n",
    " from being exploited.\n",
    ".Access modifiers play a crucial role in maintaining data security and preventing unauthorized modifications.\n",
    "\n",
    "    types of access modifiers:-\n",
    "    \n",
    "    1.Public Access Modifier:-     *The members defined in the public class can be accessed from anywhere. \n",
    "                                   *No prefix or a single underscore (conventionally). Accessible from anywhere.\n",
    "                                   \n",
    "    2.Protected Access Modifier:-  *The members defined in the protected class can only be accessed from within the class in \n",
    "                                    which they are declared and by its subclasses. \n",
    "                                   *Single underscore prefix. Intended for internal use within the class and its subclasses.\n",
    "                                   \n",
    "    3.Private Access Modifier:-    *The members defined in the private class can only be accessed by class members.\n",
    "                                   *Double underscore prefix. Intended for internal use within the class only, enforced via \n",
    "                                    name mangling.\n",
    "                                    \n",
    "(1) Public Access Modifier:-\n",
    "   *Syntax: No prefix or a single underscore (optional, by convention).\n",
    "   *Scope: Accessible from anywhere, both inside and outside the class.\n",
    "   *EXAMPLE:- \n",
    "             \n",
    "             class MyClass:\n",
    "    def __init__(self):\n",
    "        self.public_var = \"I am public\"\n",
    "\n",
    "    def public_method(self):\n",
    "        return \"This is a public method\"\n",
    "\n",
    "         obj = MyClass()\n",
    "    print(obj.public_var)  # Accessible\n",
    "    print(obj.public_method())  # Accessible\n",
    "    \n",
    "(2) Protected Access Modifier:-\n",
    "    *Syntax: Single underscore _ prefix.\n",
    "    *Scope: Meant to be accessed only within the class and its subclasses. However, it is still accessible from outside the \n",
    "            class (not strictly enforced, more of a convention).\n",
    "    *EXAMPLE:-\n",
    "     \n",
    "        class MyClass:\n",
    "    def __init__(self):\n",
    "        self._protected_var = \"I am protected\"\n",
    "\n",
    "    def _protected_method(self):\n",
    "        return \"This is a protected method\"\n",
    "\n",
    "     class SubClass(MyClass):\n",
    "    def access_protected(self):\n",
    "        return self._protected_var\n",
    "\n",
    "    obj = SubClass()\n",
    "    print(obj._protected_var)  # Accessible but not recommended\n",
    "    print(obj._protected_method())  # Accessible but not recommended\n",
    "    print(obj.access_protected())  # Preferred way\n",
    "\n",
    "\n",
    "    \n",
    "(3)Private Access Modifier:-\n",
    " *Syntax: Double underscore __ prefix.\n",
    " *Scope: Accessible only within the class in which it is defined. Name mangling is used to ensure this.\n",
    " *EXAMPLE:-\n",
    "     \n",
    "     class MyClass:\n",
    "    def __init__(self):\n",
    "        self.__private_var = \"I am private\"\n",
    "\n",
    "    def __private_method(self):\n",
    "        return \"This is a private method\"\n",
    "\n",
    "    def access_private(self):\n",
    "        return self.__private_method()\n",
    "\n",
    "    obj = MyClass()\n",
    "\n",
    "    print(obj.access_private())  # Preferred way\n"
   ]
  },
  {
   "cell_type": "markdown",
   "id": "fe5bd88b-ff86-4745-b073-f3037ada1bc6",
   "metadata": {},
   "source": [
    "29.what is inheritance in OOP?\n",
    "ANS.\n",
    ".The method of inheriting the properties of parent class into a child class is known as inheritance.\n",
    ".It is an OOP concept. The following are the benefits of inheritance.\n",
    ".Code reusability- we do not have to write the same code, again and again, we can just inherit the properties we need in a \n",
    " child class.\n",
    ".It represents a real-world relationship between parent class and child class.\n",
    ".It is transitive in nature. If a child class inherits properties from a parent class, then all other sub-classes of the child \n",
    " class will also inherit the properties of the parent class.\n",
    ".TYPES OF INHERITANCE:-\n",
    "(1)single inheritance:- When a child class inherits only a single parent class.\n",
    "    example:- \n",
    "          \n",
    "          class Parent:\n",
    "      def func1(self):\n",
    "           print(\"this is function one\")\n",
    "     class Child(Parent):\n",
    "      def func2(self):\n",
    "            print(\" this is function 2 \")\n",
    "    ob = Child()\n",
    "     ob.func1()\n",
    "      ob.func2()\n",
    "      \n",
    "(2)multiple inheritance:-  When a child class inherits from more than one parent class.\n",
    "                         \n",
    "                         \n",
    "                         class Parent:\n",
    "     def func1(self):\n",
    "         print(\"this is function 1\")\n",
    "      class Parent2:\n",
    "      def func2(self):\n",
    "           print(\"this is function 2\")\n",
    "    class Child(Parent , Parent2):\n",
    "     def func3(self):\n",
    "          print(\"this is function 3\")\n",
    "     ob = Child()\n",
    "     ob.func1()\n",
    "    ob.func2()\n",
    "    ob.func3()\n",
    "\n",
    "\n",
    "(3)hybrid inheritance:- Hybrid inheritance involves multiple inheritances taking place in a single program.\n",
    "                       \n",
    "                       \n",
    "                       class Parent:\n",
    "      def func1(self):\n",
    "          print(\"this is function one\")\n",
    "    class Child(Parent):\n",
    "      def func2(self):\n",
    "           print(\"this is function 2\")\n",
    "     class Child1(Parent):\n",
    "      def func3(self):\n",
    "       print(\" this is function 3\"):\n",
    "    class Child3(Parent , Child1):\n",
    "      def func4(self):\n",
    "           print(\" this is function 4\")\n",
    "     ob = Child3()\n",
    "      ob.func1()\n",
    "\n",
    "\n",
    "(4)multilevel inheritance:-  When a child class becomes a parent class for another child class.\n",
    "                            \n",
    "                            \n",
    "                            class Parent:\n",
    "      def func1(self):\n",
    "           print(\"this is function 1\")\n",
    "     class Child(Parent):\n",
    "      def func2(self):\n",
    "      print(\"this is function 2\")\n",
    "    class Child2(Child):\n",
    "        def func3(\"this is function 3\")\n",
    "    ob = Child2()\n",
    "    ob.func1()\n",
    "    ob.func2()\n",
    "    ob.func3()\n",
    "\n",
    "(5)Hierarchical Inheritance:-  Hierarchical inheritance involves multiple inheritance from the same base or parent class.\n",
    "                              \n",
    "                              \n",
    "                              class Parent:\n",
    "      def func1(self):\n",
    "          print(\"this is function 1\")\n",
    "    class Child(Parent):\n",
    "      def func2(self):\n",
    "          print(\"this is function 2\")\n",
    "    class Child2(Parent):\n",
    "     def func3(self):\n",
    "         print(\"this is function 3\")\n",
    "    ob = Child()\n",
    "    ob1 = Child2()\n",
    "     ob.func1()\n",
    "    ob.func2()\n"
   ]
  },
  {
   "cell_type": "markdown",
   "id": "f9a1fd77-3047-407e-83a3-026d25dba7ef",
   "metadata": {},
   "source": [
    "30.define polymorphism in Oop?\n",
    "ans:- \n",
    ".polymorphism means having many forms.\n",
    ".In programming, polymorphism means the same function name (but different signatures) being used for different types. \n",
    ".A child class inherits all the methods from the parent class. However, in some situations, the method inherited from the   \n",
    " parent class doesn’t quite fit into the child class. In such cases, you will have to re-implement method in the child class.\n",
    ".There are different methods to use polymorphism in Python. You can use different function, class methods or objects to define \n",
    " polymorphism. So, let’s move ahead and have a look at each of these methods in detail.\n"
   ]
  },
  {
   "cell_type": "markdown",
   "id": "955eebbc-4223-4ee4-afab-0103aad20048",
   "metadata": {},
   "source": [
    "31.explain method overrinding in python.\n",
    "ANS.\n",
    ".Method overriding occurs when a subclass defines a method with the same name, parameters, and return type as a method in \n",
    " its superclass.\n",
    ".The method in the subclass overrides (replaces) the method in the superclass.\n",
    ".Any object-oriented programming language can allow a subclass or child class to offer a customized implementation of a \n",
    " method already supplied by one of its superclasses or parent classes.\n",
    ".This capability is known as method overriding. The term \"override\" refers to a method in a subclass that replaces a \n",
    " method in a superclass when both methods share the same name, parameters, signature, and return type (or sub-type).\n",
    ".EXAMPLE:-\n",
    "\n",
    "\n",
    "                class Animal:\n",
    "    def speak(self):\n",
    "        print(\"Animal speaks\")\n",
    "\n",
    "    class Dog(Animal):\n",
    "    def speak(self):\n",
    "        print(\"Dog barks\")\n",
    "\n",
    "\n",
    "     animal = Animal()\n",
    "     dog = Dog()\n",
    "\n",
    "    animal.speak()  # Output: Animal speaks\n",
    "    dog.speak()     # Output: Dog barks\n",
    "\n",
    "\n"
   ]
  },
  {
   "cell_type": "markdown",
   "id": "4412733e-7b14-4781-922b-f52c7c1489c2",
   "metadata": {},
   "source": [
    "32.define a parent class animal with a method make_sound that prints\"generic animal sound\". Create a child class dog inherting from animal with a method make_sound that prints\"woof!\""
   ]
  },
  {
   "cell_type": "code",
   "execution_count": 1,
   "id": "10f5d286-a19c-4670-93b4-d29bf5200f82",
   "metadata": {},
   "outputs": [
    {
     "name": "stdout",
     "output_type": "stream",
     "text": [
      "generic animal sound\n",
      "woof!\n"
     ]
    }
   ],
   "source": [
    "class Animal:\n",
    "    def make_sound(self):\n",
    "        print(\"generic animal sound\")\n",
    "\n",
    "class Dog(Animal):\n",
    "    def make_sound(self):\n",
    "        print(\"woof!\")\n",
    "\n",
    "# Creating instances of both classes\n",
    "generic_animal = Animal()\n",
    "dog = Dog()\n",
    "\n",
    "# Calling the make_sound method\n",
    "generic_animal.make_sound()  # Output: generic animal sound\n",
    "dog.make_sound()             # Output: woof!\n"
   ]
  },
  {
   "cell_type": "markdown",
   "id": "4b8c5a2d-e493-404d-8e2b-963cfe4b37fc",
   "metadata": {},
   "source": [
    "33.define a method move in the animal class that prints\"Animals moves\".Override the move method in the dog class to print \"Dog runs.\""
   ]
  },
  {
   "cell_type": "code",
   "execution_count": 1,
   "id": "ea456635-7209-44c2-8861-646e876acfbe",
   "metadata": {},
   "outputs": [
    {
     "name": "stdout",
     "output_type": "stream",
     "text": [
      "Animal moves\n",
      "Dog runs\n"
     ]
    }
   ],
   "source": [
    "class Animal:\n",
    "    def move(self):\n",
    "        print(\"Animal moves\")\n",
    "\n",
    "class Dog(Animal):\n",
    "    def move(self):\n",
    "        print(\"Dog runs\")\n",
    "\n",
    "# Example usage:\n",
    "animal = Animal()\n",
    "animal.move()  # Output: Animal moves\n",
    "\n",
    "dog = Dog()\n",
    "dog.move()  # Output: Dog runs\n"
   ]
  },
  {
   "cell_type": "markdown",
   "id": "c17b6db9-cbeb-4ce5-ac2a-54c7a5060109",
   "metadata": {},
   "source": [
    "34.create a class mamal with a method reproduce thet prints\"Giving birth to live young.\" create a class dogmammai inherting fro both dog and mammai"
   ]
  },
  {
   "cell_type": "code",
   "execution_count": 4,
   "id": "dc68728c-9886-4909-802d-09376cf37281",
   "metadata": {},
   "outputs": [
    {
     "name": "stdout",
     "output_type": "stream",
     "text": [
      "Giving birth to live young.\n",
      "Woof!\n"
     ]
    }
   ],
   "source": [
    "# Base class Mammal\n",
    "class Mammal:\n",
    "    def reproduce(self):\n",
    "        print(\"Giving birth to live young.\")\n",
    "class Dog:\n",
    "    def bark(self):\n",
    "        print(\"Woof!\")\n",
    "\n",
    "# Class DogMammal inheriting from both Dog and Mammal\n",
    "class DogMammal(Dog, Mammal):\n",
    "    pass\n",
    "\n",
    "# Creating an instance of DogMammal and testing its methods\n",
    "dog_mammal = DogMammal()\n",
    "dog_mammal.reproduce()  # This will print: Giving birth to live young.\n",
    "dog_mammal.bark()       # This will print: Woof!\n"
   ]
  },
  {
   "cell_type": "markdown",
   "id": "0974c2e1-1836-4cd9-83e0-d3164731e4d5",
   "metadata": {},
   "source": [
    "35.crete a class german shepred inherting from dog and override the make_sound method toprint\"Bark!\""
   ]
  },
  {
   "cell_type": "code",
   "execution_count": 5,
   "id": "f33694bf-7033-43e4-8e1c-a0dd14e7ba5f",
   "metadata": {},
   "outputs": [
    {
     "name": "stdout",
     "output_type": "stream",
     "text": [
      "Bark!\n"
     ]
    }
   ],
   "source": [
    "class Dog:\n",
    "    def make_sound(self):\n",
    "        print(\"Woof!\")\n",
    "\n",
    "# Class GermanShepherd inheriting from Dog\n",
    "class GermanShepherd(Dog):\n",
    "    def make_sound(self):\n",
    "        print(\"Bark!\")\n",
    "\n",
    "# Creating an instance of GermanShepherd and testing its make_sound method\n",
    "german_shepherd = GermanShepherd()\n",
    "german_shepherd.make_sound()  # This will print: Bark!\n"
   ]
  },
  {
   "cell_type": "markdown",
   "id": "c8883634-45c7-45c9-bb5b-b38d02a470fe",
   "metadata": {},
   "source": [
    "36.define constructors in both the animal and dog classes with different  initalization parameters."
   ]
  },
  {
   "cell_type": "code",
   "execution_count": 1,
   "id": "52d4685d-1b56-46bf-904f-13c6733a6829",
   "metadata": {},
   "outputs": [
    {
     "name": "stdout",
     "output_type": "stream",
     "text": [
      "I am a Elephant.\n",
      "My name is Buddy and I am a Dog.\n"
     ]
    }
   ],
   "source": [
    "class Animal:\n",
    "    def __init__(self, species):\n",
    "        self.species = species\n",
    "\n",
    "    def info(self):\n",
    "        print(f\"I am a {self.species}.\")\n",
    "\n",
    "# Class Dog inheriting from Animal\n",
    "class Dog(Animal):\n",
    "    def __init__(self, name):\n",
    "        super().__init__(\"Dog\")\n",
    "        self.name = name\n",
    "\n",
    "    def info(self):\n",
    "        print(f\"My name is {self.name} and I am a {self.species}.\")\n",
    "\n",
    "# Creating instances of Animal and Dog and testing their constructors\n",
    "animal = Animal(\"Elephant\")\n",
    "animal.info()  # This will print: I am an Elephant.\n",
    "\n",
    "dog = Dog(\"Buddy\")\n",
    "dog.info()     # This will print: My name is Buddy and I am a Dog.\n"
   ]
  },
  {
   "cell_type": "markdown",
   "id": "73303f4c-5212-48a3-9ebc-dfab346441a4",
   "metadata": {},
   "source": [
    "37.what is abstraction in python?How is it implemented?"
   ]
  },
  {
   "cell_type": "markdown",
   "id": "fe372bd7-1602-4a3b-95e5-e0aaef072d49",
   "metadata": {},
   "source": [
    "abstraction :-\n",
    ".Abstraction is used to hide the internal functionality of the function from the users.\n",
    ".The users only interact with the basic implementation of the function, but inner working is hidden. \n",
    ".User is familiar with that \"what function does\" but they don't know \"how it does.\"\n",
    ".In Python, an abstraction is used to hide the irrelevant data/class in order to reduce the complexity. It also enhances the \n",
    " application efficiency.\n",
    ".A class that consists of one or more abstract method is called the abstract class. \n",
    ".This helps in managing complexity by allowing the user to interact with an object at a higher level without needing to \n",
    " understand the intricat\n",
    " e details of its inner workings.\n",
    ".Abstract methods do not contain their implementation.\n",
    ".Abstract class can be inherited by the subclass and abstract method gets its definition in the subclass. \n",
    ".Abstraction classes are meant to be the blueprint of the other class. An abstract class can be useful when we are designing\n",
    " large functions. \n",
    ".An abstract class is also helpful to provide the standard interface for different implementations of components.\n"
   ]
  },
  {
   "cell_type": "code",
   "execution_count": 3,
   "id": "c0d06678-9a74-4c5f-9c70-ee27d462867a",
   "metadata": {},
   "outputs": [
    {
     "name": "stdout",
     "output_type": "stream",
     "text": [
      "Woof!\n",
      "I am an animal.\n",
      "Meow!\n",
      "I am an animal.\n"
     ]
    }
   ],
   "source": [
    "#Abstraction Implemented in Python\n",
    "\n",
    "from abc import ABC, abstractmethod\n",
    "\n",
    "# Abstract class Animal\n",
    "class Animal(ABC):\n",
    "    @abstractmethod\n",
    "    def make_sound(self):\n",
    "        pass  # Abstract method with no implementation\n",
    "\n",
    "    def info(self):\n",
    "        print(\"I am an animal.\")\n",
    "\n",
    "# Concrete class Dog inheriting from Animal\n",
    "class Dog(Animal):\n",
    "    def make_sound(self):\n",
    "        print(\"Woof!\")\n",
    "\n",
    "# Concrete class Cat inheriting from Animal\n",
    "class Cat(Animal):\n",
    "    def make_sound(self):\n",
    "        print(\"Meow!\")\n",
    "\n",
    "# Creating instances of Dog and Cat and testing their methods\n",
    "dog = Dog()\n",
    "dog.make_sound()  # This will print: Woof!\n",
    "dog.info()        # This will print: I am an animal.\n",
    "\n",
    "cat = Cat()\n",
    "cat.make_sound()  # This will print: Meow!\n",
    "cat.info()        # This will print: I am an animal.\n"
   ]
  },
  {
   "cell_type": "markdown",
   "id": "594631c6-aa79-4cd1-9aff-f28d3d185e71",
   "metadata": {},
   "source": [
    "38.explain the importance of abstraction in object- oriented programming."
   ]
  },
  {
   "cell_type": "markdown",
   "id": "30450f90-1565-4faa-88b9-b2584567e989",
   "metadata": {},
   "source": [
    "ans.his reduces code duplication and promotes the reuse of existing, well-tested components.\n",
    "\n",
    ".Abstraction is a fundamental principle in object-oriented programming (OOP) that plays a crucial role in software design and \n",
    " development. \n",
    ".Here are some key reasons why abstraction is important:\n",
    "\n",
    "(1)Simplifies Complex Systems:\n",
    "    .Reusable Components: \n",
    "                         .By defining abstract classes and interfaces, developers can create reusable components that can be \n",
    "                          used across different parts of a program or even in different projects.\n",
    "                         .By focusing on high-level functionalities and ignoring low-level implementation details, developers                           can better understand and manage complex systems.\n",
    "                         \n",
    "   .Focus on What Matters:\n",
    "                         .It helps in concentrating on what an object does rather than how it does it, enabling a clearer and \n",
    "                          more logical structure of the software.\n",
    "                          \n",
    "(2)Enhances Code Reusability:\n",
    "   .Reusable Components: \n",
    "                        .By defining abstract classes and interfaces, developers can create reusable components that can be \n",
    "                         used across different parts of a program or even in different projects.\n",
    "(3)Facilitates Maintenance and Modifications:\n",
    "    .Ease of Maintenance: \n",
    "                         .With abstraction, changes to the implementation of an object do not affect the code that uses the \n",
    "                          object, as long as the interface remains consistent. \n",
    "                         .This separation of interface and implementation makes maintaining and updating code easier.\n",
    "    .Encapsulation:\n",
    "                         .It promotes encapsulation by hiding the internal state and behavior of an object and only exposing a \n",
    "                          defined set of public methods. This reduces the risk of unintended interactions and side effects.\n",
    "                          \n",
    "(4)Supports Code Flexibility and Scalability:\n",
    "   .Flexibility:     \n",
    "                         .Abstraction provides the flexibility to change the implementation of an abstract class without \n",
    "                          altering the code that depends on it.\n",
    "                         .This makes it easier to extend and enhance the system.\n",
    "                         \n",
    "   .Scalability:                      \n",
    "                         .As software systems grow, abstraction helps in managing scalability by allowing developers to add \n",
    "                          new functionality without modifying existing code significantly.\n",
    "                          \n",
    "(5)Improves Readability and Understandability:\n",
    "                          \n",
    "   .Clearer Code: \n",
    "                        . Abstraction helps in creating clearer and more readable code by separating the interface from the \n",
    "                         implementation. \n",
    "                        .This allows developers to understand and work with the high-level operations without getting bogged \n",
    "                         down by the details. \n",
    "  .Documentation:        \n",
    "                        .Abstract classes and interfaces can serve as a form of documentation, clearly defining the expected \n",
    "                         behavior of different components in the system.\n",
    "                          \n",
    "                          \n",
    "     "
   ]
  },
  {
   "cell_type": "code",
   "execution_count": 4,
   "id": "c6912967-ffe7-4304-b500-303d6d515b9d",
   "metadata": {},
   "outputs": [
    {
     "name": "stdout",
     "output_type": "stream",
     "text": [
      "Area: 12, Perimeter: 14\n",
      "Area: 78.5, Perimeter: 31.400000000000002\n"
     ]
    }
   ],
   "source": [
    "from abc import ABC, abstractmethod\n",
    "\n",
    "# Abstract class Shape\n",
    "class Shape(ABC):\n",
    "    @abstractmethod\n",
    "    def area(self):\n",
    "        pass\n",
    "\n",
    "    @abstractmethod\n",
    "    def perimeter(self):\n",
    "        pass\n",
    "\n",
    "# Concrete class Rectangle inheriting from Shape\n",
    "class Rectangle(Shape):\n",
    "    def __init__(self, width, height):\n",
    "        self.width = width\n",
    "        self.height = height\n",
    "\n",
    "    def area(self):\n",
    "        return self.width * self.height\n",
    "\n",
    "    def perimeter(self):\n",
    "        return 2 * (self.width + self.height)\n",
    "\n",
    "# Concrete class Circle inheriting from Shape\n",
    "class Circle(Shape):\n",
    "    def __init__(self, radius):\n",
    "        self.radius = radius\n",
    "\n",
    "    def area(self):\n",
    "        return 3.14 * self.radius ** 2\n",
    "\n",
    "    def perimeter(self):\n",
    "        return 2 * 3.14 * self.radius\n",
    "\n",
    "# Using the abstract class to work with concrete implementations\n",
    "shapes = [Rectangle(3, 4), Circle(5)]\n",
    "\n",
    "for shape in shapes:\n",
    "    print(f\"Area: {shape.area()}, Perimeter: {shape.perimeter()}\")\n"
   ]
  },
  {
   "cell_type": "markdown",
   "id": "b6ab24d0-823e-4fc4-b8f7-e09dabd98293",
   "metadata": {},
   "source": [
    "(1)Abstract Class ('Shape'): \n",
    "                                                 .Defines the abstract methods 'area' and 'perimeter', ensuring that any t \n",
    "                                                  subclass must implement these methods.\n",
    "(2)Concrete Classes ('Rectangle' and 'Circle'):\n",
    "                                                 .Implement the 'area' and 'perimeter' methods specific to their shapes.\n",
    "(3)Polymorphism:\n",
    "                                                 .The 'shapes' list contains different shapes, but they can all be treated as \n",
    "                                                  instances of the 'Shape' class.\n",
    "                                     \n"
   ]
  },
  {
   "cell_type": "markdown",
   "id": "95ac7392-698c-4da4-9aee-e4603bcf23d5",
   "metadata": {},
   "source": [
    "39.How are abstract methods different from regular methods in python. "
   ]
  },
  {
   "cell_type": "markdown",
   "id": "552d02b9-b9aa-4274-866e-d8f17499fb5e",
   "metadata": {},
   "source": [
    "* Abstract method:\n",
    "(1)Definition and Purpose:\n",
    "                           .Abstract methods are declared in an abstract class (a class that inherits from 'ABC' in the 'abc' \n",
    "                            module).\n",
    "                           .They are intended to be overridden in subclasses, and they do not contain any implementation in \n",
    "                            the abstract class.\n",
    "(2)Syntax:\n",
    "                           .Abstract methods are marked with the @abstractmethod decorator from the abc module.\n",
    "                              \n",
    "\n",
    "                                    from abc import ABC, abstractmethod  \n",
    "                                      class AbstractClass(ABC):\n",
    "                                      @abstractmethod\n",
    "                                       def abstract_method(self):\n",
    "                                               pass\n",
    "(3)Implementation:\n",
    "                          .Abstract methods cannot be instantiated directly. They must be implemented in any concrete (non-.\n",
    "                           abstract) subclass.\n",
    "                            \n",
    "                                                         class ConcreteClass(AbstractClass):\n",
    "                                                             def abstract_method(self):\n",
    "                                                                   print(\"Implemented abstract method\")\n",
    "(4)Purpose:\n",
    "                         .Enforce a contract for subclasses: Any subclass of the abstract class must provide an implementation \n",
    "                          for the abstract methods.\n",
    "                         .Provide a template for future development, ensuring that certain methods will be available in all \n",
    "                          subclasses.\n",
    "* Regular Methods:\n",
    "(1)Definition and Purpose:\n",
    "                           .Regular methods are defined in any class (concrete or abstract) and contain an implementation.\n",
    "                           .They are meant to perform specific operations and can be used directly by creating an instance of \n",
    "                            the class.\n",
    "(2)Syntax:\n",
    "                           .Regular methods do not require any special decorator.\n",
    "                           \n",
    "                                                          class MyClass:\n",
    "                                       def regular_method(self):\n",
    "                                print(\"This is a regular method\")\n",
    "(3)Implementation:\n",
    "                            .Regular methods are fully implemented in the class where they are defined.\n",
    "                            .They can be called on any instance of the class.\n",
    "                            \n",
    "                            my_instance = MyClass()\n",
    "                            my_instance.regular_method()  # Prints: This is a regular method\n",
    "(4)Purpose:\n",
    "                            .Provide functionality that can be used directly by instances of the class.\n",
    "                            .Implement the behavior and operations associated with the objects of the class.\n",
    "\n",
    "             "
   ]
  },
  {
   "cell_type": "markdown",
   "id": "791b498a-08fe-49b8-ac93-8eb6f93e0345",
   "metadata": {},
   "source": [
    "40.How can you achieve abstraction using interface in python?"
   ]
  },
  {
   "cell_type": "markdown",
   "id": "fd70405b-f2e5-444c-949f-1c24c7c51fff",
   "metadata": {},
   "source": [
    ". In object-oriented programming (OOP), abstraction is achieved by hiding the complex implementation details and exposing only   the essential features of an object.\n",
    ". In Python, this can be accomplished using abstract base classes (ABCs), which act as interfaces.\n",
    ". These interfaces define methods that must be implemented by any concrete subclass. \n",
    "\n"
   ]
  },
  {
   "cell_type": "markdown",
   "id": "2aec9861-875e-41c1-b418-3ac747f1413a",
   "metadata": {},
   "source": [
    "41.can you provide an example of how abstraction can be utilized to create a common interface for a group of realted classes in python ?"
   ]
  },
  {
   "cell_type": "code",
   "execution_count": null,
   "id": "34400c6a-150a-431a-80e4-c91fd5c8d0cf",
   "metadata": {},
   "outputs": [],
   "source": []
  },
  {
   "cell_type": "markdown",
   "id": "5a1b9cd7-a3d6-4b85-b516-a01dd2f4269c",
   "metadata": {},
   "source": [
    "43.define a base class with a method and a subclasses with overriden methods."
   ]
  },
  {
   "cell_type": "markdown",
   "id": "4c0e43ab-0d08-4f60-9a3f-aeea729613c2",
   "metadata": {
    "tags": []
   },
   "source": [
    "Base Class:-\n",
    "\n",
    "The base class will have a method that can be overridden by subclasses.\n",
    "\n",
    "      class Animal:\n",
    "              def sound(self):\n",
    "           return \"Some generic animal sound\"\n",
    "           \n",
    "Subclass 1:-\n",
    "\n",
    "This subclass will override the sound method to provide a specific sound for dogs.\n",
    "\n",
    "                class Dog(Animal):\n",
    "                  def sound(self):\n",
    "                       return \"Bark\"\n",
    "                       \n",
    "                       \n",
    "Subclass 2:-\n",
    "\n",
    "         class Cat(Animal):\n",
    "             def sound(self):\n",
    "                return \"Meow\"\n",
    "                \n",
    "Using the Classes:-\n",
    "\n",
    "\n",
    "    generic_animal = Animal()\n",
    "    dog = Dog()\n",
    "    cat = Cat()\n",
    "\n",
    "    print(generic_animal.sound())  # Output: Some generic animal sound\n",
    "    print(dog.sound())             # Output: Bark\n",
    "    print(cat.sound())             # Output: Meow\n",
    "\n",
    "\n",
    "\n"
   ]
  },
  {
   "cell_type": "markdown",
   "id": "c0d84661-4f95-4d4c-a0cb-e4ebbd9da88d",
   "metadata": {},
   "source": [
    "44.Define a base class and multiple subclasses with overridden methods."
   ]
  },
  {
   "cell_type": "code",
   "execution_count": 1,
   "id": "bc01b343-d720-4195-bf61-04454e7b38eb",
   "metadata": {},
   "outputs": [
    {
     "name": "stdout",
     "output_type": "stream",
     "text": [
      "Woof\n",
      "Meow\n",
      "Neigh\n"
     ]
    }
   ],
   "source": [
    "class Animal:\n",
    "  def make_sound(self):\n",
    "    print(\"Generic animal sound\")\n",
    "\n",
    "class Dog(Animal):\n",
    "  def make_sound(self):\n",
    "    print(\"Woof\")\n",
    "\n",
    "class Cat(Animal):\n",
    "  def make_sound(self):\n",
    "    print(\"Meow\")\n",
    "\n",
    "class Horse(Animal):\n",
    "  def make_sound(self):\n",
    "    print(\"Neigh\")\n",
    "\n",
    "dog = Dog()\n",
    "cat = Cat()\n",
    "horse = Horse()\n",
    "\n",
    "dog.make_sound()\n",
    "cat.make_sound()\n",
    "horse.make_sound()\n",
    "     "
   ]
  },
  {
   "cell_type": "markdown",
   "id": "1d82a3a3-dd4b-4313-a416-d3f8618670b8",
   "metadata": {},
   "source": [
    "45.How does polymorphism improve code readability and reusability."
   ]
  },
  {
   "cell_type": "markdown",
   "id": "b3451f0b-a9e6-45b2-b3d3-4978dea3ed79",
   "metadata": {},
   "source": [
    "Polymorphism improves code readability and reusability by:\n",
    ".Simplifying code:\n",
    " By using a common interface for related classes, polymorphism allows you to write code that works with different types of objects without having to worry about their specific implementations. This simplifies the code and makes it easier to understand.\n",
    ".Promoting code reuse:\n",
    "Polymorphism enables you to create code that can be reused in different contexts. For example, you can write a function that takes a Shape object as an argument and calculates its area. This function can be used with any subclass of Shape, such as Square, Circle, or Triangle, without modification.\n",
    ".Enhancing maintainability: \n",
    "Polymorphism makes code more maintainable by allowing you to change the implementation of a subclass without affecting the code that uses it. For example, if you need to change the way that the area of a Square is calculated, you can simply modify the area() method in the Square class. This change will not affect any of the code that uses the Square class."
   ]
  },
  {
   "cell_type": "markdown",
   "id": "c43988e3-3620-4e31-a446-09d4553df903",
   "metadata": {},
   "source": [
    "46.Describe how Python supports polymorphism with duck typing."
   ]
  },
  {
   "cell_type": "markdown",
   "id": "09688d71-1609-4757-b542-958716f2ca6a",
   "metadata": {},
   "source": [
    "46.Describe how Python supports polymorphism with duck typing?"
   ]
  },
  {
   "cell_type": "markdown",
   "id": "8a9fd5c4-09ca-4bee-9fa7-6c1164f41ecc",
   "metadata": {},
   "source": [
    ".Duck Typing in Python: Behavior-Based: Python focuses on an object's behavior (methods and attributes it supports) rather than its type or class hierarchy.\n",
    "\n",
    ".No Explicit Interface: Objects are accepted based on their ability to respond to method calls and attribute accesses.\n",
    ".Example:  \n",
    "          Different objects can be used interchangeably if they implement similar methods, without needing a common base class or interface."
   ]
  },
  {
   "cell_type": "markdown",
   "id": "f606f1ff-1971-45b4-940d-d1640e913177",
   "metadata": {},
   "source": [
    "47.How do you achieve encapsulation in Python."
   ]
  },
  {
   "cell_type": "markdown",
   "id": "4060c9fd-5f90-4b7b-acff-85bafe4aa8c1",
   "metadata": {},
   "source": [
    "Encapsulation in Python: Classes and Objects: Use classes to encapsulate data (attributes) and methods.\n",
    "Access Modifiers: Use naming conventions (_ for protected, __ for private) to indicate attribute visibility.\n",
    "Getter and Setter Methods: Optionally define methods to access and modify private attributes for controlled access.\n",
    "Information Hiding: Controls access to data to protect implementation details and ensure data integrity.\n",
    "Flexibility: Python's dynamic nature allows for flexible implementation of encapsulation principles without strict enforcement.\n"
   ]
  },
  {
   "cell_type": "markdown",
   "id": "ea4cb811-46e0-4880-8083-e3387a279520",
   "metadata": {},
   "source": [
    "48.Can encapsulation be bypassed in Python? If so, how"
   ]
  },
  {
   "cell_type": "markdown",
   "id": "ab0a5c45-59c6-4229-9fee-a6e84ee6f743",
   "metadata": {},
   "source": [
    "Yes, encapsulation can be bypassed in Python using the following methods:\n",
    "\n",
    "1.Direct Attribute Access: Private attributes can be accessed directly by using the object's __dict__ attribute.\n",
    "2.Name Mangling: Private attributes can be accessed indirectly using their mangled names, which are generated by Python to protect private attributes.\n",
    "3.Inheritance: Private attributes can be accessed from subclasses, even though they are not directly visible to the subclass."
   ]
  },
  {
   "cell_type": "markdown",
   "id": "2c63602b-5db8-4e1b-8cfd-d0004d6f2b18",
   "metadata": {},
   "source": [
    "49.Implement a class BankAccount with a private balance attribute. Include methods to deposit, withdraw,and check the balance."
   ]
  },
  {
   "cell_type": "code",
   "execution_count": 4,
   "id": "e4ac67aa-6d88-4923-bd03-ff755bc9e28e",
   "metadata": {},
   "outputs": [
    {
     "name": "stdout",
     "output_type": "stream",
     "text": [
      "Current balance: 103800\n"
     ]
    }
   ],
   "source": [
    "class BankAccount:\n",
    "    def __init__(self, initial_balance):\n",
    "        self.__balance = initial_balance\n",
    "\n",
    "    def deposit(self, amount):\n",
    "        self.__balance += amount\n",
    "\n",
    "    def withdraw(self, amount):\n",
    "        if self.__balance >= amount:\n",
    "            self.__balance -= amount\n",
    "        else:\n",
    "            print(\"Insufficient funds\")\n",
    "\n",
    "    def check_balance(self):\n",
    "        return self.__balance\n",
    "\n",
    "\n",
    "account = BankAccount(51000)\n",
    "\n",
    "\n",
    "account.deposit(53000)\n",
    "\n",
    "\n",
    "account.withdraw(200)\n",
    "\n",
    "\n",
    "balance = account.check_balance()\n",
    "print(f\"Current balance: {balance}\")\n"
   ]
  },
  {
   "cell_type": "markdown",
   "id": "e18b7d0a-85f6-4ffe-9347-f4625746a755",
   "metadata": {},
   "source": [
    "50.Develop a Person class with private attributes name and email, and methods to set and get the email."
   ]
  },
  {
   "cell_type": "code",
   "execution_count": 5,
   "id": "6e6473c0-2d08-4b69-839a-0a8e8ac8a544",
   "metadata": {},
   "outputs": [
    {
     "name": "stdout",
     "output_type": "stream",
     "text": [
      "Name: John Doe\n",
      "Email: john.doe@example.com\n"
     ]
    }
   ],
   "source": [
    "class Person:\n",
    "    def __init__(self, name):\n",
    "        self.__name = name\n",
    "        self.__email = None\n",
    "\n",
    "    def set_email(self, email):\n",
    "        self.__email = email\n",
    "\n",
    "    def get_email(self):\n",
    "        return self.__email\n",
    "\n",
    "    def get_name(self):\n",
    "        return self.__name\n",
    "\n",
    "\n",
    "person = Person(\"John Doe\")\n",
    "person.set_email(\"john.doe@example.com\")\n",
    "\n",
    "\n",
    "print(f\"Name: {person.get_name()}\")\n",
    "print(f\"Email: {person.get_email()}\")"
   ]
  },
  {
   "cell_type": "markdown",
   "id": "da43a0c9-27ac-402f-83ec-8f8ce1d1dd83",
   "metadata": {},
   "source": [
    "51.Why is encapsulation considered a pillar of object-oriented programming (OOP)."
   ]
  },
  {
   "cell_type": "markdown",
   "id": "d8ca5768-c7bf-4811-9acf-8c4a044b516d",
   "metadata": {},
   "source": [
    "Data hiding: Encapsulation helps to protect data from unauthorized access and modification by bundling data and methods together into a single unit called an \n",
    "              object.\n",
    "Modularity: Encapsulation promotes by allowing developers to create self-contained units of code that can be easily reused in other programs.\n",
    "Code maintainability: Encapsulation improves code maintainability by making it easier to understand and modify code.\n",
    "Information hiding: Encapsulation helps to hide the implementation details of a class from its users, making it easier to change the implementation without affecting the code that uses it."
   ]
  },
  {
   "cell_type": "markdown",
   "id": "0e109796-9e68-4ab4-a5f3-28cea5df3191",
   "metadata": {},
   "source": [
    "52.Create a decorator in Python that adds functionality to a simple function by printing a message before and after the function execution\n"
   ]
  },
  {
   "cell_type": "code",
   "execution_count": 6,
   "id": "60249b47-a1f1-4564-be1a-ace0ad9cd15a",
   "metadata": {},
   "outputs": [
    {
     "name": "stdout",
     "output_type": "stream",
     "text": [
      "BEFORE\n",
      "hello- printed between\n",
      "After\n"
     ]
    }
   ],
   "source": [
    "def pip(func):\n",
    "  def wrapper():\n",
    "    print(\"BEFORE\")\n",
    "    func()\n",
    "    print(\"After\")\n",
    "  return wrapper\n",
    "@pip\n",
    "def say_hello():\n",
    "  print(\"hello- printed between\")\n",
    "say_hello()"
   ]
  },
  {
   "cell_type": "markdown",
   "id": "d1d1229f-6ccc-4a44-bbeb-87d944dabc8e",
   "metadata": {},
   "source": [
    "53.Modify the decorator to accept arguments and print the function name along with the message"
   ]
  },
  {
   "cell_type": "code",
   "execution_count": 9,
   "id": "bed09087-7dba-4381-b5f1-3d81ae3d8c7c",
   "metadata": {},
   "outputs": [
    {
     "name": "stdout",
     "output_type": "stream",
     "text": [
      "BEFORE\n",
      "say_hello\n",
      "hello- printed between\n",
      "AFTER\n"
     ]
    }
   ],
   "source": [
    "def pip(msg):\n",
    "  def wrapper(func):\n",
    "    def w2(*args,**kwargs):\n",
    "      print(\"BEFORE\")\n",
    "      print(func.__name__)\n",
    "      func(*args,**kwargs)\n",
    "      print(msg)\n",
    "    return w2\n",
    "  return wrapper\n",
    "@pip(\"AFTER\")\n",
    "def say_hello():\n",
    "  print(\"hello- printed between\")\n",
    "say_hello()\n"
   ]
  },
  {
   "cell_type": "markdown",
   "id": "c308e9e4-d575-4927-881f-eb3dda0aced5",
   "metadata": {},
   "source": [
    "54.Create two decorators, and apply them to a single function. Ensure that they execute in the order they are applied."
   ]
  },
  {
   "cell_type": "code",
   "execution_count": 8,
   "id": "f19d12c0-a5e6-47ae-b8a5-edfeb5e70471",
   "metadata": {},
   "outputs": [
    {
     "name": "stdout",
     "output_type": "stream",
     "text": [
      "DEC 1\n",
      "DEC 2\n",
      "MY FUNCTION\n"
     ]
    }
   ],
   "source": [
    "def dec1(func):\n",
    "  def wa1(*args,**kwargs):\n",
    "    print(\"DEC 1\")\n",
    "    func(*args,**kwargs)\n",
    "  return wa1\n",
    "\n",
    "\n",
    "def dec2(func):\n",
    "  def wa2(*args,**kwargs):\n",
    "    print(\"DEC 2\")\n",
    "    func(*args,**kwargs)\n",
    "  return wa2\n",
    "\n",
    "@dec1\n",
    "@dec2\n",
    "\n",
    "def funcs():\n",
    "  print(\"MY FUNCTION\")\n",
    "\n",
    "funcs()\n",
    "     "
   ]
  },
  {
   "cell_type": "markdown",
   "id": "5650e390-21ec-43d1-be87-8924059c26e3",
   "metadata": {},
   "source": [
    "55.Modify the decorator to accept and pass function arguments to the wrapped function."
   ]
  },
  {
   "cell_type": "code",
   "execution_count": 10,
   "id": "05012f6a-e41c-4692-9e66-857127ed388f",
   "metadata": {},
   "outputs": [
    {
     "name": "stdout",
     "output_type": "stream",
     "text": [
      "DEC 2\n",
      "DEC 1\n",
      "10 20\n"
     ]
    }
   ],
   "source": [
    "def dec1(func):\n",
    "  def wa1(*args,**kwargs):\n",
    "    print(\"DEC 1\")\n",
    "    func(*args,**kwargs)\n",
    "  return wa1\n",
    "\n",
    "\n",
    "def dec2(func):\n",
    "  def wa2(*args,**kwargs):\n",
    "    print(\"DEC 2\")\n",
    "    func(*args,**kwargs)\n",
    "  return wa2\n",
    "\n",
    "\n",
    "@dec2\n",
    "@dec1\n",
    "\n",
    "def funcs(a,b):\n",
    "  print(a,b)\n",
    "\n",
    "funcs(10,20)"
   ]
  },
  {
   "cell_type": "markdown",
   "id": "ded4e80c-3323-47cc-abf6-dd83eeb06b6b",
   "metadata": {},
   "source": [
    "56.Create a decorator that preserves the metadata of the original function."
   ]
  },
  {
   "cell_type": "code",
   "execution_count": 12,
   "id": "d19e93d2-34fe-4c7e-b901-6d88cee5c316",
   "metadata": {},
   "outputs": [
    {
     "name": "stdout",
     "output_type": "stream",
     "text": [
      "my_function\n",
      "\n",
      "    This function does something with the arguments a and b.\n",
      "    \n"
     ]
    }
   ],
   "source": [
    "import functools\n",
    "\n",
    "def preserve_metadata(func):\n",
    "    @functools.wraps(func)\n",
    "    def wrapper(*args, **kwargs):\n",
    "        return func(*args, **kwargs)\n",
    "    return wrapper\n",
    "\n",
    "@preserve_metadata\n",
    "def my_function(a, b):\n",
    "    \"\"\"\n",
    "    This function does something with the arguments a and b.\n",
    "    \"\"\"\n",
    "    return a + b\n",
    "\n",
    "print(my_function.__name__)  # Output: my_function\n",
    "print(my_function.__doc__)  # Output: This function does something with the arguments a and b.\n"
   ]
  },
  {
   "cell_type": "markdown",
   "id": "a9afdb5a-471c-4bdb-bdb6-4d372b6f4021",
   "metadata": {},
   "source": [
    "57.Create a Python class Calculator with a static method add that takes in two numbers and returns their sum."
   ]
  },
  {
   "cell_type": "code",
   "execution_count": 13,
   "id": "bc31d9e2-6e64-4ae9-9898-ab2f8e9a2b19",
   "metadata": {},
   "outputs": [
    {
     "data": {
      "text/plain": [
       "9"
      ]
     },
     "execution_count": 13,
     "metadata": {},
     "output_type": "execute_result"
    }
   ],
   "source": [
    "class calculator:\n",
    "  @staticmethod\n",
    "  def a(x,y):\n",
    "    return x + y\n",
    "\n",
    "ca  = calculator()\n",
    "ca.a(4,5)\n",
    "     "
   ]
  },
  {
   "cell_type": "markdown",
   "id": "ef6bfb42-4363-4cbd-81a6-862c7c2784c9",
   "metadata": {},
   "source": [
    "58.Create a Python class Employee with a class method get_employee_count that returns the total number of employees created."
   ]
  },
  {
   "cell_type": "code",
   "execution_count": 14,
   "id": "b8b6f886-7812-493f-b56b-61e0099aff0b",
   "metadata": {},
   "outputs": [
    {
     "data": {
      "text/plain": [
       "2"
      ]
     },
     "execution_count": 14,
     "metadata": {},
     "output_type": "execute_result"
    }
   ],
   "source": [
    "class emp:\n",
    "  sum = 0\n",
    "  def __init__(self,name):\n",
    "    self.name = name\n",
    "    emp.sum = emp.sum+1\n",
    "  @classmethod\n",
    "  def get_emp(cls):\n",
    "    return cls.sum\n",
    "\n",
    "emp1 = emp(\"oe\")\n",
    "\n",
    "emp2 = emp(\"uhf\")\n",
    "\n",
    "emp.get_emp()"
   ]
  },
  {
   "cell_type": "markdown",
   "id": "39d120ac-9b85-460c-921f-354bad908a2d",
   "metadata": {},
   "source": [
    "59.Create a Python class StringFormatter with a static method reverse_string that takes a string as input and returns its reverse."
   ]
  },
  {
   "cell_type": "code",
   "execution_count": 15,
   "id": "c9501490-8c4f-45ac-a434-b60575e33770",
   "metadata": {},
   "outputs": [
    {
     "data": {
      "text/plain": [
       "'YAJA'"
      ]
     },
     "execution_count": 15,
     "metadata": {},
     "output_type": "execute_result"
    }
   ],
   "source": [
    "class Str:\n",
    "  @staticmethod\n",
    "  def rev(name):\n",
    "    return name[::-1]\n",
    "s = Str()\n",
    "s.rev(\"AJAY\")"
   ]
  },
  {
   "cell_type": "markdown",
   "id": "40b481c8-bfa3-41fb-b98e-d526b8a40ef3",
   "metadata": {},
   "source": [
    "60.Create a Python class Circle with a class method calculate_area that calculates the area of a circle given its radius."
   ]
  },
  {
   "cell_type": "code",
   "execution_count": 17,
   "id": "1d924248-0f30-4141-938f-d26ba8d61dda",
   "metadata": {},
   "outputs": [
    {
     "data": {
      "text/plain": [
       "78.5"
      ]
     },
     "execution_count": 17,
     "metadata": {},
     "output_type": "execute_result"
    }
   ],
   "source": [
    "class Cir:\n",
    "  @staticmethod\n",
    "  def cal(r):\n",
    "    return 3.14*r*r\n",
    "c = Cir()\n",
    "c.cal(5)"
   ]
  },
  {
   "cell_type": "markdown",
   "id": "d0b04a00-da49-44f6-88bb-ad232961f5f5",
   "metadata": {},
   "source": [
    "61.Create a Python class TemperatureConverter with a static method celsius_to_fahrenheit that converts Celsius to Fahrenheit."
   ]
  },
  {
   "cell_type": "code",
   "execution_count": 20,
   "id": "b66667cb-a037-4794-87c8-02b84520edf7",
   "metadata": {},
   "outputs": [
    {
     "data": {
      "text/plain": [
       "192.0"
      ]
     },
     "execution_count": 20,
     "metadata": {},
     "output_type": "execute_result"
    }
   ],
   "source": [
    "class Temp:\n",
    "  @staticmethod\n",
    "  def ctof(c):\n",
    "    return (8/5)*c + 32\n",
    "\n",
    "t  = Temp()\n",
    "\n",
    "t.ctof(100)\n",
    "     "
   ]
  },
  {
   "cell_type": "markdown",
   "id": "54af2a79-4674-48cc-bd15-dd78dd7aee9e",
   "metadata": {},
   "source": [
    "62.What is the purpose of the str() method in Python classes? Provide an example."
   ]
  },
  {
   "cell_type": "code",
   "execution_count": 21,
   "id": "31fd52fe-466a-4d54-bcf4-92cc591770c5",
   "metadata": {},
   "outputs": [
    {
     "name": "stdout",
     "output_type": "stream",
     "text": [
      "THIS IS A STRING\n"
     ]
    }
   ],
   "source": [
    "class Stu:\n",
    "  def __init__(self):\n",
    "    self.phone = 99129\n",
    "\n",
    "  def __str__(self):\n",
    "    return \"THIS IS A STRING\"\n",
    "\n",
    "print(Stu())"
   ]
  },
  {
   "cell_type": "markdown",
   "id": "bf6fd069-61ed-4390-96b0-07cd0b9baae5",
   "metadata": {},
   "source": [
    "63.How does the len() method work in Python? Provide an example."
   ]
  },
  {
   "cell_type": "code",
   "execution_count": 22,
   "id": "f66c2984-5e50-458d-8fd7-072a70be69f0",
   "metadata": {},
   "outputs": [
    {
     "name": "stdout",
     "output_type": "stream",
     "text": [
      "6\n"
     ]
    }
   ],
   "source": [
    "#__len__ function is used return a length\n",
    "\n",
    "class Stu:\n",
    "  def __init__(self,name):\n",
    "    self.name = name\n",
    "\n",
    "  def __len__(self):\n",
    "    return len(self.name)\n",
    "\n",
    "l = Stu(\"pipwio\")\n",
    "print(len(l))\n",
    "     "
   ]
  },
  {
   "cell_type": "markdown",
   "id": "61a34805-4fed-4569-b68c-a9712bfdc2cb",
   "metadata": {},
   "source": [
    "67.What is the purpose of a getter method in Python? Provide an example demonstrating the use of a getter method using property decorators."
   ]
  },
  {
   "cell_type": "code",
   "execution_count": 23,
   "id": "8bc37403-fd68-465d-b0d1-6028ff3b2c94",
   "metadata": {},
   "outputs": [
    {
     "name": "stdout",
     "output_type": "stream",
     "text": [
      "John Doe\n",
      "Jane Doe\n"
     ]
    }
   ],
   "source": [
    "class Student:\n",
    "    def __init__(self, name):\n",
    "        self._name = name\n",
    "\n",
    "    @property\n",
    "    def name(self):\n",
    "        return self._name\n",
    "\n",
    "    @name.setter\n",
    "    def name(self, new_name):\n",
    "        self._name = new_name\n",
    "\n",
    "student = Student(\"John Doe\")\n",
    "\n",
    "print(student.name)\n",
    "\n",
    "student.name = \"Jane Doe\"\n",
    "\n",
    "print(student.name)\n",
    "     "
   ]
  },
  {
   "cell_type": "markdown",
   "id": "e776a8d2-1d0d-4f6d-a676-d86afbb39ca1",
   "metadata": {},
   "source": [
    "68.Explain the role of setter methods in Python. Demonstrate how to use a setter method to modify a class attribute using property decorators."
   ]
  },
  {
   "cell_type": "code",
   "execution_count": 24,
   "id": "7ddff9cf-e32f-4649-8de8-98adffaaf05c",
   "metadata": {},
   "outputs": [
    {
     "name": "stdout",
     "output_type": "stream",
     "text": [
      "John Doe\n",
      "Jane Doe\n"
     ]
    }
   ],
   "source": [
    "class Student:\n",
    "    def __init__(self, name):\n",
    "        self._name = name\n",
    "\n",
    "    @property\n",
    "    def name(self):\n",
    "        return self._name\n",
    "\n",
    "    @name.setter\n",
    "    def name(self, new_name):\n",
    "        self._name = new_name\n",
    "\n",
    "student = Student(\"John Doe\")\n",
    "\n",
    "print(student.name)\n",
    "\n",
    "student.name = \"Jane Doe\"\n",
    "\n",
    "print(student.name)\n",
    "     "
   ]
  },
  {
   "cell_type": "markdown",
   "id": "51ed6cbc-b691-4097-ab82-ad3b4f6fa041",
   "metadata": {},
   "source": [
    "69.What is the purpose of the @property decorator in Python? Provide an example illustrating its usage."
   ]
  },
  {
   "cell_type": "code",
   "execution_count": 25,
   "id": "d782f358-c855-43c2-8acd-2fef278d1481",
   "metadata": {},
   "outputs": [
    {
     "name": "stdout",
     "output_type": "stream",
     "text": [
      "John Doe\n"
     ]
    }
   ],
   "source": [
    "#property decorator in Python is used to define a method as a property of a class\n",
    "\n",
    "\n",
    "class Student:\n",
    "    def __init__(self, name):\n",
    "        self._name = name\n",
    "\n",
    "    @property\n",
    "    def name(self):\n",
    "        return self._name\n",
    "\n",
    "student = Student(\"John Doe\")\n",
    "\n",
    "print(student.name)\n"
   ]
  },
  {
   "cell_type": "markdown",
   "id": "719dc023-eb31-4cc9-b6ba-bf912461c7ec",
   "metadata": {},
   "source": [
    "70.Explain the use of the @deleter decorator in Python property decorators. Provide a code example demonstrating its application."
   ]
  },
  {
   "cell_type": "code",
   "execution_count": 27,
   "id": "23c01897-30da-4eb5-9217-1a65acdb5921",
   "metadata": {},
   "outputs": [
    {
     "name": "stdout",
     "output_type": "stream",
     "text": [
      "John Doe\n"
     ]
    }
   ],
   "source": [
    "class Student:\n",
    "    def __init__(self, name):\n",
    "        self._name = name\n",
    "\n",
    "    @property\n",
    "    def name(self):\n",
    "        return self._name\n",
    "\n",
    "    @name.setter\n",
    "    def name(self, new_name):\n",
    "        self._name = new_name\n",
    "\n",
    "    @name.deleter\n",
    "    def name(self):\n",
    "        del self._name\n",
    "\n",
    "student = Student(\"John Doe\")\n",
    "\n",
    "print(student.name)\n",
    "\n",
    "del student.name"
   ]
  },
  {
   "cell_type": "markdown",
   "id": "f8347832-dce7-456e-b342-c14d21cf5067",
   "metadata": {},
   "source": [
    "71.How does encapsulation relate to property decorators in Python? Provide an example showcasing encapsulation using property decorators"
   ]
  },
  {
   "cell_type": "code",
   "execution_count": 28,
   "id": "7c42c800-ac33-40fd-83c9-0f28b757749f",
   "metadata": {},
   "outputs": [
    {
     "name": "stdout",
     "output_type": "stream",
     "text": [
      "John Doe\n"
     ]
    }
   ],
   "source": [
    "class Student:\n",
    "    def __init__(self, name):\n",
    "        self._name = name\n",
    "\n",
    "    @property\n",
    "    def name(self):\n",
    "        return self._name\n",
    "\n",
    "    @name.setter\n",
    "    def name(self, new_name):\n",
    "        self._name = new_name\n",
    "\n",
    "    @name.deleter\n",
    "    def name(self):\n",
    "        del self._name\n",
    "\n",
    "student = Student(\"John Doe\")\n",
    "\n",
    "print(student.name)\n",
    "\n",
    "del student.name\n",
    "     "
   ]
  }
 ],
 "metadata": {
  "kernelspec": {
   "display_name": "Python 3 (ipykernel)",
   "language": "python",
   "name": "python3"
  },
  "language_info": {
   "codemirror_mode": {
    "name": "ipython",
    "version": 3
   },
   "file_extension": ".py",
   "mimetype": "text/x-python",
   "name": "python",
   "nbconvert_exporter": "python",
   "pygments_lexer": "ipython3",
   "version": "3.10.8"
  },
  "toc-autonumbering": false,
  "toc-showcode": false
 },
 "nbformat": 4,
 "nbformat_minor": 5
}
