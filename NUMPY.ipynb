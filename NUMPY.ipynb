{
 "cells": [
  {
   "cell_type": "markdown",
   "id": "c8591ce2-01ea-451c-bbf1-928cf90e6b30",
   "metadata": {},
   "source": [
    "1.Create a NumPy array 'arr' of integers from 0 to 5 and print its data type."
   ]
  },
  {
   "cell_type": "code",
   "execution_count": 1,
   "id": "d0ed1b71-6745-4626-a652-82a8d3b4bd0f",
   "metadata": {},
   "outputs": [],
   "source": [
    "import numpy as np"
   ]
  },
  {
   "cell_type": "code",
   "execution_count": 2,
   "id": "2d8a0cea-7313-41cd-8b8c-b3bb01988ab0",
   "metadata": {},
   "outputs": [],
   "source": [
    "arr = np.arange(6)\n"
   ]
  },
  {
   "cell_type": "code",
   "execution_count": 3,
   "id": "b1de8664-3436-472b-8195-d68ea4472b57",
   "metadata": {},
   "outputs": [
    {
     "data": {
      "text/plain": [
       "array([0, 1, 2, 3, 4, 5])"
      ]
     },
     "execution_count": 3,
     "metadata": {},
     "output_type": "execute_result"
    }
   ],
   "source": [
    "arr"
   ]
  },
  {
   "cell_type": "code",
   "execution_count": 6,
   "id": "3f679477-75af-4a48-b7ca-a1043352cabf",
   "metadata": {},
   "outputs": [
    {
     "data": {
      "text/plain": [
       "numpy.ndarray"
      ]
     },
     "execution_count": 6,
     "metadata": {},
     "output_type": "execute_result"
    }
   ],
   "source": [
    "type(arr)"
   ]
  },
  {
   "cell_type": "markdown",
   "id": "5688ad26-805b-49d4-aad9-b41067066d82",
   "metadata": {},
   "source": [
    "2.Given a NumPy array 'arr', check if its data type is float64."
   ]
  },
  {
   "cell_type": "code",
   "execution_count": 7,
   "id": "21b72f5a-9fa0-44a7-84b7-fcb141d04ceb",
   "metadata": {},
   "outputs": [],
   "source": [
    "import numpy as np\n"
   ]
  },
  {
   "cell_type": "code",
   "execution_count": 8,
   "id": "eddaef77-ff8c-4fef-b94c-f4bb61160d0a",
   "metadata": {},
   "outputs": [],
   "source": [
    "arr = np.array([0.1, 0.2, 0.3, 0.4, 0.5])  # Example array\n"
   ]
  },
  {
   "cell_type": "code",
   "execution_count": 9,
   "id": "ff607a23-8249-4300-937c-6ca3b22e83ee",
   "metadata": {},
   "outputs": [],
   "source": [
    "is_float64 = arr.dtype == np.float64\n"
   ]
  },
  {
   "cell_type": "code",
   "execution_count": 10,
   "id": "82cf5976-4a18-4542-ad0f-b609a9324433",
   "metadata": {},
   "outputs": [
    {
     "name": "stdout",
     "output_type": "stream",
     "text": [
      "Is the array of type float64? True\n"
     ]
    }
   ],
   "source": [
    "print(\"Is the array of type float64?\", is_float64)"
   ]
  },
  {
   "cell_type": "markdown",
   "id": "c72b11d9-1c38-4692-b064-9f2393d25728",
   "metadata": {},
   "source": [
    "3 Create a NumPy array 'arr' with a data type of complex128 containing three complex numbers."
   ]
  },
  {
   "cell_type": "code",
   "execution_count": 11,
   "id": "359070a3-45ea-412c-a978-25142c1843b9",
   "metadata": {},
   "outputs": [],
   "source": [
    "import numpy as np"
   ]
  },
  {
   "cell_type": "code",
   "execution_count": 12,
   "id": "97159b4b-492a-481c-b50d-75fdfeee3552",
   "metadata": {},
   "outputs": [],
   "source": [
    "arr = np.array([1+2j, 3+4j, 5+6j], dtype=np.complex128)\n"
   ]
  },
  {
   "cell_type": "code",
   "execution_count": 20,
   "id": "6cb1f44d-a86c-4bc2-905b-c5038788cc81",
   "metadata": {},
   "outputs": [
    {
     "name": "stdout",
     "output_type": "stream",
     "text": [
      "Array: [1.+2.j 3.+4.j 5.+6.j]\n"
     ]
    }
   ],
   "source": [
    "print(\"Array:\", arr)"
   ]
  },
  {
   "cell_type": "code",
   "execution_count": 23,
   "id": "672125f2-1ce3-4840-a6b8-10376af853eb",
   "metadata": {},
   "outputs": [
    {
     "name": "stdout",
     "output_type": "stream",
     "text": [
      "Data type: complex128\n"
     ]
    }
   ],
   "source": [
    "print(\"Data type:\", arr.dtype)\n"
   ]
  },
  {
   "cell_type": "markdown",
   "id": "de3faa5d-7ee7-476a-9b57-4aa9a3bc4ddf",
   "metadata": {},
   "source": [
    "4.Convert an existing NumPy array 'arr' of integers to float32 data type."
   ]
  },
  {
   "cell_type": "code",
   "execution_count": 24,
   "id": "68710d04-1fef-4c78-8480-e0b4060f7892",
   "metadata": {},
   "outputs": [],
   "source": [
    "import numpy as np"
   ]
  },
  {
   "cell_type": "code",
   "execution_count": 25,
   "id": "75458eec-307a-421c-8411-a3cf44b921cf",
   "metadata": {},
   "outputs": [],
   "source": [
    "arr = np.array([1, 2, 3, 4, 5])\n"
   ]
  },
  {
   "cell_type": "code",
   "execution_count": 26,
   "id": "9eae410a-dc6f-437d-abd5-ff68bbe76db6",
   "metadata": {},
   "outputs": [],
   "source": [
    "arr_float32 = arr.astype(np.float32)\n"
   ]
  },
  {
   "cell_type": "code",
   "execution_count": 27,
   "id": "2fa203f4-958f-476e-90d1-65ca542a1824",
   "metadata": {},
   "outputs": [
    {
     "name": "stdout",
     "output_type": "stream",
     "text": [
      "Original array: [1 2 3 4 5]\n",
      "Original data type: int64\n",
      "Converted array: [1. 2. 3. 4. 5.]\n",
      "Converted data type: float32\n"
     ]
    }
   ],
   "source": [
    "print(\"Original array:\", arr)\n",
    "print(\"Original data type:\", arr.dtype)\n",
    "print(\"Converted array:\", arr_float32)\n",
    "print(\"Converted data type:\", arr_float32.dtype)\n"
   ]
  },
  {
   "cell_type": "markdown",
   "id": "e4b5fb39-64e5-416a-ac23-104864c0af0c",
   "metadata": {},
   "source": [
    "5.Given a NumPy array 'arr' with float64 data type, convert it to float32 to reduce decimal precision."
   ]
  },
  {
   "cell_type": "code",
   "execution_count": 28,
   "id": "4b87e160-dc03-4a1a-9a1b-b82078814d75",
   "metadata": {},
   "outputs": [],
   "source": [
    "import numpy as np\n"
   ]
  },
  {
   "cell_type": "code",
   "execution_count": 29,
   "id": "cce4faf9-b943-4ae9-aeed-45612fe16d38",
   "metadata": {},
   "outputs": [],
   "source": [
    "arr = np.array([1.123456789, 2.987654321, 3.1415926535], dtype=np.float64)\n"
   ]
  },
  {
   "cell_type": "code",
   "execution_count": 30,
   "id": "8615a03d-6940-4700-a00a-d10ac27f8b0e",
   "metadata": {},
   "outputs": [],
   "source": [
    "arr_float32 = arr.astype(np.float32)\n"
   ]
  },
  {
   "cell_type": "code",
   "execution_count": 31,
   "id": "b5ef5949-71aa-4deb-a33a-18ad82fed3bb",
   "metadata": {},
   "outputs": [
    {
     "name": "stdout",
     "output_type": "stream",
     "text": [
      "Original array: [1.12345679 2.98765432 3.14159265]\n",
      "Original data type: float64\n",
      "Converted array: [1.1234568 2.9876542 3.1415927]\n",
      "Converted data type: float32\n"
     ]
    }
   ],
   "source": [
    "print(\"Original array:\", arr)\n",
    "print(\"Original data type:\", arr.dtype)\n",
    "print(\"Converted array:\", arr_float32)\n",
    "print(\"Converted data type:\", arr_float32.dtype)\n"
   ]
  },
  {
   "cell_type": "markdown",
   "id": "7589180d-bb74-46a2-a61a-400c711ae471",
   "metadata": {},
   "source": [
    "6 Write a function array_attributes that takes a NumPy array as input and returns its shape, size, and data\n",
    "type."
   ]
  },
  {
   "cell_type": "code",
   "execution_count": 39,
   "id": "e2096a42-ffba-4b23-b9c2-a4c5518f53f7",
   "metadata": {},
   "outputs": [],
   "source": [
    "import numpy as np\n",
    "arr = np.ones((2,1))"
   ]
  },
  {
   "cell_type": "code",
   "execution_count": 40,
   "id": "e7298cf7-d023-44de-a759-d9f815b216aa",
   "metadata": {},
   "outputs": [
    {
     "data": {
      "text/plain": [
       "(2, 1)"
      ]
     },
     "execution_count": 40,
     "metadata": {},
     "output_type": "execute_result"
    }
   ],
   "source": [
    "arr.shape"
   ]
  },
  {
   "cell_type": "code",
   "execution_count": 41,
   "id": "c8d8c509-3a84-47d5-a90c-74df5d104be1",
   "metadata": {},
   "outputs": [
    {
     "data": {
      "text/plain": [
       "2"
      ]
     },
     "execution_count": 41,
     "metadata": {},
     "output_type": "execute_result"
    }
   ],
   "source": [
    "arr.size"
   ]
  },
  {
   "cell_type": "code",
   "execution_count": 44,
   "id": "2c4b0c0a-fd93-490f-a9af-0d230704accb",
   "metadata": {},
   "outputs": [
    {
     "name": "stdout",
     "output_type": "stream",
     "text": [
      "Data type: float64\n"
     ]
    }
   ],
   "source": [
    "print(\"Data type:\", arr.dtype)\n"
   ]
  },
  {
   "cell_type": "markdown",
   "id": "94f67654-fcb9-4915-b0bc-6204e02c960a",
   "metadata": {},
   "source": [
    "7.Create a function array_dimension that takes a NumPy array as input and returns its dimensionality."
   ]
  },
  {
   "cell_type": "code",
   "execution_count": 53,
   "id": "c9fe14a3-32c9-4d46-8eca-e436518c128e",
   "metadata": {},
   "outputs": [
    {
     "name": "stdout",
     "output_type": "stream",
     "text": [
      "1\n"
     ]
    }
   ],
   "source": [
    "import  numpy as np\n",
    "def array_dimension(arr):\n",
    "    \n",
    "        return arr.ndim\n",
    "\n",
    "\n",
    "arr1 = np.array([1, 2, 3, 4])\n",
    "print(array_dimension(arr1))"
   ]
  },
  {
   "cell_type": "markdown",
   "id": "17ce72e6-36d4-463d-8804-eb710b5609fa",
   "metadata": {},
   "source": [
    "8.Design a function item_size_info that takes a NumPy array as input and returns the item size and the total\n",
    "size in bytes."
   ]
  },
  {
   "cell_type": "code",
   "execution_count": 56,
   "id": "6189781d-c9a3-4012-8719-96d91ec0fba1",
   "metadata": {},
   "outputs": [
    {
     "name": "stdout",
     "output_type": "stream",
     "text": [
      "(8, 32)\n",
      "(8, 32)\n",
      "(8, 32)\n"
     ]
    }
   ],
   "source": [
    "import numpy as np\n",
    "\n",
    "# Define the function\n",
    "def item_size_info(arr):\n",
    "    \n",
    "    item_size = arr.itemsize\n",
    "    total_size = arr.nbytes\n",
    "    return item_size, total_size\n",
    "\n",
    "# Create NumPy arrays\n",
    "arr1 = np.array([1, 2, 3, 4])\n",
    "arr2 = np.array([[1.0, 2.0], [3.0, 4.0]])\n",
    "arr3 = np.array([[[1], [2]], [[3], [4]]])\n",
    "\n",
    "# Call the function and print the results\n",
    "print(item_size_info(arr1))  \n",
    "print(item_size_info(arr2)) \n",
    "print(item_size_info(arr3))  "
   ]
  },
  {
   "cell_type": "markdown",
   "id": "2fd8fc84-0d25-45d0-a8c0-58bfd0f35cd4",
   "metadata": {},
   "source": [
    "9.Create a function array_strides that takes a NumPy array as input and returns the strides of the array."
   ]
  },
  {
   "cell_type": "code",
   "execution_count": 1,
   "id": "523b6a22-8181-471b-8704-6a42d1a2dd5e",
   "metadata": {},
   "outputs": [
    {
     "name": "stdout",
     "output_type": "stream",
     "text": [
      "(24, 8)\n"
     ]
    }
   ],
   "source": [
    "import numpy as np\n",
    "\n",
    "def array_strides(array):\n",
    "    return array.strides\n",
    "# Example usage\n",
    "arr = np.array([[1, 2, 3], [4, 5, 6]])\n",
    "strides = array_strides(arr)\n",
    "print(strides)  # Output will be something like (24, 8)\n"
   ]
  },
  {
   "cell_type": "markdown",
   "id": "26ca262b-53ed-4a97-837e-15fda6f4bef0",
   "metadata": {},
   "source": [
    "10.Design a function shape_stride_relationship that takes a NumPy array as input and returns the shape\n",
    "and strides of the array."
   ]
  },
  {
   "cell_type": "code",
   "execution_count": 2,
   "id": "56299503-c0d2-4740-99d6-605fc8c89162",
   "metadata": {},
   "outputs": [
    {
     "name": "stdout",
     "output_type": "stream",
     "text": [
      "Shape: (2, 3)\n",
      "Strides: (24, 8)\n"
     ]
    }
   ],
   "source": [
    "import numpy as np\n",
    "\n",
    "def shape_stride_relationship(array):\n",
    "    return array.shape, array.strides\n",
    "# Example usage\n",
    "arr = np.array([[1, 2, 3], [4, 5, 6]])\n",
    "shape, strides = shape_stride_relationship(arr)\n",
    "print(f\"Shape: {shape}\")\n",
    "print(f\"Strides: {strides}\")\n"
   ]
  },
  {
   "cell_type": "markdown",
   "id": "de711f69-1e40-4cb0-b8fc-9f10006fa495",
   "metadata": {},
   "source": [
    "11.Create a function `create_zeros_array` that takes an integer `n` as input and returns a NumPy array of\n",
    "zeros with `n` elements."
   ]
  },
  {
   "cell_type": "code",
   "execution_count": 3,
   "id": "70ea57fb-2749-45e6-a608-a37a82e188b7",
   "metadata": {},
   "outputs": [
    {
     "name": "stdout",
     "output_type": "stream",
     "text": [
      "[0. 0. 0. 0. 0.]\n"
     ]
    }
   ],
   "source": [
    "import numpy as np\n",
    "\n",
    "def create_zeros_array(n):\n",
    "    return np.zeros(n)\n",
    " \n",
    "    # Example usage\n",
    "n = 5\n",
    "zeros_array = create_zeros_array(n)\n",
    "print(zeros_array)  # Output will be: [0. 0. 0. 0. 0.]\n"
   ]
  },
  {
   "cell_type": "markdown",
   "id": "df6df489-f19e-4e15-9a63-37da5e0c5b21",
   "metadata": {},
   "source": [
    "12.Write a function `create_ones_matrix` that takes integers `rows` and `cols` as inputs and generates a 2D\n",
    "NumPy array filled with ones of size `rows x cols`."
   ]
  },
  {
   "cell_type": "code",
   "execution_count": 4,
   "id": "56f16bfd-ec32-45ba-a064-8a5de42caa4c",
   "metadata": {},
   "outputs": [
    {
     "name": "stdout",
     "output_type": "stream",
     "text": [
      "[[1. 1. 1. 1.]\n",
      " [1. 1. 1. 1.]\n",
      " [1. 1. 1. 1.]]\n"
     ]
    }
   ],
   "source": [
    "import numpy as np\n",
    "\n",
    "def create_ones_matrix(rows, cols):\n",
    "    return np.ones((rows, cols))\n",
    "# Example usage\n",
    "rows = 3\n",
    "cols = 4\n",
    "ones_matrix = create_ones_matrix(rows, cols)\n",
    "print(ones_matrix)\n"
   ]
  },
  {
   "cell_type": "markdown",
   "id": "37b81af5-1607-4702-a7f2-c03183f7fd43",
   "metadata": {},
   "source": [
    "13.Write a function `generate_range_array` that takes three integers start, stop, and step as arguments and\n",
    "creates a NumPy array with a range starting from `start`, ending at stop (exclusive), and with the specified\n",
    "`step`."
   ]
  },
  {
   "cell_type": "code",
   "execution_count": 5,
   "id": "c1863f08-c53d-41b5-bea0-ea2d7912a22f",
   "metadata": {},
   "outputs": [
    {
     "name": "stdout",
     "output_type": "stream",
     "text": [
      "[0 2 4 6 8]\n"
     ]
    }
   ],
   "source": [
    "import numpy as np\n",
    "\n",
    "def generate_range_array(start, stop, step):\n",
    "    return np.arange(start, stop, step)\n",
    "# Example usage\n",
    "start = 0\n",
    "stop = 10\n",
    "step = 2\n",
    "range_array = generate_range_array(start, stop, step)\n",
    "print(range_array)\n"
   ]
  },
  {
   "cell_type": "markdown",
   "id": "4cb4de22-75c4-41f3-aa3b-ddc4578f9df7",
   "metadata": {},
   "source": [
    "14.Design a function `generate_linear_space` that takes two floats `start`, `stop`, and an integer `num` as\n",
    "arguments and generates a NumPy array with num equally spaced values between `start` and `stop`\n",
    "(inclusive)."
   ]
  },
  {
   "cell_type": "code",
   "execution_count": 6,
   "id": "4ef9ec3f-b84a-47f5-b99b-ea5113cad8e0",
   "metadata": {},
   "outputs": [
    {
     "name": "stdout",
     "output_type": "stream",
     "text": [
      "[0.   0.25 0.5  0.75 1.  ]\n"
     ]
    }
   ],
   "source": [
    "import numpy as np\n",
    "\n",
    "def generate_linear_space(start, stop, num):\n",
    "    return np.linspace(start, stop, num)\n",
    "# Example usage\n",
    "start = 0.0\n",
    "stop = 1.0\n",
    "num = 5\n",
    "linear_space_array = generate_linear_space(start, stop, num)\n",
    "print(linear_space_array)\n"
   ]
  },
  {
   "cell_type": "markdown",
   "id": "8abb9f71-5b7e-4392-882c-5c49952e0c89",
   "metadata": {},
   "source": [
    "15.Create a function `create_identity_matrix` that takes an integer `n` as input and generates a square\n",
    "identity matrix of size `n x n` using `numpy.eye`."
   ]
  },
  {
   "cell_type": "code",
   "execution_count": 7,
   "id": "7c404cbe-9edf-4fb3-8d0d-8006e01c0248",
   "metadata": {},
   "outputs": [
    {
     "name": "stdout",
     "output_type": "stream",
     "text": [
      "[[1. 0. 0. 0.]\n",
      " [0. 1. 0. 0.]\n",
      " [0. 0. 1. 0.]\n",
      " [0. 0. 0. 1.]]\n"
     ]
    }
   ],
   "source": [
    "import numpy as np\n",
    "\n",
    "def create_identity_matrix(n):\n",
    "    return np.eye(n)\n",
    " \n",
    "# Example usage\n",
    "n = 4\n",
    "identity_matrix = create_identity_matrix(n)\n",
    "print(identity_matrix)\n"
   ]
  },
  {
   "cell_type": "markdown",
   "id": "4d16e51b-a2b3-47f1-ab78-9397bfbc9978",
   "metadata": {},
   "source": [
    "16.Write a function that takes a Python list and converts it into a NumPy array."
   ]
  },
  {
   "cell_type": "code",
   "execution_count": 8,
   "id": "b4a751ad-3dfe-483b-bdfb-4f18c2007703",
   "metadata": {},
   "outputs": [
    {
     "name": "stdout",
     "output_type": "stream",
     "text": [
      "[1 2 3 4 5]\n"
     ]
    }
   ],
   "source": [
    "import numpy as np\n",
    "\n",
    "def list_to_numpy_array(py_list):\n",
    "    return np.array(py_list)\n",
    "# Example usage\n",
    "py_list = [1, 2, 3, 4, 5]\n",
    "numpy_array = list_to_numpy_array(py_list)\n",
    "print(numpy_array)\n"
   ]
  },
  {
   "cell_type": "markdown",
   "id": "ebe442d2-7be9-4228-8f80-95edfc8be0e8",
   "metadata": {},
   "source": [
    "17.Create a NumPy array and demonstrate the use of `numpy.view` to create a new array object with the\n",
    "same data."
   ]
  },
  {
   "cell_type": "code",
   "execution_count": 9,
   "id": "a3a5ba38-66c8-41c8-81e2-8141cf31607c",
   "metadata": {},
   "outputs": [
    {
     "name": "stdout",
     "output_type": "stream",
     "text": [
      "Original array: [1 2 3 4 5]\n",
      "View array: [1 2 3 4 5]\n",
      "Modified view array: [99  2  3  4  5]\n",
      "Original array after modifying the view array: [99  2  3  4  5]\n"
     ]
    }
   ],
   "source": [
    "import numpy as np\n",
    "\n",
    "original_array = np.array([1, 2, 3, 4, 5])\n",
    "\n",
    "view_array = original_array.view()\n",
    "\n",
    "print(\"Original array:\", original_array)\n",
    "print(\"View array:\", view_array)\n",
    "\n",
    "view_array[0] = 99\n",
    "print(\"Modified view array:\", view_array)\n",
    "print(\"Original array after modifying the view array:\", original_array)\n"
   ]
  },
  {
   "cell_type": "markdown",
   "id": "8ba64810-f9e7-489b-b123-a358a0f4fb49",
   "metadata": {},
   "source": [
    "18.Write a function that takes two NumPy arrays and concatenates them along a specified axis."
   ]
  },
  {
   "cell_type": "code",
   "execution_count": 10,
   "id": "b5dee17d-cc76-4445-8a2d-0151b34c8548",
   "metadata": {},
   "outputs": [
    {
     "name": "stdout",
     "output_type": "stream",
     "text": [
      "Concatenated along axis 0:\n",
      " [[ 1  2  3]\n",
      " [ 4  5  6]\n",
      " [ 7  8  9]\n",
      " [10 11 12]]\n",
      "Concatenated along axis 1:\n",
      " [[ 1  2  3  7  8  9]\n",
      " [ 4  5  6 10 11 12]]\n"
     ]
    }
   ],
   "source": [
    "import numpy as np\n",
    "\n",
    "def concatenate_arrays(array1, array2, axis=0):\n",
    "    return np.concatenate((array1, array2), axis=axis)\n",
    "\n",
    "array1 = np.array([[1, 2, 3], [4, 5, 6]])\n",
    "array2 = np.array([[7, 8, 9], [10, 11, 12]])\n",
    "\n",
    "concatenated_array_axis0 = concatenate_arrays(array1, array2, axis=0)\n",
    "print(\"Concatenated along axis 0:\\n\", concatenated_array_axis0)\n",
    "\n",
    "concatenated_array_axis1 = concatenate_arrays(array1, array2, axis=1)\n",
    "print(\"Concatenated along axis 1:\\n\", concatenated_array_axis1)\n"
   ]
  },
  {
   "cell_type": "markdown",
   "id": "4dd2d5fa-f342-4f9f-87ed-14554ea19797",
   "metadata": {},
   "source": [
    "19.Create two NumPy arrays with different shapes and concatenate them horizontally using `numpy.\n",
    "concatenate`."
   ]
  },
  {
   "cell_type": "code",
   "execution_count": 11,
   "id": "7738eaa4-ad33-44e2-b47b-7b110af42e0d",
   "metadata": {},
   "outputs": [
    {
     "name": "stdout",
     "output_type": "stream",
     "text": [
      "Array 1:\n",
      "[[1 2 3]\n",
      " [4 5 6]]\n",
      "Array 2:\n",
      "[[ 7  8]\n",
      " [ 9 10]]\n",
      "Concatenated array (horizontally):\n",
      "[[ 1  2  3  7  8]\n",
      " [ 4  5  6  9 10]]\n"
     ]
    }
   ],
   "source": [
    "import numpy as np\n",
    "\n",
    "array1 = np.array([[1, 2, 3], [4, 5, 6]])\n",
    "array2 = np.array([[7, 8], [9, 10]])\n",
    "\n",
    "concatenated_array = np.concatenate((array1, array2), axis=1)\n",
    "\n",
    "print(\"Array 1:\")\n",
    "print(array1)\n",
    "\n",
    "print(\"Array 2:\")\n",
    "print(array2)\n",
    "\n",
    "print(\"Concatenated array (horizontally):\")\n",
    "print(concatenated_array)\n"
   ]
  },
  {
   "cell_type": "markdown",
   "id": "cd0994aa-7d0b-4cd7-b7ba-71f859a02b24",
   "metadata": {},
   "source": [
    "20.Write a function that vertically stacks multiple NumPy arrays given as a list."
   ]
  },
  {
   "cell_type": "code",
   "execution_count": 13,
   "id": "7ccf9976-bc21-4ec9-8d7c-28de193408aa",
   "metadata": {},
   "outputs": [
    {
     "name": "stdout",
     "output_type": "stream",
     "text": [
      "Vertically stacked array:\n",
      "[[ 1  2  3]\n",
      " [ 4  5  6]\n",
      " [ 7  8  9]\n",
      " [10 11 12]\n",
      " [13 14 15]]\n"
     ]
    }
   ],
   "source": [
    "import numpy as np\n",
    "\n",
    "def vertical_stack(arrays):\n",
    "    return np.vstack(arrays)\n",
    "\n",
    "array1 = np.array([[1, 2, 3], [4, 5, 6]])\n",
    "array2 = np.array([[7, 8, 9], [10, 11, 12]])\n",
    "array3 = np.array([[13, 14, 15]])\n",
    "\n",
    "stacked_array = vertical_stack([array1, array2, array3])\n",
    "print(\"Vertically stacked array:\")\n",
    "print(stacked_array)\n"
   ]
  },
  {
   "cell_type": "markdown",
   "id": "74732a0d-b7eb-48aa-9ba7-b8fbe700d223",
   "metadata": {},
   "source": [
    "21.Write a Python function using NumPy to create an array of integers within a specified range (inclusive)\n",
    "with a given step size."
   ]
  },
  {
   "cell_type": "code",
   "execution_count": 14,
   "id": "a2f016ea-30e9-44bb-b6a5-c3bee8b54348",
   "metadata": {},
   "outputs": [
    {
     "name": "stdout",
     "output_type": "stream",
     "text": [
      "Vertically stacked array:\n",
      "[[ 1  2  3]\n",
      " [ 4  5  6]\n",
      " [ 7  8  9]\n",
      " [10 11 12]\n",
      " [13 14 15]]\n"
     ]
    }
   ],
   "source": [
    "import numpy as np\n",
    "\n",
    "def vertical_stack(arrays):\n",
    "    return np.vstack(arrays)\n",
    "\n",
    "# Example usage\n",
    "array1 = np.array([[1, 2, 3], [4, 5, 6]])\n",
    "array2 = np.array([[7, 8, 9], [10, 11, 12]])\n",
    "array3 = np.array([[13, 14, 15]])\n",
    "\n",
    "# Stack the arrays vertically\n",
    "stacked_array = vertical_stack([array1, array2, array3])\n",
    "print(\"Vertically stacked array:\")\n",
    "print(stacked_array)\n"
   ]
  },
  {
   "cell_type": "markdown",
   "id": "e38fce8d-b911-4d5a-89da-472f12c827c3",
   "metadata": {},
   "source": [
    "22.Write a Python function using NumPy to generate an array of 10 equally spaced values between 0 and 1\n",
    "(inclusive)."
   ]
  },
  {
   "cell_type": "code",
   "execution_count": 16,
   "id": "69488943-9d15-4cc2-b165-253896213f59",
   "metadata": {},
   "outputs": [
    {
     "name": "stdout",
     "output_type": "stream",
     "text": [
      "Array of 10 equally spaced values between 0 and 1:\n",
      "[0.         0.11111111 0.22222222 0.33333333 0.44444444 0.55555556\n",
      " 0.66666667 0.77777778 0.88888889 1.        ]\n"
     ]
    }
   ],
   "source": [
    "import numpy as np\n",
    "\n",
    "def generate_equally_spaced_array(start=0, stop=1, num=10):\n",
    "    return np.linspace(start, stop, num)\n",
    "\n",
    "array = generate_equally_spaced_array()\n",
    "print(\"Array of 10 equally spaced values between 0 and 1:\")\n",
    "print(array)\n"
   ]
  },
  {
   "cell_type": "markdown",
   "id": "2e5a1afe-6ca7-49e7-b5d9-f3a6f210394c",
   "metadata": {},
   "source": [
    "23.Write a Python function using NumPy to create an array of 5 logarithmically spaced values between 1 and\n",
    "1000 (inclusive)."
   ]
  },
  {
   "cell_type": "code",
   "execution_count": 17,
   "id": "c657d17f-6f43-42ca-91dd-6b69af409734",
   "metadata": {},
   "outputs": [
    {
     "name": "stdout",
     "output_type": "stream",
     "text": [
      "Array of 5 logarithmically spaced values between 1 and 1000:\n",
      "[   1.            5.62341325   31.6227766   177.827941   1000.        ]\n"
     ]
    }
   ],
   "source": [
    "import numpy as np\n",
    "\n",
    "def generate_logarithmically_spaced_array(start=1, stop=1000, num=5):\n",
    "    return np.logspace(np.log10(start), np.log10(stop), num)\n",
    "\n",
    "log_spaced_array = generate_logarithmically_spaced_array()\n",
    "print(\"Array of 5 logarithmically spaced values between 1 and 1000:\")\n",
    "print(log_spaced_array)\n"
   ]
  },
  {
   "cell_type": "markdown",
   "id": "efd85697-baeb-480b-9301-48ad7d4a7429",
   "metadata": {},
   "source": [
    "24.Create a Pandas DataFrame using a NumPy array that contains 5 rows and 3 columns, where the values\n",
    "are random integers between 1 and 100."
   ]
  },
  {
   "cell_type": "code",
   "execution_count": 18,
   "id": "b8364e55-947d-4a05-8d87-a12c9c34ff8b",
   "metadata": {},
   "outputs": [
    {
     "name": "stdout",
     "output_type": "stream",
     "text": [
      "Pandas DataFrame:\n",
      "   Column1  Column2  Column3\n",
      "0       49        3       19\n",
      "1       54       10      100\n",
      "2       34       65       21\n",
      "3       14       88       17\n",
      "4       63       42       48\n"
     ]
    }
   ],
   "source": [
    "import numpy as np\n",
    "import pandas as pd\n",
    "\n",
    "# Generate a NumPy array with random integers between 1 and 100\n",
    "np_array = np.random.randint(1, 101, size=(5, 3))\n",
    "\n",
    "# Create a Pandas DataFrame from the NumPy array\n",
    "df = pd.DataFrame(np_array, columns=['Column1', 'Column2', 'Column3'])\n",
    "\n",
    "print(\"Pandas DataFrame:\")\n",
    "print(df)\n"
   ]
  },
  {
   "cell_type": "markdown",
   "id": "4d47b8de-03f3-4933-8b41-b2664685f75e",
   "metadata": {},
   "source": [
    "25.Write a function that takes a Pandas DataFrame and replaces all negative values in a specific column\n",
    "with zeros. Use NumPy operations within the Pandas DataFrame."
   ]
  },
  {
   "cell_type": "code",
   "execution_count": 19,
   "id": "5b6030d8-dc26-4e8a-bd3d-4d67b5c7bf10",
   "metadata": {},
   "outputs": [
    {
     "name": "stdout",
     "output_type": "stream",
     "text": [
      "Original DataFrame:\n",
      "    A  B\n",
      "0  10 -1\n",
      "1 -20  2\n",
      "2  30 -3\n",
      "3 -40  4\n",
      "4  50 -5\n",
      "\n",
      "DataFrame after replacing negative values in column 'A':\n",
      "    A  B\n",
      "0  10 -1\n",
      "1   0  2\n",
      "2  30 -3\n",
      "3   0  4\n",
      "4  50 -5\n",
      "\n",
      "DataFrame after replacing negative values in column 'B':\n",
      "    A  B\n",
      "0  10  0\n",
      "1   0  2\n",
      "2  30  0\n",
      "3   0  4\n",
      "4  50  0\n"
     ]
    }
   ],
   "source": [
    "import pandas as pd\n",
    "import numpy as np\n",
    "\n",
    "def replace_negative_with_zero(df, column_name):\n",
    "    df[column_name] = np.where(df[column_name] < 0, 0, df[column_name])\n",
    "    return df\n",
    "\n",
    "\n",
    "data = {\n",
    "    'A': [10, -20, 30, -40, 50],\n",
    "    'B': [-1, 2, -3, 4, -5]\n",
    "}\n",
    "df = pd.DataFrame(data)\n",
    "\n",
    "print(\"Original DataFrame:\")\n",
    "print(df)\n",
    "\n",
    "# Replace negative values in column 'A'\n",
    "df = replace_negative_with_zero(df, 'A')\n",
    "\n",
    "print(\"\\nDataFrame after replacing negative values in column 'A':\")\n",
    "print(df)\n",
    "\n",
    "# Replace negative values in column 'B'\n",
    "df = replace_negative_with_zero(df, 'B')\n",
    "\n",
    "print(\"\\nDataFrame after replacing negative values in column 'B':\")\n",
    "print(df)\n"
   ]
  },
  {
   "cell_type": "markdown",
   "id": "61e80527-b9ae-4c9e-af30-2dfc0eaf306f",
   "metadata": {},
   "source": [
    "26.Access the 3rd element from the given NumPy array.\n",
    "\n",
    "     arr = np.array([10, 20, 30, 40, 50])\n"
   ]
  },
  {
   "cell_type": "code",
   "execution_count": 20,
   "id": "5f4b83fa-9257-4b58-8900-3647d1de1e43",
   "metadata": {},
   "outputs": [
    {
     "name": "stdout",
     "output_type": "stream",
     "text": [
      "The 3rd element is: 30\n"
     ]
    }
   ],
   "source": [
    "import numpy as np\n",
    "\n",
    "# Given NumPy array\n",
    "arr = np.array([10, 20, 30, 40, 50])\n",
    "\n",
    "# Access the 3rd element (index 2)\n",
    "third_element = arr[2]\n",
    "\n",
    "print(\"The 3rd element is:\", third_element)\n"
   ]
  },
  {
   "cell_type": "markdown",
   "id": "b820529b-88e1-47aa-88b4-f45185cdf70b",
   "metadata": {},
   "source": [
    "27.Retrieve the element at index (1, 2) from the 2D NumPy array\n",
    "\n",
    "arr_2d = np.array([[1, 2, 3], ",
    "\n",
    "                   [4, 5, 6], ",
    "\n",
    "                   [7, 8, 9]])\n"
   ]
  },
  {
   "cell_type": "code",
   "execution_count": 21,
   "id": "d1bc06b6-5cbc-4e08-943e-c020e322663f",
   "metadata": {},
   "outputs": [
    {
     "name": "stdout",
     "output_type": "stream",
     "text": [
      "The element at index (1, 2) is: 6\n"
     ]
    }
   ],
   "source": [
    "import numpy as np\n",
    "\n",
    "# Given 2D NumPy array\n",
    "arr_2d = np.array([[1, 2, 3],\n",
    "                   [4, 5, 6],\n",
    "                   [7, 8, 9]])\n",
    "\n",
    "# Retrieve the element at index (1, 2)\n",
    "element = arr_2d[1, 2]\n",
    "\n",
    "print(\"The element at index (1, 2) is:\", element)\n"
   ]
  },
  {
   "cell_type": "markdown",
   "id": "343d1d54-f97b-4f51-8030-77e9d33c7692",
   "metadata": {},
   "source": [
    "28.Using boolean indexing, extract elements greater than 5 from the given NumPy array.\n",
    "\n",
    "\n",
    "  arr = np.array([3, 8, 2, 10, 5, 7])\n"
   ]
  },
  {
   "cell_type": "code",
   "execution_count": 22,
   "id": "4bf1ed0a-5fa1-4016-b47c-3cf901672aed",
   "metadata": {},
   "outputs": [
    {
     "name": "stdout",
     "output_type": "stream",
     "text": [
      "Elements greater than 5: [ 8 10  7]\n"
     ]
    }
   ],
   "source": [
    "import numpy as np\n",
    "\n",
    "arr = np.array([3, 8, 2, 10, 5, 7])\n",
    "\n",
    "# Create a boolean mask for elements greater than 5\n",
    "mask = arr > 5\n",
    "\n",
    "# Use the mask to extract elements greater than 5\n",
    "elements_greater_than_5 = arr[mask]\n",
    "\n",
    "print(\"Elements greater than 5:\", elements_greater_than_5)\n"
   ]
  },
  {
   "cell_type": "markdown",
   "id": "45e6637f-4354-4121-b78e-2d1fcfec6921",
   "metadata": {},
   "source": [
    "29.Perform basic slicing to extract elements from index 2 to 5 (inclusive) from the given NumPy array.\n",
    "\n",
    " arr = np.array([1, 2, 3, 4, 5, 6, 7, 8, 9])"
   ]
  },
  {
   "cell_type": "code",
   "execution_count": 24,
   "id": "05af4ae7-f83d-44fb-82bc-b2b657e34d12",
   "metadata": {},
   "outputs": [
    {
     "name": "stdout",
     "output_type": "stream",
     "text": [
      "Elements from index 2 to 5 (inclusive): [3 4 5 6]\n"
     ]
    }
   ],
   "source": [
    "import numpy as np\n",
    "\n",
    "arr = np.array([1, 2, 3, 4, 5, 6, 7, 8, 9])\n",
    "\n",
    "# Extract elements from index 2 to 5 (inclusive)\n",
    "sliced_array = arr[2:6]\n",
    "\n",
    "print(\"Elements from index 2 to 5 (inclusive):\", sliced_array)\n"
   ]
  },
  {
   "cell_type": "markdown",
   "id": "7a25862b-4cfc-4686-9a34-9392e9ddcf6c",
   "metadata": {},
   "source": [
    "30.Slice the 2D NumPy array to extract the sub-array `[[2, 3], [5, 6]]` from the given array"
   ]
  },
  {
   "cell_type": "code",
   "execution_count": 25,
   "id": "3041e672-3919-4f87-99b2-fb9d38de1e48",
   "metadata": {},
   "outputs": [
    {
     "name": "stdout",
     "output_type": "stream",
     "text": [
      "Extracted sub-array:\n",
      "[[2 3]\n",
      " [5 6]]\n"
     ]
    }
   ],
   "source": [
    "import numpy as np\n",
    "\n",
    "arr_2d = np.array([[1, 2, 3],\n",
    "                   [4, 5, 6],\n",
    "                   [7, 8, 9]])\n",
    "\n",
    "# Slice to extract the sub-array [[2, 3], [5, 6]]\n",
    "sub_array = arr_2d[0:2, 1:3]\n",
    "\n",
    "print(\"Extracted sub-array:\")\n",
    "print(sub_array)\n"
   ]
  },
  {
   "cell_type": "markdown",
   "id": "032adc5a-097a-4955-87b5-6863fb50440c",
   "metadata": {},
   "source": [
    "31.Write a NumPy function to extract elements in specific order from a given 2D array based on indices\n",
    "provided in another array."
   ]
  },
  {
   "cell_type": "code",
   "execution_count": 26,
   "id": "c307f5ae-f6ba-4100-901e-6febacb93bc0",
   "metadata": {},
   "outputs": [
    {
     "name": "stdout",
     "output_type": "stream",
     "text": [
      "Extracted elements: [20 60 70]\n"
     ]
    }
   ],
   "source": [
    "import numpy as np\n",
    "\n",
    "def extract_elements_by_indices(arr_2d, indices):\n",
    "    # Convert indices to a 2D array if necessary\n",
    "    if np.ndim(indices) == 1:\n",
    "        indices = np.array([indices])\n",
    "\n",
    "    # Extract elements based on indices\n",
    "    extracted_elements = arr_2d[indices[:, 0], indices[:, 1]]\n",
    "    return extracted_elements\n",
    "\n",
    "arr_2d = np.array([[10, 20, 30],\n",
    "                   [40, 50, 60],\n",
    "                   [70, 80, 90]])\n",
    "\n",
    "indices = np.array([[0, 1],  # Element at (0, 1) -> 20\n",
    "                    [1, 2],  # Element at (1, 2) -> 60\n",
    "                    [2, 0]]) # Element at (2, 0) -> 70\n",
    "\n",
    "extracted_elements = extract_elements_by_indices(arr_2d, indices)\n",
    "print(\"Extracted elements:\", extracted_elements)\n"
   ]
  },
  {
   "cell_type": "markdown",
   "id": "00f6cf0b-daef-4ad8-8d3b-e5677264a546",
   "metadata": {},
   "source": [
    "32.. Create a NumPy function that filters elements greater than a threshold from a given 1D array using\n",
    "boolean indexing."
   ]
  },
  {
   "cell_type": "code",
   "execution_count": 27,
   "id": "beafbaf4-914a-4f20-acbf-cbcfa27db910",
   "metadata": {},
   "outputs": [
    {
     "name": "stdout",
     "output_type": "stream",
     "text": [
      "Elements greater than the threshold: [ 8 10  7]\n"
     ]
    }
   ],
   "source": [
    "import numpy as np\n",
    "\n",
    "def filter_greater_than(arr, threshold):\n",
    "    # Create a boolean mask where elements greater than the threshold are True\n",
    "    mask = arr > threshold\n",
    "    # Use the mask to filter the array\n",
    "    filtered_array = arr[mask]\n",
    "    return filtered_array\n",
    "\n",
    "# Example usage\n",
    "arr = np.array([1, 5, 8, 10, 2, 7])\n",
    "threshold = 6\n",
    "\n",
    "filtered_elements = filter_greater_than(arr, threshold)\n",
    "print(\"Elements greater than the threshold:\", filtered_elements)\n"
   ]
  },
  {
   "cell_type": "markdown",
   "id": "055a6d79-a4b3-48c6-9027-a485fe260ffe",
   "metadata": {},
   "source": [
    "33.Develop a NumPy function that extracts specific elements from a 3D array using indices provided in three\n",
    "separate arrays for each dimension."
   ]
  },
  {
   "cell_type": "code",
   "execution_count": 28,
   "id": "8365ed35-7668-42a0-9a9f-3ef2a9312bce",
   "metadata": {},
   "outputs": [
    {
     "name": "stdout",
     "output_type": "stream",
     "text": [
      "Extracted elements: [ 8 15 19]\n"
     ]
    }
   ],
   "source": [
    "import numpy as np\n",
    "\n",
    "def extract_elements_3d(arr_3d, indices_dim1, indices_dim2, indices_dim3):\n",
    "    # Convert indices to NumPy arrays (if they are not already)\n",
    "    indices_dim1 = np.asarray(indices_dim1)\n",
    "    indices_dim2 = np.asarray(indices_dim2)\n",
    "    indices_dim3 = np.asarray(indices_dim3)\n",
    "    \n",
    "    # Ensure all index arrays are of the same length\n",
    "    if not (len(indices_dim1) == len(indices_dim2) == len(indices_dim3)):\n",
    "        raise ValueError(\"All index arrays must have the same length.\")\n",
    "    \n",
    "    # Extract elements based on indices\n",
    "    extracted_elements = arr_3d[indices_dim1, indices_dim2, indices_dim3]\n",
    "    return extracted_elements\n",
    "\n",
    "# Example usage\n",
    "arr_3d = np.array([[[1, 2, 3], [4, 5, 6], [7, 8, 9]],\n",
    "                   [[10, 11, 12], [13, 14, 15], [16, 17, 18]],\n",
    "                   [[19, 20, 21], [22, 23, 24], [25, 26, 27]]])\n",
    "\n",
    "indices_dim1 = [0, 1, 2]  # Indices for the first dimension\n",
    "indices_dim2 = [2, 1, 0]  # Indices for the second dimension\n",
    "indices_dim3 = [1, 2, 0]  # Indices for the third dimension\n",
    "\n",
    "extracted_elements = extract_elements_3d(arr_3d, indices_dim1, indices_dim2, indices_dim3)\n",
    "print(\"Extracted elements:\", extracted_elements)\n"
   ]
  },
  {
   "cell_type": "markdown",
   "id": "849e5981-aed1-4f19-8159-476f32d544a4",
   "metadata": {},
   "source": [
    "34.Write a NumPy function that returns elements from an array where both two conditions are satisfied\n",
    "using boolean indexing."
   ]
  },
  {
   "cell_type": "code",
   "execution_count": 29,
   "id": "7f1877f9-42df-492d-86ba-92dd3224df7f",
   "metadata": {},
   "outputs": [
    {
     "name": "stdout",
     "output_type": "stream",
     "text": [
      "Filtered elements: [30 40 50]\n"
     ]
    }
   ],
   "source": [
    "import numpy as np\n",
    "\n",
    "def filter_elements(arr, condition1, condition2):\n",
    "    # Ensure conditions are boolean arrays\n",
    "    condition1 = np.asarray(condition1)\n",
    "    condition2 = np.asarray(condition2)\n",
    "    \n",
    "    # Combine the conditions using logical AND\n",
    "    combined_condition = condition1 & condition2\n",
    "    \n",
    "    # Use the combined condition to filter the array\n",
    "    filtered_elements = arr[combined_condition]\n",
    "    return filtered_elements\n",
    "\n",
    "# Example usage\n",
    "arr = np.array([10, 20, 30, 40, 50, 60, 70])\n",
    "\n",
    "# Define conditions\n",
    "condition1 = arr > 20        # Elements greater than 20\n",
    "condition2 = arr < 60        # Elements less than 60\n",
    "\n",
    "# Filter elements where both conditions are satisfied\n",
    "filtered_elements = filter_elements(arr, condition1, condition2)\n",
    "print(\"Filtered elements:\", filtered_elements)\n"
   ]
  },
  {
   "cell_type": "markdown",
   "id": "651dc4a4-b025-42b8-b736-86b2bed8bdb6",
   "metadata": {},
   "source": [
    "35.Create a NumPy function that extracts elements from a 2D array using row and column indices provided\n",
    "in separate arrays."
   ]
  },
  {
   "cell_type": "code",
   "execution_count": 30,
   "id": "bda37aca-1687-40e8-9c5a-579322af14ca",
   "metadata": {},
   "outputs": [
    {
     "name": "stdout",
     "output_type": "stream",
     "text": [
      "Extracted elements: [20 60 70]\n"
     ]
    }
   ],
   "source": [
    "import numpy as np\n",
    "\n",
    "def extract_elements_2d(arr_2d, row_indices, col_indices):\n",
    "    # Convert indices to NumPy arrays (if they are not already)\n",
    "    row_indices = np.asarray(row_indices)\n",
    "    col_indices = np.asarray(col_indices)\n",
    "    \n",
    "    # Ensure all index arrays are of the same length\n",
    "    if len(row_indices) != len(col_indices):\n",
    "        raise ValueError(\"Row and column index arrays must have the same length.\")\n",
    "    \n",
    "    # Extract elements based on row and column indices\n",
    "    extracted_elements = arr_2d[row_indices, col_indices]\n",
    "    return extracted_elements\n",
    "\n",
    "# Example usage\n",
    "arr_2d = np.array([[10, 20, 30],\n",
    "                   [40, 50, 60],\n",
    "                   [70, 80, 90]])\n",
    "\n",
    "row_indices = [0, 1, 2]  # Row indices\n",
    "col_indices = [1, 2, 0]  # Column indices\n",
    "\n",
    "extracted_elements = extract_elements_2d(arr_2d, row_indices, col_indices)\n",
    "print(\"Extracted elements:\", extracted_elements)\n"
   ]
  },
  {
   "cell_type": "markdown",
   "id": "04aeaa4b-8d4f-4608-b7af-e1690856e0f4",
   "metadata": {},
   "source": [
    "36.Given an array arr of shape (3, 3), add a scalar value of 5 to each element using NumPy broadcasting."
   ]
  },
  {
   "cell_type": "code",
   "execution_count": 31,
   "id": "ede8ce7e-9da0-4270-95f3-5ae500c1ab2b",
   "metadata": {},
   "outputs": [
    {
     "name": "stdout",
     "output_type": "stream",
     "text": [
      "Original array:\n",
      "[[1 2 3]\n",
      " [4 5 6]\n",
      " [7 8 9]]\n",
      "\n",
      "Array after adding scalar value of 5:\n",
      "[[ 6  7  8]\n",
      " [ 9 10 11]\n",
      " [12 13 14]]\n"
     ]
    }
   ],
   "source": [
    "import numpy as np\n",
    "\n",
    "# Given 2D NumPy array with shape (3, 3)\n",
    "arr = np.array([[1, 2, 3],\n",
    "                [4, 5, 6],\n",
    "                [7, 8, 9]])\n",
    "\n",
    "# Scalar value to add\n",
    "scalar_value = 5\n",
    "\n",
    "# Add the scalar value to each element using broadcasting\n",
    "result = arr + scalar_value\n",
    "\n",
    "print(\"Original array:\")\n",
    "print(arr)\n",
    "print(\"\\nArray after adding scalar value of 5:\")\n",
    "print(result)\n"
   ]
  },
  {
   "cell_type": "markdown",
   "id": "6f62093a-4654-44ee-b533-04875ade55e0",
   "metadata": {},
   "source": [
    "37.Consider two arrays arr1 of shape (1, 3) and arr2 of shape (3, 4). Multiply each row of arr2 by the\n",
    "corresponding element in arr1 using NumPy broadcasting."
   ]
  },
  {
   "cell_type": "code",
   "execution_count": null,
   "id": "c28f19c4-8117-4684-b857-49ecb14af4ab",
   "metadata": {},
   "outputs": [],
   "source": [
    "import numpy as np\n",
    "\n",
    "# Given arrays\n",
    "arr1 = np.array([[2, 3, 4]])  # Shape (1, 3)\n",
    "arr2 = np.array([[1, 2, 3, 4],\n",
    "                 [5, 6, 7, 8],\n",
    "                 [9, 10, 11, 12]])  # Shape (3, 4)\n",
    "\n",
    "# Multiply each row of arr2 by the corresponding element in arr1\n",
    "result = arr2 * arr1\n",
    "\n",
    "print(\"Array arr1:\")\n",
    "print(arr1)\n",
    "print(\"\\nArray arr2:\")\n",
    "print(arr2)\n",
    "print(\"\\nResult after broadcasting and multiplication:\")\n",
    "print(result)\n"
   ]
  },
  {
   "cell_type": "markdown",
   "id": "73a1c01b-b1a2-4dbc-b31c-74e2f6219746",
   "metadata": {},
   "source": [
    "38.Given a 1D array arr1 of shape (1, 4) and a 2D array arr2 of shape (4, 3), add arr1 to each row of arr2 using\n",
    "NumPy broadcasting."
   ]
  },
  {
   "cell_type": "code",
   "execution_count": 34,
   "id": "47df9384-e22c-44b0-8b0d-2b9fa16b58b8",
   "metadata": {},
   "outputs": [
    {
     "name": "stdout",
     "output_type": "stream",
     "text": [
      "Array arr1:\n",
      "[[1 2 3 4]]\n",
      "\n",
      "Array arr2:\n",
      "[[ 5  6  7]\n",
      " [ 8  9 10]\n",
      " [11 12 13]\n",
      " [14 15 16]]\n",
      "\n",
      "Result after broadcasting and addition:\n",
      "[[ 6  8 10]\n",
      " [ 9 11 13]\n",
      " [12 14 16]\n",
      " [15 17 19]]\n"
     ]
    }
   ],
   "source": [
    "import numpy as np\n",
    "\n",
    "# Given arrays\n",
    "arr1 = np.array([[1, 2, 3, 4]])  # Shape (1, 4)\n",
    "arr2 = np.array([[5, 6, 7],\n",
    "                 [8, 9, 10],\n",
    "                 [11, 12, 13],\n",
    "                 [14, 15, 16]])  # Shape (4, 3)\n",
    "\n",
    "# Reshape arr1 to (4, 4) for broadcasting\n",
    "# Since arr1 has a different number of columns than arr2, \n",
    "# it needs to be reshaped to ensure the broadcasting works.\n",
    "# We can use `np.broadcast_to` to achieve this.\n",
    "arr1_broadcasted = np.broadcast_to(arr1, (arr2.shape[0], arr1.shape[1]))\n",
    "\n",
    "# Add arr1 to each row of arr2\n",
    "result = arr2 + arr1_broadcasted[:, :arr2.shape[1]]\n",
    "\n",
    "print(\"Array arr1:\")\n",
    "print(arr1)\n",
    "print(\"\\nArray arr2:\")\n",
    "print(arr2)\n",
    "print(\"\\nResult after broadcasting and addition:\")\n",
    "print(result)\n"
   ]
  },
  {
   "cell_type": "markdown",
   "id": "6b182957-5bd7-4e6a-8268-dffc2814b118",
   "metadata": {},
   "source": [
    "39.Consider two arrays arr1 of shape (3, 1) and arr2 of shape (1, 3). Add these arrays using NumPy\n",
    "broadcasting."
   ]
  },
  {
   "cell_type": "code",
   "execution_count": 35,
   "id": "3e40cc59-ba4e-4434-a08f-7d52e5a74365",
   "metadata": {},
   "outputs": [
    {
     "name": "stdout",
     "output_type": "stream",
     "text": [
      "Array arr1:\n",
      "[[1]\n",
      " [2]\n",
      " [3]]\n",
      "\n",
      "Array arr2:\n",
      "[[4 5 6]]\n",
      "\n",
      "Result after broadcasting and addition:\n",
      "[[5 6 7]\n",
      " [6 7 8]\n",
      " [7 8 9]]\n"
     ]
    }
   ],
   "source": [
    "import numpy as np\n",
    "\n",
    "# Given arrays\n",
    "arr1 = np.array([[1], [2], [3]])  # Shape (3, 1)\n",
    "arr2 = np.array([[4, 5, 6]])      # Shape (1, 3)\n",
    "\n",
    "# Add the arrays using broadcasting\n",
    "result = arr1 + arr2\n",
    "\n",
    "print(\"Array arr1:\")\n",
    "print(arr1)\n",
    "print(\"\\nArray arr2:\")\n",
    "print(arr2)\n",
    "print(\"\\nResult after broadcasting and addition:\")\n",
    "print(result)\n"
   ]
  },
  {
   "cell_type": "markdown",
   "id": "b98569d1-de6d-4adf-b8e3-31dee31a9d49",
   "metadata": {},
   "source": [
    "40.Given arrays arr1 of shape (2, 3) and arr2 of shape (2, 2), perform multiplication using NumPy\n",
    "broadcasting. Handle the shape incompatibility."
   ]
  },
  {
   "cell_type": "code",
   "execution_count": 36,
   "id": "f98fcb13-b484-4ad1-a204-dd6a21e4fb23",
   "metadata": {},
   "outputs": [
    {
     "name": "stdout",
     "output_type": "stream",
     "text": [
      "Array arr1:\n",
      "[[1 2 3]\n",
      " [4 5 6]]\n",
      "\n",
      "Array arr2:\n",
      "[[ 7  8]\n",
      " [ 9 10]]\n",
      "\n",
      "Reshaped arr1:\n",
      "[[[1 2 3]]\n",
      "\n",
      " [[4 5 6]]]\n",
      "\n",
      "Reshaped arr2:\n",
      "[[[ 7]\n",
      "  [ 8]]\n",
      "\n",
      " [[ 9]\n",
      "  [10]]]\n",
      "\n",
      "Result after broadcasting and multiplication:\n",
      "[[[ 7 14 21]\n",
      "  [ 8 16 24]]\n",
      "\n",
      " [[36 45 54]\n",
      "  [40 50 60]]]\n"
     ]
    }
   ],
   "source": [
    "import numpy as np\n",
    "\n",
    "# Given arrays\n",
    "arr1 = np.array([[1, 2, 3],\n",
    "                 [4, 5, 6]])   # Shape (2, 3)\n",
    "\n",
    "arr2 = np.array([[7, 8],\n",
    "                 [9, 10]])     # Shape (2, 2)\n",
    "\n",
    "# Reshape arr2 to (2, 1, 2) for broadcasting\n",
    "arr2_reshaped = arr2[:, :, np.newaxis]  # Shape (2, 2, 1)\n",
    "\n",
    "# Reshape arr1 to (2, 1, 3) for broadcasting\n",
    "arr1_reshaped = arr1[:, np.newaxis, :]  # Shape (2, 1, 3)\n",
    "\n",
    "# Perform element-wise multiplication\n",
    "result = arr1_reshaped * arr2_reshaped\n",
    "\n",
    "print(\"Array arr1:\")\n",
    "print(arr1)\n",
    "print(\"\\nArray arr2:\")\n",
    "print(arr2)\n",
    "print(\"\\nReshaped arr1:\")\n",
    "print(arr1_reshaped)\n",
    "print(\"\\nReshaped arr2:\")\n",
    "print(arr2_reshaped)\n",
    "print(\"\\nResult after broadcasting and multiplication:\")\n",
    "print(result)\n"
   ]
  },
  {
   "cell_type": "markdown",
   "id": "106da7f5-038d-42bc-ae9a-650533e52802",
   "metadata": {},
   "source": [
    "41.Calculate column wise mean for the given array:\n",
    "\n",
    "arr = np.array([[1, 2, 3], [4, 5, 6]])"
   ]
  },
  {
   "cell_type": "code",
   "execution_count": 37,
   "id": "dfaa259d-7575-409b-b3d3-627dd2c258d3",
   "metadata": {},
   "outputs": [
    {
     "name": "stdout",
     "output_type": "stream",
     "text": [
      "Original array:\n",
      "[[1 2 3]\n",
      " [4 5 6]]\n",
      "\n",
      "Column-wise mean:\n",
      "[2.5 3.5 4.5]\n"
     ]
    }
   ],
   "source": [
    "import numpy as np\n",
    "\n",
    "# Given array\n",
    "arr = np.array([[1, 2, 3],\n",
    "                [4, 5, 6]])\n",
    "\n",
    "# Calculate column-wise mean\n",
    "column_mean = np.mean(arr, axis=0)\n",
    "\n",
    "print(\"Original array:\")\n",
    "print(arr)\n",
    "print(\"\\nColumn-wise mean:\")\n",
    "print(column_mean)\n"
   ]
  },
  {
   "cell_type": "markdown",
   "id": "7b213aba-4f7b-48de-8174-62bd71f7948f",
   "metadata": {},
   "source": [
    "42.Find maximum value in each row of the given array:\n",
    "\n",
    "arr = np.array([[1, 2, 3], [4, 5, 6]])"
   ]
  },
  {
   "cell_type": "code",
   "execution_count": 38,
   "id": "67ad599d-643b-4d82-8a85-9d0d5c927198",
   "metadata": {},
   "outputs": [
    {
     "name": "stdout",
     "output_type": "stream",
     "text": [
      "Original array:\n",
      "[[1 2 3]\n",
      " [4 5 6]]\n",
      "\n",
      "Maximum value in each row:\n",
      "[3 6]\n"
     ]
    }
   ],
   "source": [
    "import numpy as np\n",
    "\n",
    "# Given array\n",
    "arr = np.array([[1, 2, 3],\n",
    "                [4, 5, 6]])\n",
    "\n",
    "# Find maximum value in each row\n",
    "row_max = np.amax(arr, axis=1)\n",
    "\n",
    "print(\"Original array:\")\n",
    "print(arr)\n",
    "print(\"\\nMaximum value in each row:\")\n",
    "print(row_max)\n"
   ]
  },
  {
   "cell_type": "markdown",
   "id": "4397a0fa-fd36-4305-995d-6c5af1a53a3c",
   "metadata": {},
   "source": [
    "43.For the given array, find indices of maximum value in each column.\n",
    "\n",
    "arr = np.array([[1, 2, 3], [4, 5, 6]])"
   ]
  },
  {
   "cell_type": "code",
   "execution_count": 39,
   "id": "6fd1ab42-861e-4e8b-bd81-8d64ef6149bc",
   "metadata": {},
   "outputs": [
    {
     "name": "stdout",
     "output_type": "stream",
     "text": [
      "Original array:\n",
      "[[1 2 3]\n",
      " [4 5 6]]\n",
      "\n",
      "Indices of maximum values in each column:\n",
      "[1 1 1]\n"
     ]
    }
   ],
   "source": [
    "import numpy as np\n",
    "\n",
    "# Given array\n",
    "arr = np.array([[1, 2, 3],\n",
    "                [4, 5, 6]])\n",
    "\n",
    "# Find indices of maximum values in each column\n",
    "max_indices = np.argmax(arr, axis=0)\n",
    "\n",
    "print(\"Original array:\")\n",
    "print(arr)\n",
    "print(\"\\nIndices of maximum values in each column:\")\n",
    "print(max_indices)\n"
   ]
  },
  {
   "cell_type": "markdown",
   "id": "a741a33f-4007-4918-9e85-f09fdcc5d938",
   "metadata": {},
   "source": [
    "44.For the given array, apply custom function to calculate moving sum along rows.\n",
    "\n",
    "arr = np.array([[1, 2, 3], [4, 5, 6]])"
   ]
  },
  {
   "cell_type": "code",
   "execution_count": 40,
   "id": "1da51d42-d326-4bf0-9bed-db9013060383",
   "metadata": {},
   "outputs": [
    {
     "name": "stdout",
     "output_type": "stream",
     "text": [
      "Original array:\n",
      "[[1 2 3]\n",
      " [4 5 6]]\n",
      "\n",
      "Moving sum with window size of 2:\n",
      "[[ 3.  5.]\n",
      " [ 9. 11.]]\n"
     ]
    }
   ],
   "source": [
    "import numpy as np\n",
    "\n",
    "def moving_sum(arr, window_size):\n",
    "    # Get the number of rows and columns\n",
    "    num_rows, num_cols = arr.shape\n",
    "    \n",
    "    # Initialize the result array with zeros\n",
    "    result = np.zeros((num_rows, num_cols - window_size + 1))\n",
    "    \n",
    "    # Compute moving sum for each row\n",
    "    for i in range(num_rows):\n",
    "        row = arr[i]\n",
    "        # Compute the moving sum using a sliding window\n",
    "        for j in range(num_cols - window_size + 1):\n",
    "            result[i, j] = np.sum(row[j:j + window_size])\n",
    "    \n",
    "    return result\n",
    "\n",
    "# Given array\n",
    "arr = np.array([[1, 2, 3], \n",
    "                [4, 5, 6]])\n",
    "\n",
    "# Window size for moving sum\n",
    "window_size = 2\n",
    "\n",
    "# Apply the custom moving sum function\n",
    "moving_sum_result = moving_sum(arr, window_size)\n",
    "\n",
    "print(\"Original array:\")\n",
    "print(arr)\n",
    "print(\"\\nMoving sum with window size of 2:\")\n",
    "print(moving_sum_result)\n"
   ]
  },
  {
   "cell_type": "markdown",
   "id": "1e765c62-f9b7-4ee2-a07f-67066c244285",
   "metadata": {},
   "source": [
    "45.In the given array, check if all elements in each column are even.\n",
    "\n",
    "arr = np.array([[2, 4, 6], [3, 5, 7]])"
   ]
  },
  {
   "cell_type": "code",
   "execution_count": 41,
   "id": "2ae77317-1510-41d2-b889-fd6053353dc1",
   "metadata": {},
   "outputs": [
    {
     "name": "stdout",
     "output_type": "stream",
     "text": [
      "Original array:\n",
      "[[2 4 6]\n",
      " [3 5 7]]\n",
      "\n",
      "Are all elements in each column even?\n",
      "[False False False]\n"
     ]
    }
   ],
   "source": [
    "import numpy as np\n",
    "\n",
    "# Given array\n",
    "arr = np.array([[2, 4, 6],\n",
    "                [3, 5, 7]])\n",
    "\n",
    "# Check if all elements in each column are even\n",
    "all_even = np.all(arr % 2 == 0, axis=0)\n",
    "\n",
    "print(\"Original array:\")\n",
    "print(arr)\n",
    "print(\"\\nAre all elements in each column even?\")\n",
    "print(all_even)\n"
   ]
  },
  {
   "cell_type": "markdown",
   "id": "470454b8-2f8d-4e4d-8fbb-676d9cfcc0c5",
   "metadata": {},
   "source": [
    "46.Given a NumPy array arr, reshape it into a matrix of dimensions `m` rows and `n` columns. Return the\n",
    "reshaped matrix.\n",
    "\n",
    "\n",
    "original_array = np.array([1, 2, 3, 4, 5, 6])"
   ]
  },
  {
   "cell_type": "code",
   "execution_count": 42,
   "id": "e5f7fa4b-bfe8-4922-9c20-d44d8b63c852",
   "metadata": {},
   "outputs": [
    {
     "name": "stdout",
     "output_type": "stream",
     "text": [
      "Original array:\n",
      "[1 2 3 4 5 6]\n",
      "\n",
      "Reshaped matrix:\n",
      "[[1 2 3]\n",
      " [4 5 6]]\n"
     ]
    }
   ],
   "source": [
    "import numpy as np\n",
    "\n",
    "# Given array\n",
    "original_array = np.array([1, 2, 3, 4, 5, 6])\n",
    "\n",
    "# Define new shape dimensions (m, n)\n",
    "m, n = 2, 3  # Example dimensions\n",
    "\n",
    "# Reshape the array\n",
    "reshaped_matrix = original_array.reshape(m, n)\n",
    "\n",
    "print(\"Original array:\")\n",
    "print(original_array)\n",
    "print(\"\\nReshaped matrix:\")\n",
    "print(reshaped_matrix)\n"
   ]
  },
  {
   "cell_type": "markdown",
   "id": "95b27c9a-50b3-4f54-b87f-4703a82fb9ea",
   "metadata": {},
   "source": [
    "47.Create a function that takes a matrix as input and returns the flattened array.\n",
    "\n",
    "   input_matrix = np.array([[1, 2, 3], [4, 5, 6]])\n"
   ]
  },
  {
   "cell_type": "code",
   "execution_count": 43,
   "id": "85265fec-ac03-4f66-b489-1a01e572aeaa",
   "metadata": {},
   "outputs": [
    {
     "name": "stdout",
     "output_type": "stream",
     "text": [
      "Original matrix:\n",
      "[[1 2 3]\n",
      " [4 5 6]]\n",
      "\n",
      "Flattened array:\n",
      "[1 2 3 4 5 6]\n"
     ]
    }
   ],
   "source": [
    "import numpy as np\n",
    "\n",
    "def flatten_matrix(matrix):\n",
    "   \n",
    "    return matrix.flatten()\n",
    "\n",
    "# Given matrix\n",
    "input_matrix = np.array([[1, 2, 3], [4, 5, 6]])\n",
    "\n",
    "# Flatten the matrix\n",
    "flattened_array = flatten_matrix(input_matrix)\n",
    "\n",
    "print(\"Original matrix:\")\n",
    "print(input_matrix)\n",
    "print(\"\\nFlattened array:\")\n",
    "print(flattened_array)\n"
   ]
  },
  {
   "cell_type": "markdown",
   "id": "fc6ca8fd-98d9-4c56-8308-fa81141b8611",
   "metadata": {},
   "source": [
    "48.Write a function that concatenates two given arrays along a specified axis.\n",
    "\n",
    "\n",
    "array1 = np.array([[1, 2], [3, 4]]) ",
    "\n",
    "array2 = np.array([[5, 6], [7, 8]])\n",
    "\n"
   ]
  },
  {
   "cell_type": "code",
   "execution_count": 1,
   "id": "868b5b39-cb16-46ea-a317-97497d14c935",
   "metadata": {},
   "outputs": [
    {
     "name": "stdout",
     "output_type": "stream",
     "text": [
      "Concatenated along axis 0:\n",
      "[[1 2]\n",
      " [3 4]\n",
      " [5 6]\n",
      " [7 8]]\n",
      "\n",
      "Concatenated along axis 1:\n",
      "[[1 2 5 6]\n",
      " [3 4 7 8]]\n"
     ]
    }
   ],
   "source": [
    "import numpy as np\n",
    "\n",
    "def concatenate_arrays(array1, array2, axis):\n",
    "    \"\"\"\n",
    "    Concatenates two given arrays along a specified axis.\n",
    "\n",
    "    Parameters:\n",
    "    array1 (np.ndarray): The first array to concatenate.\n",
    "    array2 (np.ndarray): The second array to concatenate.\n",
    "    axis (int): The axis along which the arrays will be concatenated.\n",
    "\n",
    "    Returns:\n",
    "    np.ndarray: The concatenated array.\n",
    "    \"\"\"\n",
    "    return np.concatenate((array1, array2), axis=axis)\n",
    "\n",
    "# Given arrays\n",
    "array1 = np.array([[1, 2], [3, 4]])\n",
    "array2 = np.array([[5, 6], [7, 8]])\n",
    "\n",
    "# Concatenate along axis 0 (rows)\n",
    "concatenated_axis0 = concatenate_arrays(array1, array2, axis=0)\n",
    "print(\"Concatenated along axis 0:\")\n",
    "print(concatenated_axis0)\n",
    "\n",
    "# Concatenate along axis 1 (columns)\n",
    "concatenated_axis1 = concatenate_arrays(array1, array2, axis=1)\n",
    "print(\"\\nConcatenated along axis 1:\")\n",
    "print(concatenated_axis1)\n"
   ]
  },
  {
   "cell_type": "markdown",
   "id": "4d334dfd-ea5c-46bb-ad93-cfcb24ef1333",
   "metadata": {},
   "source": [
    "49.Create a function that splits an array into multiple sub-arrays along a specified axis\n",
    "\n",
    "\n",
    "original_array = np.array([[1, 2, 3], [4, 5, 6], [7, 8, 9]])\n"
   ]
  },
  {
   "cell_type": "code",
   "execution_count": 2,
   "id": "794e5180-6a1f-4653-90db-98844861c3f5",
   "metadata": {},
   "outputs": [
    {
     "name": "stdout",
     "output_type": "stream",
     "text": [
      "Split into 3 equal parts along axis 0:\n",
      "[[1 2 3]]\n",
      "[[4 5 6]]\n",
      "[[7 8 9]]\n",
      "\n",
      "Split at specific indices [1, 2] along axis 1:\n",
      "[[1]\n",
      " [4]\n",
      " [7]]\n",
      "[[2]\n",
      " [5]\n",
      " [8]]\n",
      "[[3]\n",
      " [6]\n",
      " [9]]\n"
     ]
    }
   ],
   "source": [
    "import numpy as np\n",
    "\n",
    "def split_array(array, indices_or_sections, axis=0):\n",
    "    \"\"\"\n",
    "    Splits an array into multiple sub-arrays along a specified axis.\n",
    "\n",
    "    Parameters:\n",
    "    array (np.ndarray): The input array to split.\n",
    "    indices_or_sections (int or 1-D array): If an integer, it determines the number of equal-sized sub-arrays to create.\n",
    "                                            If a 1-D array, it determines the indices at which the array is split.\n",
    "    axis (int): The axis along which to split the array. Default is 0.\n",
    "\n",
    "    Returns:\n",
    "    list of np.ndarray: A list of sub-arrays.\n",
    "    \"\"\"\n",
    "    return np.split(array, indices_or_sections, axis=axis)\n",
    "\n",
    "# Given array\n",
    "original_array = np.array([[1, 2, 3], \n",
    "                           [4, 5, 6], \n",
    "                           [7, 8, 9]])\n",
    "\n",
    "# Split into 3 equal parts along axis 0 (rows)\n",
    "split_arrays_axis0 = split_array(original_array, 3, axis=0)\n",
    "print(\"Split into 3 equal parts along axis 0:\")\n",
    "for sub_array in split_arrays_axis0:\n",
    "    print(sub_array)\n",
    "\n",
    "# Split at specific indices along axis 1 (columns)\n",
    "split_arrays_axis1 = split_array(original_array, [1, 2], axis=1)\n",
    "print(\"\\nSplit at specific indices [1, 2] along axis 1:\")\n",
    "for sub_array in split_arrays_axis1:\n",
    "    print(sub_array)\n"
   ]
  },
  {
   "cell_type": "markdown",
   "id": "864168d4-43ed-4ce8-afd1-d6ffc7f6cc7e",
   "metadata": {},
   "source": [
    "50.Write a function that inserts and then deletes elements from a given array at specified indices.\n",
    "\n",
    "\n",
    "original_array = np.array([1, 2, 3, 4, 5]) ",
    "\n",
    "indices_to_insert = [2, 4] ",
    "\n",
    "values_to_insert = [10, 11] ",
    "\n",
    "indices_to_delete = [1, 3]\n"
   ]
  },
  {
   "cell_type": "code",
   "execution_count": 3,
   "id": "e467c6ce-286c-47f8-ae9d-0721df6a83d5",
   "metadata": {},
   "outputs": [
    {
     "name": "stdout",
     "output_type": "stream",
     "text": [
      "Original array:\n",
      "[1 2 3 4 5]\n",
      "\n",
      "Array after insertion and deletion:\n",
      "[ 1 10  4 11  5]\n"
     ]
    }
   ],
   "source": [
    "import numpy as np\n",
    "\n",
    "def insert_and_delete_elements(array, indices_to_insert, values_to_insert, indices_to_delete):\n",
    "    \"\"\"\n",
    "    Inserts values into the array at specified indices and then deletes elements from the array at specified indices.\n",
    "\n",
    "    Parameters:\n",
    "    array (np.ndarray): The original array.\n",
    "    indices_to_insert (list of int): The indices at which to insert the values.\n",
    "    values_to_insert (list of int): The values to insert at the specified indices.\n",
    "    indices_to_delete (list of int): The indices of the elements to delete from the array.\n",
    "\n",
    "    Returns:\n",
    "    np.ndarray: The resulting array after insertion and deletion.\n",
    "    \"\"\"\n",
    "    # Insert values at specified indices\n",
    "    array = np.insert(array, indices_to_insert, values_to_insert)\n",
    "    \n",
    "    # Adjust indices to delete due to prior insertions\n",
    "    indices_to_delete_adjusted = np.sort(indices_to_delete)\n",
    "    \n",
    "    # Delete elements at specified indices\n",
    "    array = np.delete(array, indices_to_delete_adjusted)\n",
    "    \n",
    "    return array\n",
    "\n",
    "# Given array\n",
    "original_array = np.array([1, 2, 3, 4, 5])\n",
    "\n",
    "# Indices to insert values\n",
    "indices_to_insert = [2, 4]\n",
    "values_to_insert = [10, 11]\n",
    "\n",
    "# Indices to delete values\n",
    "indices_to_delete = [1, 3]\n",
    "\n",
    "# Perform insertion and deletion\n",
    "result_array = insert_and_delete_elements(original_array, indices_to_insert, values_to_insert, indices_to_delete)\n",
    "\n",
    "print(\"Original array:\")\n",
    "print(original_array)\n",
    "print(\"\\nArray after insertion and deletion:\")\n",
    "print(result_array)\n"
   ]
  },
  {
   "cell_type": "markdown",
   "id": "8f835de6-ebf7-4bb8-8ad8-309fecf789d0",
   "metadata": {},
   "source": [
    " 51.Create a NumPy array `arr1` with random integers and another array `arr2` with integers from 1 to 10.\n",
    "Perform element-wise addition between `arr1` and `arr2`."
   ]
  },
  {
   "cell_type": "code",
   "execution_count": 4,
   "id": "5c3d9c84-a840-470d-a84f-25597171fc1f",
   "metadata": {},
   "outputs": [
    {
     "name": "stdout",
     "output_type": "stream",
     "text": [
      "Array arr1 (random integers):\n",
      "[ 6  6  5  8  5  1  6  9  6 10]\n",
      "\n",
      "Array arr2 (integers from 1 to 10):\n",
      "[ 1  2  3  4  5  6  7  8  9 10]\n",
      "\n",
      "Resulting array after element-wise addition:\n",
      "[ 7  8  8 12 10  7 13 17 15 20]\n"
     ]
    }
   ],
   "source": [
    "import numpy as np\n",
    "\n",
    "# Create a NumPy array arr1 with random integers\n",
    "arr1 = np.random.randint(1, 11, size=10)  # Random integers between 1 and 10, size 10\n",
    "\n",
    "# Create a NumPy array arr2 with integers from 1 to 10\n",
    "arr2 = np.arange(1, 11)\n",
    "\n",
    "# Perform element-wise addition\n",
    "result_array = arr1 + arr2\n",
    "\n",
    "print(\"Array arr1 (random integers):\")\n",
    "print(arr1)\n",
    "print(\"\\nArray arr2 (integers from 1 to 10):\")\n",
    "print(arr2)\n",
    "print(\"\\nResulting array after element-wise addition:\")\n",
    "print(result_array)\n"
   ]
  },
  {
   "cell_type": "markdown",
   "id": "ff0b1594-d7e4-46f3-9be1-00d872f3d988",
   "metadata": {},
   "source": [
    "52.Generate a NumPy array `arr1` with sequential integers from 10 to 1 and another array `arr2` with integers\n",
    "from 1 to 10. Subtract `arr2` from `arr1` element-wise."
   ]
  },
  {
   "cell_type": "code",
   "execution_count": 5,
   "id": "a3e9549a-7fcb-4164-97a7-bd092733381b",
   "metadata": {},
   "outputs": [
    {
     "name": "stdout",
     "output_type": "stream",
     "text": [
      "arr1: [10  9  8  7  6  5  4  3  2  1]\n",
      "arr2: [ 1  2  3  4  5  6  7  8  9 10]\n",
      "Result of arr1 - arr2: [ 9  7  5  3  1 -1 -3 -5 -7 -9]\n"
     ]
    }
   ],
   "source": [
    "import numpy as np\n",
    "\n",
    "# Create the arrays\n",
    "arr1 = np.arange(10, 0, -1)\n",
    "arr2 = np.arange(1, 11)\n",
    "\n",
    "# Subtract arr2 from arr1 element-wise\n",
    "result = arr1 - arr2\n",
    "\n",
    "print(\"arr1:\", arr1)\n",
    "print(\"arr2:\", arr2)\n",
    "print(\"Result of arr1 - arr2:\", result)\n"
   ]
  },
  {
   "cell_type": "markdown",
   "id": "f102bdf0-36df-4736-9906-d25aae4c2cee",
   "metadata": {},
   "source": [
    "53.Create a NumPy array `arr1` with random integers and another array `arr2` with integers from 1 to 5.\n",
    "Perform element-wise multiplication between `arr1` and `arr2`."
   ]
  },
  {
   "cell_type": "code",
   "execution_count": 6,
   "id": "47942458-fc47-4a34-918e-77c4d749cd4f",
   "metadata": {},
   "outputs": [
    {
     "name": "stdout",
     "output_type": "stream",
     "text": [
      "Array arr1 (random integers):\n",
      "[ 8  9  1  9 10]\n",
      "\n",
      "Array arr2 (integers from 1 to 5):\n",
      "[1 2 3 4 5]\n",
      "\n",
      "Resulting array after element-wise multiplication:\n",
      "[ 8 18  3 36 50]\n"
     ]
    }
   ],
   "source": [
    "import numpy as np\n",
    "\n",
    "# Create a NumPy array arr1 with random integers between 1 and 10, size 5\n",
    "arr1 = np.random.randint(1, 11, size=5)\n",
    "\n",
    "# Create a NumPy array arr2 with integers from 1 to 5\n",
    "arr2 = np.arange(1, 6)\n",
    "\n",
    "# Perform element-wise multiplication\n",
    "result_array = arr1 * arr2\n",
    "\n",
    "print(\"Array arr1 (random integers):\")\n",
    "print(arr1)\n",
    "print(\"\\nArray arr2 (integers from 1 to 5):\")\n",
    "print(arr2)\n",
    "print(\"\\nResulting array after element-wise multiplication:\")\n",
    "print(result_array)\n"
   ]
  },
  {
   "cell_type": "markdown",
   "id": "73e20ac6-bd4f-4e7e-9848-e256a010037e",
   "metadata": {},
   "source": [
    "54.Generate a NumPy array `arr1` with even integers from 2 to 10 and another array `arr2` with integers from 1\n",
    "to 5. Perform element-wise division of `arr1` by `arr2`."
   ]
  },
  {
   "cell_type": "code",
   "execution_count": 7,
   "id": "5ba3925d-a227-478a-ac80-a3ace0e5534b",
   "metadata": {},
   "outputs": [
    {
     "name": "stdout",
     "output_type": "stream",
     "text": [
      "Array arr1 (even integers from 2 to 10):\n",
      "[ 2  4  6  8 10]\n",
      "\n",
      "Array arr2 (integers from 1 to 5):\n",
      "[1 2 3 4 5]\n",
      "\n",
      "Resulting array after element-wise division:\n",
      "[2. 2. 2. 2. 2.]\n"
     ]
    }
   ],
   "source": [
    "import numpy as np\n",
    "\n",
    "# Create a NumPy array arr1 with even integers from 2 to 10\n",
    "arr1 = np.arange(2, 11, 2)\n",
    "\n",
    "# Create a NumPy array arr2 with integers from 1 to 5\n",
    "arr2 = np.arange(1, 6)\n",
    "\n",
    "# Perform element-wise division\n",
    "result_array = arr1 / arr2\n",
    "\n",
    "print(\"Array arr1 (even integers from 2 to 10):\")\n",
    "print(arr1)\n",
    "print(\"\\nArray arr2 (integers from 1 to 5):\")\n",
    "print(arr2)\n",
    "print(\"\\nResulting array after element-wise division:\")\n",
    "print(result_array)\n"
   ]
  },
  {
   "cell_type": "markdown",
   "id": "5993362b-25ea-418c-80a1-e99d82db4548",
   "metadata": {},
   "source": [
    "55.Create a NumPy array `arr1` with integers from 1 to 5 and another array `arr2` with the same numbers\n",
    "reversed. Calculate the exponentiation of `arr1` raised to the power of `arr2` element-wise"
   ]
  },
  {
   "cell_type": "code",
   "execution_count": 8,
   "id": "d7a2198f-ccc5-4bdc-9adc-24766161f294",
   "metadata": {},
   "outputs": [
    {
     "name": "stdout",
     "output_type": "stream",
     "text": [
      "Array arr1 (integers from 1 to 5):\n",
      "[1 2 3 4 5]\n",
      "\n",
      "Array arr2 (reversed integers from 1 to 5):\n",
      "[5 4 3 2 1]\n",
      "\n",
      "Resulting array after element-wise exponentiation:\n",
      "[ 1 16 27 16  5]\n"
     ]
    }
   ],
   "source": [
    "import numpy as np\n",
    "\n",
    "# Create a NumPy array arr1 with integers from 1 to 5\n",
    "arr1 = np.arange(1, 6)\n",
    "\n",
    "# Create a NumPy array arr2 with integers from 1 to 5, reversed\n",
    "arr2 = arr1[::-1]\n",
    "\n",
    "# Perform element-wise exponentiation\n",
    "result_array = arr1 ** arr2\n",
    "\n",
    "print(\"Array arr1 (integers from 1 to 5):\")\n",
    "print(arr1)\n",
    "print(\"\\nArray arr2 (reversed integers from 1 to 5):\")\n",
    "print(arr2)\n",
    "print(\"\\nResulting array after element-wise exponentiation:\")\n",
    "print(result_array)\n"
   ]
  },
  {
   "cell_type": "markdown",
   "id": "f855a088-42aa-4995-a311-54cdb5957cf9",
   "metadata": {},
   "source": [
    "56. Write a function that counts the occurrences of a specific substring within a NumPy array of strings.\n",
    "\n",
    "arr = np.array(['hello', 'world', 'hello', 'numpy', 'hello'])\n"
   ]
  },
  {
   "cell_type": "code",
   "execution_count": 10,
   "id": "f6dd4837-9a5f-4f6c-bb15-88b2a3adf542",
   "metadata": {},
   "outputs": [
    {
     "name": "stdout",
     "output_type": "stream",
     "text": [
      "The substring 'hello' occurs 3 times in the array.\n"
     ]
    }
   ],
   "source": [
    "import numpy as np\n",
    "\n",
    "def count_substring_occurrences(arr, substring):\n",
    "    \"\"\"\n",
    "    Counts the occurrences of a specific substring within a NumPy array of strings.\n",
    "\n",
    "    Parameters:\n",
    "    arr (np.ndarray): A NumPy array of strings.\n",
    "    substring (str): The substring to count.\n",
    "\n",
    "    Returns:\n",
    "    int: The number of occurrences of the substring in the array.\n",
    "    \"\"\"\n",
    "    # Use np.char.count to count occurrences of the substring in each element\n",
    "    counts = np.char.count(arr, substring)\n",
    "    \n",
    "    # Sum up the counts to get the total occurrences\n",
    "    total_count = np.sum(counts)\n",
    "    \n",
    "    return total_count\n",
    "\n",
    "# Given array\n",
    "arr = np.array(['hello', 'world', 'hello', 'numpy', 'hello'])\n",
    "\n",
    "# Substring to count\n",
    "substring = 'hello'\n",
    "\n",
    "# Count occurrences\n",
    "occurrences = count_substring_occurrences(arr, substring)\n",
    "\n",
    "print(f\"The substring '{substring}' occurs {occurrences} times in the array.\")\n"
   ]
  },
  {
   "cell_type": "markdown",
   "id": "1a626404-ddd7-4e57-b04b-058991c940b4",
   "metadata": {},
   "source": [
    "57.Write a function that extracts uppercase characters from a NumPy array of strings.\n",
    "\n",
    "arr = np.array(['Hello', 'World', 'OpenAI', 'GPT'])"
   ]
  },
  {
   "cell_type": "code",
   "execution_count": 12,
   "id": "e2d59944-85d5-4862-8570-4734d2702410",
   "metadata": {},
   "outputs": [
    {
     "name": "stdout",
     "output_type": "stream",
     "text": [
      "Original array:\n",
      "['Hello' 'World' 'OpenAI' 'GPT']\n",
      "\n",
      "Array with uppercase characters extracted:\n",
      "['H' 'W' 'OAI' 'GPT']\n"
     ]
    }
   ],
   "source": [
    "import numpy as np\n",
    "\n",
    "def extract_uppercase_characters(arr):\n",
    "    \"\"\"\n",
    "    Extracts uppercase characters from a NumPy array of strings.\n",
    "\n",
    "    Parameters:\n",
    "    arr (np.ndarray): A NumPy array of strings.\n",
    "\n",
    "    Returns:\n",
    "    np.ndarray: A NumPy array of strings containing only uppercase characters from the input array.\n",
    "    \"\"\"\n",
    "    # Define a function to extract uppercase characters from a single string\n",
    "    def extract_uppercase(s):\n",
    "        return ''.join(c for c in s if c.isupper())\n",
    "    \n",
    "    # Apply the function to each element of the array\n",
    "    uppercase_array = np.vectorize(extract_uppercase)(arr)\n",
    "    \n",
    "    return uppercase_array\n",
    "\n",
    "# Given array\n",
    "arr = np.array(['Hello', 'World', 'OpenAI', 'GPT'])\n",
    "\n",
    "# Extract uppercase characters\n",
    "uppercase_chars = extract_uppercase_characters(arr)\n",
    "\n",
    "print(\"Original array:\")\n",
    "print(arr)\n",
    "print(\"\\nArray with uppercase characters extracted:\")\n",
    "print(uppercase_chars)\n"
   ]
  },
  {
   "cell_type": "markdown",
   "id": "cb86c3ac-226c-4ee7-adb2-3976104b0da0",
   "metadata": {},
   "source": [
    "58.Write a function that replaces occurrences of a substring in a NumPy array of strings with a new string.\n",
    "\n",
    "arr = np.array(['apple', 'banana', 'grape', 'pineapple'])"
   ]
  },
  {
   "cell_type": "code",
   "execution_count": 13,
   "id": "4067c9bd-5d6f-4271-8117-31eb2bf9f57c",
   "metadata": {},
   "outputs": [
    {
     "name": "stdout",
     "output_type": "stream",
     "text": [
      "Original array:\n",
      "['apple' 'banana' 'grape' 'pineapple']\n",
      "\n",
      "Array with replaced substrings:\n",
      "['orange' 'banana' 'grape' 'pineorange']\n"
     ]
    }
   ],
   "source": [
    "import numpy as np\n",
    "\n",
    "def replace_substring(arr, old_substring, new_substring):\n",
    "    \"\"\"\n",
    "    Replaces occurrences of a substring in a NumPy array of strings with a new string.\n",
    "\n",
    "    Parameters:\n",
    "    arr (np.ndarray): A NumPy array of strings.\n",
    "    old_substring (str): The substring to be replaced.\n",
    "    new_substring (str): The new substring to replace with.\n",
    "\n",
    "    Returns:\n",
    "    np.ndarray: A NumPy array with the replaced substrings.\n",
    "    \"\"\"\n",
    "    # Use np.char.replace to perform the replacement\n",
    "    replaced_array = np.char.replace(arr, old_substring, new_substring)\n",
    "    \n",
    "    return replaced_array\n",
    "\n",
    "# Given array\n",
    "arr = np.array(['apple', 'banana', 'grape', 'pineapple'])\n",
    "\n",
    "# Substrings to replace\n",
    "old_substring = 'apple'\n",
    "new_substring = 'orange'\n",
    "\n",
    "# Perform the replacement\n",
    "replaced_array = replace_substring(arr, old_substring, new_substring)\n",
    "\n",
    "print(\"Original array:\")\n",
    "print(arr)\n",
    "print(\"\\nArray with replaced substrings:\")\n",
    "print(replaced_array)\n"
   ]
  },
  {
   "cell_type": "markdown",
   "id": "340a5b6f-8f82-4790-a332-19a427db6217",
   "metadata": {},
   "source": [
    "59.Write a function that concatenates strings in a NumPy array element-wise.\n",
    "\n",
    "arr1 = np.array(['Hello', 'World']) ",
    "\n",
    "arr2 = np.array(['Open', 'AI'])\n"
   ]
  },
  {
   "cell_type": "code",
   "execution_count": 14,
   "id": "4aa6a4fe-d6ca-4b7f-809f-0b4d0c7afef5",
   "metadata": {},
   "outputs": [
    {
     "name": "stdout",
     "output_type": "stream",
     "text": [
      "Array 1:\n",
      "['Hello' 'World']\n",
      "\n",
      "Array 2:\n",
      "['Open' 'AI']\n",
      "\n",
      "Concatenated array:\n",
      "['HelloOpen' 'WorldAI']\n"
     ]
    }
   ],
   "source": [
    "import numpy as np\n",
    "\n",
    "def concatenate_strings_element_wise(arr1, arr2):\n",
    "    \"\"\"\n",
    "    Concatenates strings in two NumPy arrays element-wise.\n",
    "\n",
    "    Parameters:\n",
    "    arr1 (np.ndarray): A NumPy array of strings.\n",
    "    arr2 (np.ndarray): Another NumPy array of strings.\n",
    "\n",
    "    Returns:\n",
    "    np.ndarray: A NumPy array with concatenated strings from arr1 and arr2.\n",
    "    \"\"\"\n",
    "    # Use np.char.add to concatenate strings element-wise\n",
    "    concatenated_array = np.char.add(arr1, arr2)\n",
    "    \n",
    "    return concatenated_array\n",
    "\n",
    "# Given arrays\n",
    "arr1 = np.array(['Hello', 'World'])\n",
    "arr2 = np.array(['Open', 'AI'])\n",
    "\n",
    "# Perform the concatenation\n",
    "concatenated_array = concatenate_strings_element_wise(arr1, arr2)\n",
    "\n",
    "print(\"Array 1:\")\n",
    "print(arr1)\n",
    "print(\"\\nArray 2:\")\n",
    "print(arr2)\n",
    "print(\"\\nConcatenated array:\")\n",
    "print(concatenated_array)\n"
   ]
  },
  {
   "cell_type": "markdown",
   "id": "05d97a4a-68fd-4578-9141-3931cc683d25",
   "metadata": {},
   "source": [
    "60.Write a function that finds the length of the longest string in a NumPy array.\n",
    "\n",
    "arr = np.array(['apple', 'banana', 'grape', 'pineapple'])\n",
    "\n",
    "   arr = np.array(['apple', 'banana', 'grape', 'pineapple'])\n"
   ]
  },
  {
   "cell_type": "code",
   "execution_count": 15,
   "id": "d4b6c97f-65b8-4e3c-9114-444f6b9da598",
   "metadata": {},
   "outputs": [
    {
     "name": "stdout",
     "output_type": "stream",
     "text": [
      "The length of the longest string is: 9\n"
     ]
    }
   ],
   "source": [
    "import numpy as np\n",
    "\n",
    "def longest_string_length(arr):\n",
    "    \"\"\"\n",
    "    Finds the length of the longest string in a NumPy array.\n",
    "\n",
    "    Parameters:\n",
    "    arr (np.ndarray): A NumPy array of strings.\n",
    "\n",
    "    Returns:\n",
    "    int: The length of the longest string in the array.\n",
    "    \"\"\"\n",
    "    # Find the length of each string in the array\n",
    "    lengths = np.char.str_len(arr)\n",
    "    \n",
    "    # Find the maximum length\n",
    "    max_length = np.max(lengths)\n",
    "    \n",
    "    return max_length\n",
    "\n",
    "# Given array\n",
    "arr = np.array(['apple', 'banana', 'grape', 'pineapple'])\n",
    "\n",
    "# Find the length of the longest string\n",
    "longest_length = longest_string_length(arr)\n",
    "\n",
    "print(f\"The length of the longest string is: {longest_length}\")\n"
   ]
  },
  {
   "cell_type": "markdown",
   "id": "e31b0966-ba02-403b-9b77-f071ab56eaaa",
   "metadata": {},
   "source": [
    "61.Create a dataset of 100 random integers between 1 and 1000. Compute the mean, median, variance, and\n",
    "standard deviation of the dataset using NumPy's functions."
   ]
  },
  {
   "cell_type": "code",
   "execution_count": 16,
   "id": "6a7f2ded-d47a-4427-b0ad-decd633ab456",
   "metadata": {},
   "outputs": [
    {
     "name": "stdout",
     "output_type": "stream",
     "text": [
      "Dataset:\n",
      "[638 792 115 840 745 549 742 540 315 104 862 447 987  43 240 800 207 847\n",
      " 918 506 875 189 860 750 498 527 128 172  38 233 330 278 738 794 804 634\n",
      " 592 474 159 774 336 174  15 341 146   6 897 132 454 962 355 183 491  11\n",
      " 163 292 335 456 804 332 748 279 868 405 557 283 537 811 283 161 556 666\n",
      " 897  88 352 459 233 385 508 121 196 581 245 583 908 766 423 823 490 695\n",
      "  71 909 912 894 879 662 263 699 570 323]\n",
      "\n",
      "Mean: 490.58\n",
      "Median: 490.5\n",
      "Variance: 79331.26359999999\n",
      "Standard Deviation: 281.65806148590883\n"
     ]
    }
   ],
   "source": [
    "import numpy as np\n",
    "\n",
    "# Generate a dataset of 100 random integers between 1 and 1000\n",
    "data = np.random.randint(1, 1001, size=100)\n",
    "\n",
    "# Compute mean\n",
    "mean_value = np.mean(data)\n",
    "\n",
    "# Compute median\n",
    "median_value = np.median(data)\n",
    "\n",
    "# Compute variance\n",
    "variance_value = np.var(data, ddof=0)  # ddof=0 for population variance\n",
    "\n",
    "# Compute standard deviation\n",
    "std_dev_value = np.std(data, ddof=0)  # ddof=0 for population standard deviation\n",
    "\n",
    "print(\"Dataset:\")\n",
    "print(data)\n",
    "print(\"\\nMean:\", mean_value)\n",
    "print(\"Median:\", median_value)\n",
    "print(\"Variance:\", variance_value)\n",
    "print(\"Standard Deviation:\", std_dev_value)\n"
   ]
  },
  {
   "cell_type": "markdown",
   "id": "306e2534-80fa-49a9-b3c0-b3cffa8e31b7",
   "metadata": {},
   "source": [
    "62.Generate an array of 50 random numbers between 1 and 100. Find the 25th and 75th percentiles of the\n",
    "dataset."
   ]
  },
  {
   "cell_type": "code",
   "execution_count": 17,
   "id": "5eba0e98-7a01-46b6-b132-419426c5a2bf",
   "metadata": {},
   "outputs": [
    {
     "name": "stdout",
     "output_type": "stream",
     "text": [
      "Dataset:\n",
      "[ 75  83  41  49  60  16  46  94  25   3  11  76  34  25  63  61  48   8\n",
      "  72  52  66  99  27  94  52  12  59  10 100  73  34  31  71  11  42  83\n",
      "  58  89   7  61  16  58  73  66  50  14   7  34  29  93]\n",
      "\n",
      "25th Percentile: 25.5\n",
      "75th Percentile: 71.75\n"
     ]
    }
   ],
   "source": [
    "import numpy as np\n",
    "\n",
    "# Generate an array of 50 random numbers between 1 and 100\n",
    "data = np.random.randint(1, 101, size=50)\n",
    "\n",
    "# Compute the 25th percentile\n",
    "percentile_25 = np.percentile(data, 25)\n",
    "\n",
    "# Compute the 75th percentile\n",
    "percentile_75 = np.percentile(data, 75)\n",
    "\n",
    "print(\"Dataset:\")\n",
    "print(data)\n",
    "print(\"\\n25th Percentile:\", percentile_25)\n",
    "print(\"75th Percentile:\", percentile_75)\n"
   ]
  },
  {
   "cell_type": "markdown",
   "id": "5cbbf2bc-f0eb-47be-aef3-0e666541d038",
   "metadata": {},
   "source": [
    "63.Create two arrays representing two sets of variables. Compute the correlation coefficient between these\n",
    "arrays using NumPy's `corrcoef` function."
   ]
  },
  {
   "cell_type": "code",
   "execution_count": 18,
   "id": "22dc9b80-802b-4bd1-a001-38b7bea341f0",
   "metadata": {},
   "outputs": [
    {
     "name": "stdout",
     "output_type": "stream",
     "text": [
      "Correlation Coefficient Matrix:\n",
      "[[1. 1.]\n",
      " [1. 1.]]\n",
      "\n",
      "Correlation Coefficient between array1 and array2: 1.0\n"
     ]
    }
   ],
   "source": [
    "import numpy as np\n",
    "\n",
    "# Define two arrays representing two sets of variables\n",
    "array1 = np.array([10, 20, 30, 40, 50])\n",
    "array2 = np.array([15, 25, 35, 45, 55])\n",
    "\n",
    "# Compute the correlation coefficient matrix\n",
    "corr_matrix = np.corrcoef(array1, array2)\n",
    "\n",
    "# Extract the correlation coefficient between the two arrays\n",
    "corr_coefficient = corr_matrix[0, 1]\n",
    "\n",
    "print(\"Correlation Coefficient Matrix:\")\n",
    "print(corr_matrix)\n",
    "print(\"\\nCorrelation Coefficient between array1 and array2:\", corr_coefficient)\n"
   ]
  },
  {
   "cell_type": "markdown",
   "id": "00eff71b-15c4-4f49-9630-ab372a9388e2",
   "metadata": {},
   "source": [
    "64.Create two matrices and perform matrix multiplication using NumPy's `dot` function."
   ]
  },
  {
   "cell_type": "code",
   "execution_count": 19,
   "id": "f72ec2da-a4c9-479b-bc0d-c234a39ffba8",
   "metadata": {},
   "outputs": [
    {
     "name": "stdout",
     "output_type": "stream",
     "text": [
      "Matrix 1:\n",
      "[[1 2 3]\n",
      " [4 5 6]]\n",
      "\n",
      "Matrix 2:\n",
      "[[ 7  8]\n",
      " [ 9 10]\n",
      " [11 12]]\n",
      "\n",
      "Matrix Multiplication Result:\n",
      "[[ 58  64]\n",
      " [139 154]]\n"
     ]
    }
   ],
   "source": [
    "import numpy as np\n",
    "\n",
    "# Define two matrices\n",
    "matrix1 = np.array([[1, 2, 3],\n",
    "                    [4, 5, 6]])\n",
    "\n",
    "matrix2 = np.array([[7, 8],\n",
    "                    [9, 10],\n",
    "                    [11, 12]])\n",
    "\n",
    "# Perform matrix multiplication\n",
    "result = np.dot(matrix1, matrix2)\n",
    "\n",
    "print(\"Matrix 1:\")\n",
    "print(matrix1)\n",
    "print(\"\\nMatrix 2:\")\n",
    "print(matrix2)\n",
    "print(\"\\nMatrix Multiplication Result:\")\n",
    "print(result)\n"
   ]
  },
  {
   "cell_type": "markdown",
   "id": "81cae2e7-a5e0-4b60-bd14-6282f241b5e4",
   "metadata": {},
   "source": [
    "65.Create an array of 50 integers between 10 and 1000. Calculate the 10th, 50th (median), and 90th\n",
    "percentiles along with the first and third quartiles."
   ]
  },
  {
   "cell_type": "code",
   "execution_count": 20,
   "id": "758b6f40-c8d3-4e69-8c4f-9de8c7c32c92",
   "metadata": {},
   "outputs": [
    {
     "name": "stdout",
     "output_type": "stream",
     "text": [
      "Dataset:\n",
      "[841  84 419 648 510 603 131 271 899 141 134 937 817 200  55  26 931 141\n",
      " 990  36 467 705 463 187 595 348 611 688 963 581 476 622 868 131 737 164\n",
      " 829 969 270 600 125 299 788 422 301 384 658 350 262 480]\n",
      "\n",
      "10th Percentile: 130.4\n",
      "50th Percentile (Median): 471.5\n",
      "90th Percentile: 902.2\n",
      "First Quartile (25th Percentile): 215.5\n",
      "Third Quartile (75th Percentile): 700.75\n"
     ]
    }
   ],
   "source": [
    "import numpy as np\n",
    "\n",
    "# Generate an array of 50 random integers between 10 and 1000\n",
    "data = np.random.randint(10, 1001, size=50)\n",
    "\n",
    "# Compute the 10th percentile\n",
    "percentile_10 = np.percentile(data, 10)\n",
    "\n",
    "# Compute the 50th percentile (median)\n",
    "percentile_50 = np.percentile(data, 50)\n",
    "\n",
    "# Compute the 90th percentile\n",
    "percentile_90 = np.percentile(data, 90)\n",
    "\n",
    "# Compute the first quartile (25th percentile)\n",
    "first_quartile = np.percentile(data, 25)\n",
    "\n",
    "# Compute the third quartile (75th percentile)\n",
    "third_quartile = np.percentile(data, 75)\n",
    "\n",
    "print(\"Dataset:\")\n",
    "print(data)\n",
    "print(\"\\n10th Percentile:\", percentile_10)\n",
    "print(\"50th Percentile (Median):\", percentile_50)\n",
    "print(\"90th Percentile:\", percentile_90)\n",
    "print(\"First Quartile (25th Percentile):\", first_quartile)\n",
    "print(\"Third Quartile (75th Percentile):\", third_quartile)\n",
    "\n"
   ]
  },
  {
   "cell_type": "markdown",
   "id": "c56d40a2-6075-45b3-8a96-15dbd7146e5b",
   "metadata": {},
   "source": [
    "66.Create a NumPy array of integers and find the index of a specific element."
   ]
  },
  {
   "cell_type": "code",
   "execution_count": 21,
   "id": "4986b28a-a45f-420c-bce4-96003c130e17",
   "metadata": {},
   "outputs": [
    {
     "name": "stdout",
     "output_type": "stream",
     "text": [
      "Array:\n",
      "[ 10  20  30  40  50  60  70  80  90 100]\n",
      "Index of element 50: 4\n"
     ]
    }
   ],
   "source": [
    "import numpy as np\n",
    "\n",
    "# Create a NumPy array of integers\n",
    "array = np.array([10, 20, 30, 40, 50, 60, 70, 80, 90, 100])\n",
    "\n",
    "# Define the specific element to find\n",
    "element = 50\n",
    "\n",
    "# Find the index of the specific element\n",
    "indices = np.where(array == element)\n",
    "\n",
    "# `np.where` returns a tuple of arrays, so we extract the first element of the tuple\n",
    "index = indices[0][0] if len(indices[0]) > 0 else None\n",
    "\n",
    "print(\"Array:\")\n",
    "print(array)\n",
    "print(f\"Index of element {element}:\", index)\n"
   ]
  },
  {
   "cell_type": "markdown",
   "id": "00d2497e-34cc-4de3-a1e6-b316dd383b78",
   "metadata": {},
   "source": [
    "67.Generate a random NumPy array and sort it in ascending order."
   ]
  },
  {
   "cell_type": "code",
   "execution_count": 22,
   "id": "b5872a03-da75-4323-b4bf-2af49e33a884",
   "metadata": {},
   "outputs": [
    {
     "name": "stdout",
     "output_type": "stream",
     "text": [
      "Original Random Array:\n",
      "[ 4 24 22 26 84 13 53 33 18 67]\n",
      "\n",
      "Sorted Array:\n",
      "[ 4 13 18 22 24 26 33 53 67 84]\n"
     ]
    }
   ],
   "source": [
    "import numpy as np\n",
    "\n",
    "# Generate a random NumPy array of integers\n",
    "random_array = np.random.randint(1, 100, size=10)  # Random integers between 1 and 100, size 10\n",
    "\n",
    "# Sort the array in ascending order\n",
    "sorted_array = np.sort(random_array)\n",
    "\n",
    "print(\"Original Random Array:\")\n",
    "print(random_array)\n",
    "print(\"\\nSorted Array:\")\n",
    "print(sorted_array)\n"
   ]
  },
  {
   "cell_type": "markdown",
   "id": "e7577515-a6ae-4b28-875e-4b6152a57e70",
   "metadata": {},
   "source": [
    "68.Filter elements >20  in the given NumPy array. \n",
    "  \n",
    "   arr = np.array([12, 25, 6, 42, 8, 30])"
   ]
  },
  {
   "cell_type": "code",
   "execution_count": 23,
   "id": "d2ffc104-f3e3-4eed-a46b-4a93e14b7bd7",
   "metadata": {},
   "outputs": [
    {
     "name": "stdout",
     "output_type": "stream",
     "text": [
      "Original Array:\n",
      "[12 25  6 42  8 30]\n",
      "\n",
      "Filtered Array (elements > 20):\n",
      "[25 42 30]\n"
     ]
    }
   ],
   "source": [
    "import numpy as np\n",
    "\n",
    "# Given NumPy array\n",
    "arr = np.array([12, 25, 6, 42, 8, 30])\n",
    "\n",
    "# Create a boolean mask for elements greater than 20\n",
    "mask = arr > 20\n",
    "\n",
    "# Use the mask to filter the array\n",
    "filtered_arr = arr[mask]\n",
    "\n",
    "print(\"Original Array:\")\n",
    "print(arr)\n",
    "print(\"\\nFiltered Array (elements > 20):\")\n",
    "print(filtered_arr)\n"
   ]
  },
  {
   "cell_type": "markdown",
   "id": "bf5f03b6-e721-499b-b396-3be84d55d49a",
   "metadata": {},
   "source": [
    "69.Filter elements which are divisible by 3 from a given NumPy array.\n",
    "\n",
    "    arr = np.array([1, 5, 8, 12, 15])\n"
   ]
  },
  {
   "cell_type": "code",
   "execution_count": 24,
   "id": "fbe19d25-73d6-4994-8d17-ee9b11954f53",
   "metadata": {},
   "outputs": [
    {
     "name": "stdout",
     "output_type": "stream",
     "text": [
      "Original Array:\n",
      "[ 1  5  8 12 15]\n",
      "\n",
      "Filtered Array (elements divisible by 3):\n",
      "[12 15]\n"
     ]
    }
   ],
   "source": [
    "import numpy as np\n",
    "\n",
    "# Given NumPy array\n",
    "arr = np.array([1, 5, 8, 12, 15])\n",
    "\n",
    "# Create a boolean mask for elements divisible by 3\n",
    "mask = arr % 3 == 0\n",
    "\n",
    "# Use the mask to filter the array\n",
    "filtered_arr = arr[mask]\n",
    "\n",
    "print(\"Original Array:\")\n",
    "print(arr)\n",
    "print(\"\\nFiltered Array (elements divisible by 3):\")\n",
    "print(filtered_arr)\n"
   ]
  },
  {
   "cell_type": "markdown",
   "id": "429690ab-748e-43f0-bc27-52efe32cb0bd",
   "metadata": {},
   "source": [
    " 70.Filter elements which are ≥ 20 and ≤ 40 from a given NumPy array.\n",
    " \n",
    "    arr = np.array([10, 20, 30, 40, 50])\n",
    "\n",
    " "
   ]
  },
  {
   "cell_type": "code",
   "execution_count": 25,
   "id": "3bdd2e54-a03e-4ac2-a7f5-66e5ab9eee10",
   "metadata": {},
   "outputs": [
    {
     "name": "stdout",
     "output_type": "stream",
     "text": [
      "Original Array:\n",
      "[10 20 30 40 50]\n",
      "\n",
      "Filtered Array (20 ≤ elements ≤ 40):\n",
      "[20 30 40]\n"
     ]
    }
   ],
   "source": [
    "import numpy as np\n",
    "\n",
    "# Given NumPy array\n",
    "arr = np.array([10, 20, 30, 40, 50])\n",
    "\n",
    "# Create a boolean mask for elements ≥ 20 and ≤ 40\n",
    "mask = (arr >= 20) & (arr <= 40)\n",
    "\n",
    "# Use the mask to filter the array\n",
    "filtered_arr = arr[mask]\n",
    "\n",
    "print(\"Original Array:\")\n",
    "print(arr)\n",
    "print(\"\\nFiltered Array (20 ≤ elements ≤ 40):\")\n",
    "print(filtered_arr)\n"
   ]
  },
  {
   "cell_type": "markdown",
   "id": "75895e20-55cd-4bd5-9f6d-139b50fcad81",
   "metadata": {},
   "source": [
    "71.For the given NumPy array, check its byte order using the `dtype` attribute byteorder.\n",
    "\n",
    "     arr = np.array([1, 2, 3])"
   ]
  },
  {
   "cell_type": "code",
   "execution_count": 26,
   "id": "33745e09-162f-4152-b3d2-16e032c5a3e1",
   "metadata": {},
   "outputs": [
    {
     "name": "stdout",
     "output_type": "stream",
     "text": [
      "Array:\n",
      "[1 2 3]\n",
      "\n",
      "Byte Order: Native-endian\n"
     ]
    }
   ],
   "source": [
    "import numpy as np\n",
    "\n",
    "# Given NumPy array\n",
    "arr = np.array([1, 2, 3])\n",
    "\n",
    "# Check the byte order using the dtype's byteorder attribute\n",
    "byte_order = arr.dtype.byteorder\n",
    "\n",
    "# Interpret the byte order\n",
    "if byte_order == '>':\n",
    "    byte_order_str = 'Big-endian'\n",
    "elif byte_order == '<':\n",
    "    byte_order_str = 'Little-endian'\n",
    "elif byte_order == '=':\n",
    "    byte_order_str = 'Native-endian'\n",
    "else:\n",
    "    byte_order_str = 'Unknown'\n",
    "\n",
    "print(\"Array:\")\n",
    "print(arr)\n",
    "print(\"\\nByte Order:\", byte_order_str)\n",
    "\n"
   ]
  },
  {
   "cell_type": "markdown",
   "id": "0ea50e6f-c000-419b-9486-932255417141",
   "metadata": {},
   "source": [
    "72.For the given NumPy array, perform byte swapping in place using `byteswap()`.\n",
    "\n",
    "    arr = np.array([1, 2, 3], dtype=np.int32)\n"
   ]
  },
  {
   "cell_type": "code",
   "execution_count": 27,
   "id": "27a3fd36-98ef-416d-8c77-025668cc62ea",
   "metadata": {},
   "outputs": [
    {
     "name": "stdout",
     "output_type": "stream",
     "text": [
      "Original Array:\n",
      "[1 2 3]\n",
      "Original Byte Order: =\n",
      "\n",
      "Array After Byte Swapping:\n",
      "[16777216 33554432 50331648]\n",
      "Byte Order After Swapping: =\n"
     ]
    }
   ],
   "source": [
    "import numpy as np\n",
    "\n",
    "# Create the NumPy array with dtype np.int32\n",
    "arr = np.array([1, 2, 3], dtype=np.int32)\n",
    "\n",
    "# Print the original array\n",
    "print(\"Original Array:\")\n",
    "print(arr)\n",
    "print(\"Original Byte Order:\", arr.dtype.byteorder)\n",
    "\n",
    "# Perform byte swapping in place\n",
    "arr.byteswap(inplace=True)\n",
    "\n",
    "# Print the array after byte swapping\n",
    "print(\"\\nArray After Byte Swapping:\")\n",
    "print(arr)\n",
    "print(\"Byte Order After Swapping:\", arr.dtype.byteorder)\n"
   ]
  },
  {
   "cell_type": "markdown",
   "id": "e2eeb371-ecce-4288-a61d-b8dfe6dac6fc",
   "metadata": {},
   "source": [
    "73.For the given NumPy array, swap its byte order without modifying the original array using\n",
    "`newbyteorder()`.\n",
    "\n",
    "\n",
    "    arr = np.array([1, 2, 3], dtype=np.int32)"
   ]
  },
  {
   "cell_type": "code",
   "execution_count": 28,
   "id": "d8266983-dc31-49da-99da-4ab9389139e6",
   "metadata": {},
   "outputs": [
    {
     "name": "stdout",
     "output_type": "stream",
     "text": [
      "Original Array:\n",
      "[1 2 3]\n",
      "Original Byte Order: =\n",
      "\n",
      "Array With Byte Order Swapped:\n",
      "[16777216 33554432 50331648]\n",
      "Byte Order After Swapping: >\n"
     ]
    }
   ],
   "source": [
    "import numpy as np\n",
    "\n",
    "# Create the NumPy array with dtype np.int32\n",
    "arr = np.array([1, 2, 3], dtype=np.int32)\n",
    "\n",
    "# Print the original array and its byte order\n",
    "print(\"Original Array:\")\n",
    "print(arr)\n",
    "print(\"Original Byte Order:\", arr.dtype.byteorder)\n",
    "\n",
    "# Swap the byte order without modifying the original array\n",
    "swapped_arr = arr.newbyteorder()\n",
    "\n",
    "# Print the array with swapped byte order and its byte order\n",
    "print(\"\\nArray With Byte Order Swapped:\")\n",
    "print(swapped_arr)\n",
    "print(\"Byte Order After Swapping:\", swapped_arr.dtype.byteorder)\n",
    "\n"
   ]
  },
  {
   "cell_type": "markdown",
   "id": "ad852f9d-5faa-4bfd-9efa-f199f6c04123",
   "metadata": {},
   "source": [
    "74.For the given NumPy array and swap its byte order conditionally based on system endianness using\n",
    "`newbyteorder()`.\n",
    "\n",
    "   arr = np.array([1, 2, 3], dtype=np.int32)"
   ]
  },
  {
   "cell_type": "code",
   "execution_count": 29,
   "id": "04ed235f-f351-4c5c-b39f-b557be98646d",
   "metadata": {},
   "outputs": [
    {
     "name": "stdout",
     "output_type": "stream",
     "text": [
      "Original Array:\n",
      "[1 2 3]\n",
      "Original Byte Order: =\n",
      "System Endianness: little\n",
      "\n",
      "Array With Byte Order Conditionally Swapped:\n",
      "[1 2 3]\n",
      "Byte Order After Conditional Swapping: =\n"
     ]
    }
   ],
   "source": [
    "import numpy as np\n",
    "import sys\n",
    "\n",
    "# Create the NumPy array with dtype np.int32\n",
    "arr = np.array([1, 2, 3], dtype=np.int32)\n",
    "\n",
    "# Check the system's native endianness\n",
    "native_endian = '='\n",
    "system_endian = sys.byteorder\n",
    "\n",
    "# Print the original array and its byte order\n",
    "print(\"Original Array:\")\n",
    "print(arr)\n",
    "print(\"Original Byte Order:\", arr.dtype.byteorder)\n",
    "print(\"System Endianness:\", system_endian)\n",
    "\n",
    "# Conditionally swap byte order\n",
    "if arr.dtype.byteorder != native_endian:\n",
    "    swapped_arr = arr.newbyteorder()\n",
    "else:\n",
    "    swapped_arr = arr.copy()  # No need to swap if already in native endianness\n",
    "\n",
    "# Print the array with possibly swapped byte order and its byte order\n",
    "print(\"\\nArray With Byte Order Conditionally Swapped:\")\n",
    "print(swapped_arr)\n",
    "print(\"Byte Order After Conditional Swapping:\", swapped_arr.dtype.byteorder)\n"
   ]
  },
  {
   "cell_type": "markdown",
   "id": "dc905b43-dad2-437f-8a4c-4849be50769f",
   "metadata": {},
   "source": [
    "75.For the given NumPy array, check if byte swapping is necessary for the current system using `dtype`\n",
    "attribute `byteorder`.\n",
    "\n",
    "  arr = np.array([1, 2, 3], dtype=np.int32)"
   ]
  },
  {
   "cell_type": "code",
   "execution_count": 31,
   "id": "bada2c8b-621f-4880-96b3-65e0c71750b0",
   "metadata": {},
   "outputs": [
    {
     "name": "stdout",
     "output_type": "stream",
     "text": [
      "Original Array:\n",
      "[1 2 3]\n",
      "Array Byte Order: =\n",
      "System Endianness: little\n",
      "Byte Swap Needed: False\n"
     ]
    }
   ],
   "source": [
    "import numpy as np\n",
    "import sys\n",
    "\n",
    "# Given NumPy array\n",
    "arr = np.array([1, 2, 3], dtype=np.int32)\n",
    "\n",
    "# Check the system's native endianness\n",
    "system_endian = sys.byteorder\n",
    "\n",
    "# Determine the byte order of the array\n",
    "array_byte_order = arr.dtype.byteorder\n",
    "\n",
    "# Determine if byte swapping is necessary\n",
    "if array_byte_order == '=':\n",
    "    # Native endianness; no swap needed\n",
    "    byte_swap_needed = False\n",
    "elif (array_byte_order == '<' and system_endian == 'little') or \\\n",
    "     (array_byte_order == '>' and system_endian == 'big'):\n",
    "    # Array and system endianness are the same\n",
    "    byte_swap_needed = False\n",
    "else:\n",
    "    # Byte order differs from system endianness\n",
    "    byte_swap_needed = True\n",
    "\n",
    "# Print results\n",
    "print(\"Original Array:\")\n",
    "print(arr)\n",
    "print(\"Array Byte Order:\", array_byte_order)\n",
    "print(\"System Endianness:\", system_endian)\n",
    "print(\"Byte Swap Needed:\", byte_swap_needed)\n"
   ]
  },
  {
   "cell_type": "markdown",
   "id": "ce3573c5-c6dc-42c1-9e52-fb676cab753b",
   "metadata": {},
   "source": [
    "76.Create a NumPy array `arr1` with values from 1 to 10. Create a copy of `arr1` named `copy_arr` and modify\n",
    "an element in `copy_arr`. Check if modifying `copy_arr` affects `arr1`."
   ]
  },
  {
   "cell_type": "code",
   "execution_count": 32,
   "id": "e512b875-6b84-4df7-b5f1-fb522c7487da",
   "metadata": {},
   "outputs": [
    {
     "name": "stdout",
     "output_type": "stream",
     "text": [
      "Original Array (arr1):\n",
      "[ 1  2  3  4  5  6  7  8  9 10]\n",
      "\n",
      "Copy of Array (copy_arr) before modification:\n",
      "[ 1  2  3  4  5  6  7  8  9 10]\n",
      "\n",
      "Copy of Array (copy_arr) after modification:\n",
      "[100   2   3   4   5   6   7   8   9  10]\n",
      "\n",
      "Original Array (arr1) after modification in copy:\n",
      "[ 1  2  3  4  5  6  7  8  9 10]\n"
     ]
    }
   ],
   "source": [
    "import numpy as np\n",
    "\n",
    "# Create the original NumPy array\n",
    "arr1 = np.arange(1, 11)\n",
    "\n",
    "# Create a copy of arr1\n",
    "copy_arr = arr1.copy()\n",
    "\n",
    "# Print the original array and its copy before modification\n",
    "print(\"Original Array (arr1):\")\n",
    "print(arr1)\n",
    "\n",
    "print(\"\\nCopy of Array (copy_arr) before modification:\")\n",
    "print(copy_arr)\n",
    "\n",
    "# Modify an element in the copy\n",
    "copy_arr[0] = 100\n",
    "\n",
    "# Print the original array and its copy after modification\n",
    "print(\"\\nCopy of Array (copy_arr) after modification:\")\n",
    "print(copy_arr)\n",
    "\n",
    "print(\"\\nOriginal Array (arr1) after modification in copy:\")\n",
    "print(arr1)\n"
   ]
  },
  {
   "cell_type": "markdown",
   "id": "0d07b8bb-d32c-4b5a-8eeb-8a1c2f8eb3f3",
   "metadata": {},
   "source": [
    "77.Create a 2D NumPy array `matrix` of shape (3, 3) with random integers. Extract a slice `view_slice` from\n",
    "the matrix. Modify an element in `view_slice` and observe if it changes the original `matrix`."
   ]
  },
  {
   "cell_type": "code",
   "execution_count": 33,
   "id": "b4185234-bf71-4431-9d56-2f91b9b08257",
   "metadata": {},
   "outputs": [
    {
     "name": "stdout",
     "output_type": "stream",
     "text": [
      "Original Matrix:\n",
      "[[1 7 6]\n",
      " [8 7 2]\n",
      " [5 4 5]]\n",
      "\n",
      "View Slice Before Modification:\n",
      "[[1 7]\n",
      " [8 7]]\n",
      "\n",
      "View Slice After Modification:\n",
      "[[999   7]\n",
      " [  8   7]]\n",
      "\n",
      "Original Matrix After Modification in Slice:\n",
      "[[999   7   6]\n",
      " [  8   7   2]\n",
      " [  5   4   5]]\n"
     ]
    }
   ],
   "source": [
    "import numpy as np\n",
    "\n",
    "# Create a 2D NumPy array with random integers of shape (3, 3)\n",
    "matrix = np.random.randint(1, 10, size=(3, 3))\n",
    "\n",
    "# Print the original matrix\n",
    "print(\"Original Matrix:\")\n",
    "print(matrix)\n",
    "\n",
    "# Extract a slice from the matrix (e.g., the sub-array of the first two rows and columns)\n",
    "view_slice = matrix[:2, :2]\n",
    "\n",
    "# Print the slice before modification\n",
    "print(\"\\nView Slice Before Modification:\")\n",
    "print(view_slice)\n",
    "\n",
    "# Modify an element in the view_slice\n",
    "view_slice[0, 0] = 999\n",
    "\n",
    "# Print the slice and the original matrix after modification\n",
    "print(\"\\nView Slice After Modification:\")\n",
    "print(view_slice)\n",
    "\n",
    "print(\"\\nOriginal Matrix After Modification in Slice:\")\n",
    "print(matrix)\n"
   ]
  },
  {
   "cell_type": "markdown",
   "id": "1ce4f1e1-2293-4962-98e2-e66e63640e6d",
   "metadata": {},
   "source": [
    "78.Create a NumPy array `array_a` of shape (4, 3) with sequential integers from 1 to 12. Extract a slice\n",
    "`view_b` from `array_a` and broadcast the addition of 5 to view_b. Check if it alters the original `array_a`"
   ]
  },
  {
   "cell_type": "code",
   "execution_count": 34,
   "id": "3946a6f1-0c1a-4586-ac21-287995d1568b",
   "metadata": {},
   "outputs": [
    {
     "name": "stdout",
     "output_type": "stream",
     "text": [
      "Original Array (array_a):\n",
      "[[ 1  2  3]\n",
      " [ 4  5  6]\n",
      " [ 7  8  9]\n",
      " [10 11 12]]\n",
      "\n",
      "View Slice Before Modification (view_b):\n",
      "[[1 2]\n",
      " [4 5]]\n",
      "\n",
      "View Slice After Broadcasting Addition:\n",
      "[[ 6  7]\n",
      " [ 9 10]]\n",
      "\n",
      "Original Array After Modification in Slice (array_a):\n",
      "[[ 6  7  3]\n",
      " [ 9 10  6]\n",
      " [ 7  8  9]\n",
      " [10 11 12]]\n"
     ]
    }
   ],
   "source": [
    "import numpy as np\n",
    "\n",
    "# Create a NumPy array with sequential integers from 1 to 12\n",
    "array_a = np.arange(1, 13).reshape((4, 3))\n",
    "\n",
    "# Print the original array\n",
    "print(\"Original Array (array_a):\")\n",
    "print(array_a)\n",
    "\n",
    "# Extract a slice from array_a\n",
    "view_b = array_a[:2, :2]\n",
    "\n",
    "# Print the slice before modification\n",
    "print(\"\\nView Slice Before Modification (view_b):\")\n",
    "print(view_b)\n",
    "\n",
    "# Add 5 to the slice using broadcasting\n",
    "view_b += 5\n",
    "\n",
    "# Print the slice and the original array after modification\n",
    "print(\"\\nView Slice After Broadcasting Addition:\")\n",
    "print(view_b)\n",
    "\n",
    "print(\"\\nOriginal Array After Modification in Slice (array_a):\")\n",
    "print(array_a)\n"
   ]
  },
  {
   "cell_type": "markdown",
   "id": "8e96c85b-3b2c-4207-95a3-ff51f70eed7a",
   "metadata": {},
   "source": [
    "79.Create a NumPy array `orig_array` of shape (2, 4) with values from 1 to 8. Create a reshaped view\n",
    "`reshaped_view` of shape (4, 2) from orig_array. Modify an element in `reshaped_view` and check if it\n",
    "reflects changes in the original `orig_array`."
   ]
  },
  {
   "cell_type": "code",
   "execution_count": 36,
   "id": "2f9b3ce2-82b9-49fc-8505-2cf125f7763d",
   "metadata": {},
   "outputs": [
    {
     "name": "stdout",
     "output_type": "stream",
     "text": [
      "Original Array (orig_array):\n",
      "[[1 2 3 4]\n",
      " [5 6 7 8]]\n",
      "\n",
      "Reshaped View Before Modification (reshaped_view):\n",
      "[[1 2]\n",
      " [3 4]\n",
      " [5 6]\n",
      " [7 8]]\n",
      "\n",
      "Reshaped View After Modification:\n",
      "[[999   2]\n",
      " [  3   4]\n",
      " [  5   6]\n",
      " [  7   8]]\n",
      "\n",
      "Original Array After Modification in View (orig_array):\n",
      "[[999   2   3   4]\n",
      " [  5   6   7   8]]\n"
     ]
    }
   ],
   "source": [
    "import numpy as np\n",
    "\n",
    "# Create the original NumPy array with values from 1 to 8\n",
    "orig_array = np.arange(1, 9).reshape((2, 4))\n",
    "\n",
    "# Print the original array\n",
    "print(\"Original Array (orig_array):\")\n",
    "print(orig_array)\n",
    "\n",
    "# Create a reshaped view of shape (4, 2) from orig_array\n",
    "reshaped_view = orig_array.reshape((4, 2))\n",
    "\n",
    "# Print the reshaped view before modification\n",
    "print(\"\\nReshaped View Before Modification (reshaped_view):\")\n",
    "print(reshaped_view)\n",
    "\n",
    "# Modify an element in the reshaped view\n",
    "reshaped_view[0, 0] = 999\n",
    "\n",
    "# Print the reshaped view and the original array after modification\n",
    "print(\"\\nReshaped View After Modification:\")\n",
    "print(reshaped_view)\n",
    "\n",
    "print(\"\\nOriginal Array After Modification in View (orig_array):\")\n",
    "print(orig_array)\n"
   ]
  },
  {
   "cell_type": "markdown",
   "id": "5019e179-5062-46ea-bd72-3b4b84b9e3bf",
   "metadata": {},
   "source": [
    "80.Create a NumPy array `data` of shape (3, 4) with random integers. Extract a copy `data_copy` of\n",
    "elements greater than 5. Modify an element in `data_copy` and verify if it affects the original `data`."
   ]
  },
  {
   "cell_type": "code",
   "execution_count": 37,
   "id": "4b6bf783-a48f-493f-80fd-bd0519275f3c",
   "metadata": {},
   "outputs": [
    {
     "name": "stdout",
     "output_type": "stream",
     "text": [
      "Original Data Array (data):\n",
      "[[3 4 5 3]\n",
      " [5 6 7 9]\n",
      " [2 3 8 1]]\n",
      "\n",
      "Data Copy Before Modification (data_copy):\n",
      "[6 7 9 8]\n",
      "\n",
      "Data Copy After Modification:\n",
      "[999   7   9   8]\n",
      "\n",
      "Original Data Array After Modification in Copy (data):\n",
      "[[3 4 5 3]\n",
      " [5 6 7 9]\n",
      " [2 3 8 1]]\n"
     ]
    }
   ],
   "source": [
    "import numpy as np\n",
    "\n",
    "# Create a NumPy array with random integers of shape (3, 4)\n",
    "data = np.random.randint(1, 10, size=(3, 4))\n",
    "\n",
    "# Print the original array\n",
    "print(\"Original Data Array (data):\")\n",
    "print(data)\n",
    "\n",
    "# Extract a copy of elements greater than 5\n",
    "data_copy = data[data > 5].copy()\n",
    "\n",
    "# Print the copy before modification\n",
    "print(\"\\nData Copy Before Modification (data_copy):\")\n",
    "print(data_copy)\n",
    "\n",
    "# Modify an element in the data copy\n",
    "data_copy[0] = 999\n",
    "\n",
    "# Print the copy and the original array after modification\n",
    "print(\"\\nData Copy After Modification:\")\n",
    "print(data_copy)\n",
    "\n",
    "print(\"\\nOriginal Data Array After Modification in Copy (data):\")\n",
    "print(data)\n"
   ]
  },
  {
   "cell_type": "markdown",
   "id": "6f4d02d0-8445-4e89-b970-44fd0b9aaa78",
   "metadata": {},
   "source": [
    "81.Create two matrices A and B of identical shape containing integers and perform addition and subtraction\n",
    "operations between them."
   ]
  },
  {
   "cell_type": "code",
   "execution_count": 38,
   "id": "49c75f38-1c78-4f7b-adbc-c8561dbb2fa0",
   "metadata": {},
   "outputs": [
    {
     "name": "stdout",
     "output_type": "stream",
     "text": [
      "Matrix A:\n",
      "[[1 2 3]\n",
      " [4 5 6]\n",
      " [7 8 9]]\n",
      "\n",
      "Matrix B:\n",
      "[[9 8 7]\n",
      " [6 5 4]\n",
      " [3 2 1]]\n",
      "\n",
      "Addition Result (A + B):\n",
      "[[10 10 10]\n",
      " [10 10 10]\n",
      " [10 10 10]]\n",
      "\n",
      "Subtraction Result (A - B):\n",
      "[[-8 -6 -4]\n",
      " [-2  0  2]\n",
      " [ 4  6  8]]\n"
     ]
    }
   ],
   "source": [
    "import numpy as np\n",
    "\n",
    "# Create two matrices A and B of identical shape with integers\n",
    "A = np.array([[1, 2, 3], [4, 5, 6], [7, 8, 9]])\n",
    "B = np.array([[9, 8, 7], [6, 5, 4], [3, 2, 1]])\n",
    "\n",
    "# Perform addition\n",
    "addition_result = A + B\n",
    "\n",
    "# Perform subtraction\n",
    "subtraction_result = A - B\n",
    "\n",
    "# Print the results\n",
    "print(\"Matrix A:\")\n",
    "print(A)\n",
    "\n",
    "print(\"\\nMatrix B:\")\n",
    "print(B)\n",
    "\n",
    "print(\"\\nAddition Result (A + B):\")\n",
    "print(addition_result)\n",
    "\n",
    "print(\"\\nSubtraction Result (A - B):\")\n",
    "print(subtraction_result)\n"
   ]
  },
  {
   "cell_type": "markdown",
   "id": "dc95f611-62e7-47de-936d-6001384a80a6",
   "metadata": {},
   "source": [
    "82.Generate two matrices `C` (3x2) and `D` (2x4) and perform matrix multiplication."
   ]
  },
  {
   "cell_type": "code",
   "execution_count": 39,
   "id": "226c201f-11d8-483b-a950-30442bee1bba",
   "metadata": {},
   "outputs": [
    {
     "name": "stdout",
     "output_type": "stream",
     "text": [
      "Matrix C:\n",
      "[[1 2]\n",
      " [3 4]\n",
      " [5 6]]\n",
      "\n",
      "Matrix D:\n",
      "[[ 7  8  9 10]\n",
      " [11 12 13 14]]\n",
      "\n",
      "Matrix Multiplication Result (C @ D):\n",
      "[[ 29  32  35  38]\n",
      " [ 65  72  79  86]\n",
      " [101 112 123 134]]\n"
     ]
    }
   ],
   "source": [
    "import numpy as np\n",
    "\n",
    "# Create matrix C of shape (3, 2)\n",
    "C = np.array([[1, 2], \n",
    "              [3, 4], \n",
    "              [5, 6]])\n",
    "\n",
    "# Create matrix D of shape (2, 4)\n",
    "D = np.array([[7, 8, 9, 10], \n",
    "              [11, 12, 13, 14]])\n",
    "\n",
    "# Perform matrix multiplication\n",
    "result = np.dot(C, D)\n",
    "\n",
    "# Print the matrices and the result\n",
    "print(\"Matrix C:\")\n",
    "print(C)\n",
    "\n",
    "print(\"\\nMatrix D:\")\n",
    "print(D)\n",
    "\n",
    "print(\"\\nMatrix Multiplication Result (C @ D):\")\n",
    "print(result)\n"
   ]
  },
  {
   "cell_type": "markdown",
   "id": "e2018ba0-5dfa-47e3-9367-ab75ff14b738",
   "metadata": {},
   "source": [
    "83.Create a matrix `E` and find its transpose."
   ]
  },
  {
   "cell_type": "code",
   "execution_count": 40,
   "id": "1656e5fd-f172-4fb6-ab60-f97c6cbb70c1",
   "metadata": {},
   "outputs": [
    {
     "name": "stdout",
     "output_type": "stream",
     "text": [
      "Matrix E:\n",
      "[[1 2 3]\n",
      " [4 5 6]\n",
      " [7 8 9]]\n",
      "\n",
      "Transpose of Matrix E (E^T):\n",
      "[[1 4 7]\n",
      " [2 5 8]\n",
      " [3 6 9]]\n"
     ]
    }
   ],
   "source": [
    "import numpy as np\n",
    "\n",
    "# Create matrix E\n",
    "E = np.array([[1, 2, 3], \n",
    "              [4, 5, 6], \n",
    "              [7, 8, 9]])\n",
    "\n",
    "# Find the transpose of the matrix E\n",
    "E_transpose = np.transpose(E)\n",
    "\n",
    "# Print the original matrix and its transpose\n",
    "print(\"Matrix E:\")\n",
    "print(E)\n",
    "\n",
    "print(\"\\nTranspose of Matrix E (E^T):\")\n",
    "print(E_transpose)\n"
   ]
  },
  {
   "cell_type": "markdown",
   "id": "9536be6a-25ae-4f29-9832-bfeb297b97cb",
   "metadata": {},
   "source": [
    "84.Generate a square matrix `F` and compute its determinant."
   ]
  },
  {
   "cell_type": "code",
   "execution_count": 41,
   "id": "0a70f34b-e29e-408c-a35b-fa5e73d460f7",
   "metadata": {},
   "outputs": [
    {
     "name": "stdout",
     "output_type": "stream",
     "text": [
      "Matrix F:\n",
      "[[4 2 3]\n",
      " [3 5 6]\n",
      " [7 8 9]]\n",
      "\n",
      "Determinant of Matrix F:\n",
      "-15.000000000000007\n"
     ]
    }
   ],
   "source": [
    "import numpy as np\n",
    "\n",
    "# Create another square matrix F\n",
    "F = np.array([[4, 2, 3], \n",
    "              [3, 5, 6], \n",
    "              [7, 8, 9]])\n",
    "\n",
    "# Compute the determinant of matrix F\n",
    "determinant_F = np.linalg.det(F)\n",
    "\n",
    "# Print the original matrix and its determinant\n",
    "print(\"Matrix F:\")\n",
    "print(F)\n",
    "\n",
    "print(\"\\nDeterminant of Matrix F:\")\n",
    "print(determinant_F)\n"
   ]
  },
  {
   "cell_type": "markdown",
   "id": "c395fdd0-fbfa-4d0d-a492-3a26e4edce61",
   "metadata": {},
   "source": [
    "85.Create a square matrix `G` and find its inverse."
   ]
  },
  {
   "cell_type": "code",
   "execution_count": 42,
   "id": "0e2538be-b0c7-4d0e-a8fc-09501b30c3b3",
   "metadata": {},
   "outputs": [
    {
     "name": "stdout",
     "output_type": "stream",
     "text": [
      "Matrix G:\n",
      "[[1 2 3]\n",
      " [0 1 4]\n",
      " [5 6 0]]\n",
      "\n",
      "Inverse of Matrix G (G^-1):\n",
      "[[-24.  18.   5.]\n",
      " [ 20. -15.  -4.]\n",
      " [ -5.   4.   1.]]\n"
     ]
    }
   ],
   "source": [
    "import numpy as np\n",
    "\n",
    "# Create another square matrix G\n",
    "G = np.array([[1, 2, 3], \n",
    "              [0, 1, 4], \n",
    "              [5, 6, 0]])\n",
    "\n",
    "# Compute the inverse of matrix G\n",
    "G_inverse = np.linalg.inv(G)\n",
    "\n",
    "# Print the original matrix and its inverse\n",
    "print(\"Matrix G:\")\n",
    "print(G)\n",
    "\n",
    "print(\"\\nInverse of Matrix G (G^-1):\")\n",
    "print(G_inverse)\n"
   ]
  }
 ],
 "metadata": {
  "kernelspec": {
   "display_name": "Python 3 (ipykernel)",
   "language": "python",
   "name": "python3"
  },
  "language_info": {
   "codemirror_mode": {
    "name": "ipython",
    "version": 3
   },
   "file_extension": ".py",
   "mimetype": "text/x-python",
   "name": "python",
   "nbconvert_exporter": "python",
   "pygments_lexer": "ipython3",
   "version": "3.10.8"
  }
 },
 "nbformat": 4,
 "nbformat_minor": 5
}
